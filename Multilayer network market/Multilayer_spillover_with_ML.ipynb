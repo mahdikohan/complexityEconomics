{
  "cells": [
    {
      "cell_type": "code",
      "execution_count": null,
      "metadata": {
        "id": "snZ1oR0hvciN"
      },
      "outputs": [],
      "source": [
        "import yfinance as yf\n",
        "import pandas as pd\n",
        "import numpy as np\n",
        "import matplotlib.pyplot as plt\n",
        "from statsmodels.tsa.stattools import grangercausalitytests\n",
        "import pickle"
      ]
    },
    {
      "cell_type": "code",
      "execution_count": null,
      "metadata": {
        "id": "maNN6z8MvpSs"
      },
      "outputs": [],
      "source": [
        "sp500_tickers = [\n",
        "    'AAPL', 'MSFT', 'GOOGL', 'AMZN', 'NVDA', 'TSLA', 'META', 'BRK.B', 'V', 'JPM', 'UNH', 'HD', 'PYPL', 'DIS', 'MA', 'PG',\n",
        "    'VZ', 'NFLX', 'INTC', 'KO', 'PEP', 'BA', 'XOM', 'CVX', 'CSCO', 'WMT', 'T', 'MCD', 'ORCL', 'CAT', 'MRK', 'COST',\n",
        "    'GE', 'BABA', 'ABBV', 'ADBE', 'AXP', 'CRM', 'AMGN', 'INTU', 'AMT', 'NKE', 'GS', 'WBA', 'SBUX', 'CSX', 'LMT', 'MDT', 'GS',\n",
        "    'SPGI', 'BIIB', 'LUV', 'UNP', 'ISRG', 'CI', 'CVS', 'TMO', 'HON', 'LRCX', 'SHW', 'RTX', 'MMM', 'BKNG', 'ITW', 'FISV', 'MU',\n",
        "    'QCOM', 'CHTR', 'STZ', 'TSCO', 'F', 'DE', 'NEE', 'MS', 'ZTS', 'WFC', 'PLD', 'AON', 'BMY', 'MMC', 'FIS', 'KHC', 'SLB', 'APD',\n",
        "    'MDLZ', 'CHD', 'HUM', 'AIG', 'EL', 'SYK', 'HCA', 'DUK', 'ALL', 'C', 'OXY', 'HPE', 'SPG', 'SYY', 'VLO', 'ES', 'VMC', 'FTNT',\n",
        "    'DHR', 'EOG', 'IT', 'AFL', 'NOC', 'COP', 'GILD', 'VRTX', 'WDC', 'MSCI', 'ADP', 'EXC', 'FANG', 'ZBH', 'CTSH', 'NEM', 'LHX',\n",
        "    'DOW', 'BKR', 'APTV', 'TDG', 'CHKP', 'KMB', 'IQV', 'PFE', 'MU', 'BIIB', 'RMD', 'WEC', 'VFC', 'CME', 'LULU', 'MCK', 'ROST',\n",
        "    'DG', 'O', 'TGT', 'SWKS', 'TROW', 'PKI', 'AEP', 'PEP', 'STT', 'MCO', 'AIZ', 'DHI', 'CTAS', 'SPGI', 'ADSK', 'FSLR', 'HIG',\n",
        "    'CSX', 'NUE', 'TMUS', 'FTV', 'EXPD', 'BAX', 'MTD', 'SWK', 'ETN', 'MMC', 'FCX', 'KSU', 'PSX', 'WMT', 'RSG', 'LNC', 'PLUG',\n",
        "    'TWTR', 'SQ', 'GOOG', 'MELI', 'DOCU', 'SPOT', 'BIDU', 'UBER', 'LYFT', 'PINS', 'SNAP', 'SQ', 'FSLR', 'SPLK', 'NVDA', 'PYPL',\n",
        "    'RNG', 'VEEV', 'ZS', 'ZM', 'DOCU', 'MDB', 'PINS', 'COST', 'NTES', 'ROKU', 'INTC', 'COST', 'MRNA', 'VEEV', 'SHOP', 'FVRR',\n",
        "    'WBA', 'NKE', 'TMO', 'IDXX', 'SWKS', 'MCD', 'AEP', 'AMT', 'EXC', 'KLAC', 'AON', 'VRTX', 'LULU', 'ZBH', 'HCA', 'FISV',\n",
        "    'TGT', 'MU', 'AMT', 'UNP', 'CME', 'VFC', 'SYY', 'SYK', 'CVS', 'SBUX', 'PFE', 'TROW', 'NEE', 'SPLK', 'FIS', 'FANG', 'PNC',\n",
        "    'TXN', 'CSCO', 'TMO', 'PGR', 'AMGN', 'SHOP', 'V', 'KMB', 'ROST', 'DXC', 'TAP', 'IDXX', 'BAX', 'LMT', 'RMD', 'ITW', 'RSG',\n",
        "    'REGN', 'COST', 'LMT', 'DHR', 'JPM', 'C', 'LUV', 'HUM', 'APD', 'MS', 'HCA', 'WDC', 'ABT', 'COST', 'AMZN', 'MA', 'MSFT', 'VZ',\n",
        "    'PFE', 'WMT', 'BMY', 'ZTS', 'GD', 'WFC', 'CHTR', 'GILD', 'FIS', 'ZBH', 'BIIB', 'LOW', 'NEE', 'VEEV', 'SWK', 'BA', 'MSCI',\n",
        "    'AVGO', 'GS', 'MU', 'UNH', 'DE', 'KHC', 'EXC', 'XOM', 'PYPL', 'LHX', 'LULU', 'CVS', 'GE', 'DOW', 'BABA', 'MDT', 'AAPL',\n",
        "    'HCA', 'BA', 'BAX', 'SBUX', 'NOC', 'LLY', 'ROKU', 'CHKP', 'SNAP', 'WEC', 'EL', 'COF', 'WMT', 'ZBH', 'PEP', 'EXPD', 'PLD',\n",
        "    'SPGI', 'MRNA', 'AMGN', 'HD', 'INTC', 'BIIB', 'ORCL', 'PG', 'CME', 'FCX', 'ALGN', 'MMM', 'V', 'BMY', 'STZ', 'DHR', 'VMC',\n",
        "    'COP', 'NTES', 'RTX', 'KO', 'GE', 'JNJ', 'AVGO', 'NSC', 'EOG', 'GPN', 'ADP', 'SYY', 'NEE', 'COST', 'SPGI', 'RSG', 'DLR',\n",
        "    'BKR', 'SPLK', 'PLD', 'VFC', 'TMO', 'LMT', 'EOG', 'CVS', 'NEM', 'MRK', 'AMGN', 'GOOG', 'CAT', 'AIG', 'CVX', 'CVS', 'AIG',\n",
        "    'TROW', 'CSX', 'MMC', 'RMD', 'HON', 'ZTS', 'AXP', 'T', 'ADSK', 'FTV', 'LHX', 'MSCI', 'PFE', 'DXC', 'LULU', 'PG', 'AMT',\n",
        "    'BAX', 'CSCO', 'HCA', 'DIS', 'VZ', 'IQV', 'EXC', 'AXP', 'REGN', 'CTAS', 'WEC', 'FISV', 'UNP', 'PEP', 'VLO', 'NKE', 'TRV',\n",
        "    'GE', 'NUE', 'NEE', 'INTC', 'ALXN', 'AON', 'IDXX', 'AAPL', 'WMT', 'TMO', 'MDT', 'HON', 'XOM', 'LMT', 'SBUX', 'MMM', 'KMB',\n",
        "    'APD', 'WDC', 'MSCI', 'ZTS', 'KHC', 'GS', 'AIG', 'BMY', 'PYPL', 'WFC', 'LUV', 'PG', 'AMGN', 'ZBH', 'NVDA', 'TGT', 'CRM'\n",
        "]"
      ]
    },
    {
      "cell_type": "code",
      "execution_count": null,
      "metadata": {
        "id": "7PC3bNKF0y6P"
      },
      "outputs": [],
      "source": [
        "# data = yf.download(sp500_tickers, start='2000-01-01', end='2025-04-01', auto_adjust=True)\n",
        "\n",
        "# with open('/content/drive/MyDrive/data_Multilayer spillover with ML/data_2000_20250401_yfinance.pkl', 'wb') as f:\n",
        "#     pickle.dump(data, f)\n",
        "\n",
        "with open('/content/drive/MyDrive/data_Multilayer spillover with ML/data_2000_20250401_yfinance.pkl', 'rb') as file:\n",
        "    data = pickle.load(file)"
      ]
    },
    {
      "cell_type": "code",
      "execution_count": null,
      "metadata": {
        "id": "kOM6b8EPBrOY"
      },
      "outputs": [],
      "source": [
        "df_sp500_price = data['Close'].dropna(axis=1).dropna()"
      ]
    },
    {
      "cell_type": "code",
      "execution_count": null,
      "metadata": {
        "id": "4V9KWfYm1Br1"
      },
      "outputs": [],
      "source": [
        "df_sp500_return = data['Close'].dropna(axis=1).dropna().pct_change().dropna()"
      ]
    },
    {
      "cell_type": "code",
      "execution_count": null,
      "metadata": {
        "id": "NYGlTHrQ-TLP"
      },
      "outputs": [],
      "source": [
        "df_sp500_tmp_close = data['Close']\n",
        "df_sp500_tmp_volume = data['Volume']"
      ]
    },
    {
      "cell_type": "code",
      "execution_count": null,
      "metadata": {
        "id": "uWHoSGlB-uc_"
      },
      "outputs": [],
      "source": [
        "df_sp500_tradingval_tmp = df_sp500_tmp_close * df_sp500_tmp_volume\n",
        "df_sp500_tradingval = df_sp500_tradingval_tmp.dropna(axis=1).dropna()"
      ]
    },
    {
      "cell_type": "code",
      "execution_count": null,
      "metadata": {
        "id": "R8ACUuha-vef"
      },
      "outputs": [],
      "source": [
        "layers = [df_sp500_price.head(10), df_sp500_return.head(10), df_sp500_tradingval.head(10)]"
      ]
    },
    {
      "cell_type": "markdown",
      "metadata": {
        "id": "SDU2Uhte5RsY"
      },
      "source": [
        "# `granger_causality_all_pairs()`\n",
        "Granger test has been written for find relation between securities (nodes) in each layer."
      ]
    },
    {
      "cell_type": "code",
      "execution_count": null,
      "metadata": {
        "id": "Le6zOMNb3lqm"
      },
      "outputs": [],
      "source": [
        "import warnings\n",
        "warnings.filterwarnings(\"ignore\")\n",
        "\n",
        "import numpy as np\n",
        "from statsmodels.tsa.stattools import grangercausalitytests\n",
        "from joblib import Parallel, delayed\n",
        "from tqdm import tqdm\n",
        "import pandas as pd\n",
        "\n",
        "def granger_causality_all_pairs(df, max_lag=[1], num_threads=8):\n",
        "    cols = df.columns\n",
        "    num_columns = len(cols)\n",
        "    p_values = np.zeros((num_columns, num_columns))\n",
        "\n",
        "    # Function to process each pair of columns\n",
        "    def process_pair(i, j):\n",
        "        try:\n",
        "            result = grangercausalitytests(df[[df.columns[i], df.columns[j]]], max_lag, verbose=False)\n",
        "            return (i, j, result[1][0]['ssr_chi2test'][1])  # Return the pair and p-value\n",
        "        except Exception as e:\n",
        "            print(f\" ======================== Exception ======================== \")\n",
        "            print(f\"Failed pair: {i}, {j}\")\n",
        "            print(f\"Data:\\n{df[[df.columns[i], df.columns[j]]].head()}\")\n",
        "            print(f\"Error: {e}\")\n",
        "            return (i, j, None)  # Return None for failed pair\n",
        "\n",
        "    # Create a list of tasks (i, j) pairs to process in parallel\n",
        "    tasks = [(i, j) for i in range(num_columns) for j in range(num_columns) if i != j]\n",
        "\n",
        "    # Use joblib to parallelize the processing of pairs\n",
        "    results = Parallel(n_jobs=num_threads)(delayed(process_pair)(i, j) for i, j in tqdm(tasks, desc=\"Processing Pairs\", total=len(tasks)))\n",
        "\n",
        "    # Store the results in the p_values matrix\n",
        "    for i, j, p_value in results:\n",
        "        if p_value is not None:\n",
        "            p_values[i, j] = p_value\n",
        "\n",
        "    # Convert the p_values matrix into a DataFrame with proper column names\n",
        "    p_values_df = pd.DataFrame(p_values, columns=cols, index=cols)\n",
        "\n",
        "    return p_values_df\n"
      ]
    },
    {
      "cell_type": "markdown",
      "metadata": {
        "id": "IxZKTYas25fd"
      },
      "source": [
        "**Sliding window is incrementing with 30 days steps and 100 days as window length**\n",
        "\n",
        "This part implements a sliding window technique on time-series data, where the window slides forward in increments of 30 days. Each window represents a 100-day span, allowing for efficient processing and analysis of data in overlapping segments."
      ]
    },
    {
      "cell_type": "code",
      "execution_count": null,
      "metadata": {
        "id": "WeZmDovl1zn8"
      },
      "outputs": [],
      "source": [
        "import time\n",
        "\n",
        "def rolling_window_on_data(df):\n",
        "  for unit in np.arange(step=30,stop=len(df)):\n",
        "    window = df.iloc[unit:unit+100]\n",
        "    maxx = window.index.max()\n",
        "\n",
        "    # Cut boundry before loss data in length of window\n",
        "    if maxx >= np.datetime64('2025-03-31 00:00:00'): break\n",
        "    yield window"
      ]
    },
    {
      "cell_type": "code",
      "execution_count": null,
      "metadata": {
        "id": "cVi_9ZuoGuAt"
      },
      "outputs": [],
      "source": [
        "with open('/content/drive/MyDrive/data_Multilayer spillover with ML/layers/layer1/sp500_return_times_209_evolution.pkl', 'rb') as file:\n",
        "    layer_return = pickle.load(file)\n",
        "\n",
        "with open('/content/drive/MyDrive/data_Multilayer spillover with ML/layers/layer2/sp500_price_times_209_evolution.pkl', 'rb') as file:\n",
        "    layer_price = pickle.load(file)\n",
        "\n",
        "with open('/content/drive/MyDrive/data_Multilayer spillover with ML/layers/layer3/sp500_tradingval_times_209_evolution.pkl', 'rb') as file:\n",
        "    layer_tradval = pickle.load(file)\n",
        "\n"
      ]
    },
    {
      "cell_type": "markdown",
      "metadata": {
        "id": "zqHJAxdPoUy_"
      },
      "source": [
        "This part trying to calculate granger causality and save them with determined frequency in a folder in google drive."
      ]
    },
    {
      "cell_type": "code",
      "execution_count": null,
      "metadata": {
        "id": "IZg3z5eEGfaI"
      },
      "outputs": [],
      "source": [
        "\n",
        "def run_window_func_exec(input_df_window):\n",
        "  layer0_t_evolution = []\n",
        "\n",
        "  for i,layer_0_t in enumerate(rolling_window_on_data(input_df_window)):\n",
        "    if i>=0:\n",
        "      print(i,layer_0_t.index.min(), layer_0_t.index.max(), sep=',')\n",
        "      p_values_matrix = granger_causality_all_pairs(layer_0_t, max_lag=[1])\n",
        "      layer0_t_evolution.append(p_values_matrix)\n",
        "\n",
        "      print(f'step: {len(layer0_t_evolution)}')\n",
        "      print(f'elements: {len(layer0_t_evolution[len(layer0_t_evolution)-1])}')\n",
        "\n",
        "      if i%5 == 0:\n",
        "        with open(f'/content/drive/MyDrive/data_Multilayer spillover with ML/layers/XXXX/layer3_tradingval_{i}_times_evolution.pkl', 'wb') as f:\n",
        "          pickle.dump(layer0_t_evolution, f)"
      ]
    },
    {
      "cell_type": "code",
      "execution_count": null,
      "metadata": {
        "colab": {
          "base_uri": "https://localhost:8080/",
          "height": 332
        },
        "id": "DJtQYt_2oP7B",
        "outputId": "dd66b594-e7fc-4bab-fbc2-b1d0e45c354b"
      },
      "outputs": [
        {
          "output_type": "execute_result",
          "data": {
            "text/plain": [
              "<matplotlib.colorbar.Colorbar at 0x7bfe8658c2d0>"
            ]
          },
          "metadata": {},
          "execution_count": 13
        },
        {
          "output_type": "display_data",
          "data": {
            "text/plain": [
              "<Figure size 1500x300 with 6 Axes>"
            ],
            "image/png": "[encoded data removed]"
          },
          "metadata": {}
        }
      ],
      "source": [
        "fig, axs = plt.subplots(1,3, figsize=(15, 3))\n",
        "\n",
        "t = 100\n",
        "\n",
        "df0 = layer_price[t]\n",
        "axs[0].imshow(df0, cmap='coolwarm', interpolation='none')\n",
        "axs[0].set_title('Price P-values')\n",
        "fig.colorbar(axs[0].imshow(df0, cmap='coolwarm', interpolation='none'), ax=axs[0], label='p-value')\n",
        "\n",
        "df1 = layer_return[t]\n",
        "axs[1].imshow(df1, cmap='coolwarm', interpolation='none')\n",
        "axs[1].set_title('Return P-values')\n",
        "fig.colorbar(axs[1].imshow(df1, cmap='coolwarm', interpolation='none'), ax=axs[1], label='p-value')\n",
        "\n",
        "df2 = layer_tradval[t]\n",
        "axs[2].imshow(df2, cmap='coolwarm', interpolation='none')\n",
        "axs[2].set_title('Trading Value P-values')\n",
        "fig.colorbar(axs[2].imshow(df2, cmap='coolwarm', interpolation='none'), ax=axs[2], label='p-value')"
      ]
    },
    {
      "cell_type": "code",
      "execution_count": null,
      "metadata": {
        "id": "0qRumw7kVFea"
      },
      "outputs": [],
      "source": [
        "from sklearn.ensemble import RandomForestRegressor\n",
        "from joblib import Parallel, delayed\n",
        "import pandas as pd\n",
        "from tqdm import tqdm  # Import tqdm for progress bar\n",
        "\n",
        "def build_weighted_adjacency_matrix_rf(target_df, feature_df, lag=1, n_estimators=100, random_state=42, n_jobs=-1):\n",
        "    \"\"\"\n",
        "    Build a weighted adjacency matrix using Random Forest feature importances as weights.\n",
        "\n",
        "    Parameters:\n",
        "    - target_df: DataFrame of prices (targets)\n",
        "    - feature_df: DataFrame of volumes (features)\n",
        "    - lag: How many time steps to shift feature_df\n",
        "    - n_estimators: Number of trees in the forest\n",
        "    - random_state: Random seed for reproducibility\n",
        "    - n_jobs: Number of jobs to run in parallel (use -1 for all cores)\n",
        "\n",
        "    Returns:\n",
        "    - weighted_adjacency_df: DataFrame (targets x features), weighted by feature importance\n",
        "    \"\"\"\n",
        "    feature_df_shifted = feature_df.shift(lag)\n",
        "\n",
        "    # Function to calculate feature importances for each target column\n",
        "    def compute_feature_importances(target_col):\n",
        "        df_combined = pd.concat([feature_df_shifted, target_df[target_col]], axis=1).dropna()\n",
        "        X = df_combined[feature_df.columns]\n",
        "        y = df_combined[target_col]\n",
        "\n",
        "        rf = RandomForestRegressor(n_estimators=n_estimators, random_state=random_state)\n",
        "        rf.fit(X, y)\n",
        "        return pd.Series(rf.feature_importances_, index=X.columns)\n",
        "\n",
        "    # Set up tqdm with joblib's Parallel to show progress bar\n",
        "    # The `tqdm` wraps the iterator to display progress for parallel execution\n",
        "    adjacency_data = Parallel(n_jobs=n_jobs)(\n",
        "        delayed(compute_feature_importances)(target_col)\n",
        "        for target_col in tqdm(target_df.columns, desc=\"Processing target columns\")\n",
        "    )\n",
        "\n",
        "    # Create weighted adjacency matrix\n",
        "    weighted_adjacency_df = pd.DataFrame(adjacency_data, index=target_df.columns, columns=feature_df.columns)\n",
        "    return weighted_adjacency_df\n"
      ]
    },
    {
      "cell_type": "code",
      "execution_count": null,
      "metadata": {
        "id": "3G5wyfEeGieA"
      },
      "outputs": [],
      "source": [
        "\n",
        "# Test health of a file (pickle files)\n",
        "\n",
        "# with open('/content/drive/MyDrive/data_Multilayer spillover with ML/layers/interlayer32/interlayer32_s_tradval_t_return_70_times_evolution.pkl', 'rb') as file:\n",
        "#     test_lastcheck_point = pickle.load(file)\n",
        "\n",
        "# print(len(test_lastcheck_point))\n",
        "\n",
        "# test_lastcheck_point[70]\n",
        "\n",
        "\n"
      ]
    },
    {
      "cell_type": "code",
      "execution_count": 16,
      "metadata": {
        "colab": {
          "base_uri": "https://localhost:8080/"
        },
        "id": "XntrFaVvqgcJ",
        "outputId": "4db19874-b600-4a15-c889-865a93699092"
      },
      "outputs": [
        {
          "metadata": {
            "tags": null
          },
          "name": "stderr",
          "output_type": "stream",
          "text": [
            "Processing target columns: 100%|██████████| 140/140 [01:57<00:00,  1.20it/s]\n"
          ]
        },
        {
          "metadata": {
            "tags": null
          },
          "name": "stdout",
          "output_type": "stream",
          "text": [
            "step:71\n"
          ]
        },
        {
          "metadata": {
            "tags": null
          },
          "name": "stderr",
          "output_type": "stream",
          "text": [
            "Processing target columns: 100%|██████████| 140/140 [01:48<00:00,  1.29it/s]\n"
          ]
        },
        {
          "metadata": {
            "tags": null
          },
          "name": "stdout",
          "output_type": "stream",
          "text": [
            "step:72\n"
          ]
        },
        {
          "metadata": {
            "tags": null
          },
          "name": "stderr",
          "output_type": "stream",
          "text": [
            "Processing target columns: 100%|██████████| 140/140 [01:42<00:00,  1.37it/s]\n"
          ]
        },
        {
          "metadata": {
            "tags": null
          },
          "name": "stdout",
          "output_type": "stream",
          "text": [
            "step:73\n"
          ]
        },
        {
          "metadata": {
            "tags": null
          },
          "name": "stderr",
          "output_type": "stream",
          "text": [
            "Processing target columns: 100%|██████████| 140/140 [01:41<00:00,  1.38it/s]\n"
          ]
        },
        {
          "metadata": {
            "tags": null
          },
          "name": "stdout",
          "output_type": "stream",
          "text": [
            "step:74\n"
          ]
        },
        {
          "metadata": {
            "tags": null
          },
          "name": "stderr",
          "output_type": "stream",
          "text": [
            "Processing target columns: 100%|██████████| 140/140 [01:41<00:00,  1.38it/s]\n"
          ]
        },
        {
          "metadata": {
            "tags": null
          },
          "name": "stdout",
          "output_type": "stream",
          "text": [
            "step:75\n"
          ]
        },
        {
          "metadata": {
            "tags": null
          },
          "name": "stderr",
          "output_type": "stream",
          "text": [
            "Processing target columns: 100%|██████████| 140/140 [01:42<00:00,  1.36it/s]\n"
          ]
        },
        {
          "metadata": {
            "tags": null
          },
          "name": "stdout",
          "output_type": "stream",
          "text": [
            "step:76\n"
          ]
        },
        {
          "metadata": {
            "tags": null
          },
          "name": "stderr",
          "output_type": "stream",
          "text": [
            "Processing target columns: 100%|██████████| 140/140 [01:43<00:00,  1.36it/s]\n"
          ]
        },
        {
          "metadata": {
            "tags": null
          },
          "name": "stdout",
          "output_type": "stream",
          "text": [
            "step:77\n"
          ]
        },
        {
          "metadata": {
            "tags": null
          },
          "name": "stderr",
          "output_type": "stream",
          "text": [
            "Processing target columns: 100%|██████████| 140/140 [01:46<00:00,  1.32it/s]\n"
          ]
        },
        {
          "metadata": {
            "tags": null
          },
          "name": "stdout",
          "output_type": "stream",
          "text": [
            "step:78\n"
          ]
        },
        {
          "metadata": {
            "tags": null
          },
          "name": "stderr",
          "output_type": "stream",
          "text": [
            "Processing target columns: 100%|██████████| 140/140 [01:41<00:00,  1.38it/s]\n"
          ]
        },
        {
          "metadata": {
            "tags": null
          },
          "name": "stdout",
          "output_type": "stream",
          "text": [
            "step:79\n"
          ]
        },
        {
          "metadata": {
            "tags": null
          },
          "name": "stderr",
          "output_type": "stream",
          "text": [
            "Processing target columns: 100%|██████████| 140/140 [01:42<00:00,  1.36it/s]\n"
          ]
        },
        {
          "metadata": {
            "tags": null
          },
          "name": "stdout",
          "output_type": "stream",
          "text": [
            "step:80\n"
          ]
        },
        {
          "metadata": {
            "tags": null
          },
          "name": "stderr",
          "output_type": "stream",
          "text": [
            "Processing target columns: 100%|██████████| 140/140 [01:43<00:00,  1.35it/s]\n"
          ]
        },
        {
          "metadata": {
            "tags": null
          },
          "name": "stdout",
          "output_type": "stream",
          "text": [
            "step:81\n"
          ]
        },
        {
          "metadata": {
            "tags": null
          },
          "name": "stderr",
          "output_type": "stream",
          "text": [
            "Processing target columns: 100%|██████████| 140/140 [01:42<00:00,  1.36it/s]\n"
          ]
        },
        {
          "metadata": {
            "tags": null
          },
          "name": "stdout",
          "output_type": "stream",
          "text": [
            "step:82\n"
          ]
        },
        {
          "metadata": {
            "tags": null
          },
          "name": "stderr",
          "output_type": "stream",
          "text": [
            "Processing target columns: 100%|██████████| 140/140 [01:43<00:00,  1.35it/s]\n"
          ]
        },
        {
          "metadata": {
            "tags": null
          },
          "name": "stdout",
          "output_type": "stream",
          "text": [
            "step:83\n"
          ]
        },
        {
          "metadata": {
            "tags": null
          },
          "name": "stderr",
          "output_type": "stream",
          "text": [
            "Processing target columns: 100%|██████████| 140/140 [01:45<00:00,  1.33it/s]\n"
          ]
        },
        {
          "metadata": {
            "tags": null
          },
          "name": "stdout",
          "output_type": "stream",
          "text": [
            "step:84\n"
          ]
        },
        {
          "metadata": {
            "tags": null
          },
          "name": "stderr",
          "output_type": "stream",
          "text": [
            "Processing target columns: 100%|██████████| 140/140 [01:44<00:00,  1.34it/s]\n"
          ]
        },
        {
          "metadata": {
            "tags": null
          },
          "name": "stdout",
          "output_type": "stream",
          "text": [
            "step:85\n"
          ]
        },
        {
          "metadata": {
            "tags": null
          },
          "name": "stderr",
          "output_type": "stream",
          "text": [
            "Processing target columns: 100%|██████████| 140/140 [01:43<00:00,  1.36it/s]\n"
          ]
        },
        {
          "metadata": {
            "tags": null
          },
          "name": "stdout",
          "output_type": "stream",
          "text": [
            "step:86\n"
          ]
        },
        {
          "metadata": {
            "tags": null
          },
          "name": "stderr",
          "output_type": "stream",
          "text": [
            "Processing target columns: 100%|██████████| 140/140 [01:40<00:00,  1.40it/s]\n"
          ]
        },
        {
          "metadata": {
            "tags": null
          },
          "name": "stdout",
          "output_type": "stream",
          "text": [
            "step:87\n"
          ]
        },
        {
          "metadata": {
            "tags": null
          },
          "name": "stderr",
          "output_type": "stream",
          "text": [
            "Processing target columns: 100%|██████████| 140/140 [01:39<00:00,  1.40it/s]\n"
          ]
        },
        {
          "metadata": {
            "tags": null
          },
          "name": "stdout",
          "output_type": "stream",
          "text": [
            "step:88\n"
          ]
        },
        {
          "metadata": {
            "tags": null
          },
          "name": "stderr",
          "output_type": "stream",
          "text": [
            "Processing target columns: 100%|██████████| 140/140 [01:41<00:00,  1.38it/s]\n"
          ]
        },
        {
          "metadata": {
            "tags": null
          },
          "name": "stdout",
          "output_type": "stream",
          "text": [
            "step:89\n"
          ]
        },
        {
          "metadata": {
            "tags": null
          },
          "name": "stderr",
          "output_type": "stream",
          "text": [
            "Processing target columns: 100%|██████████| 140/140 [01:40<00:00,  1.39it/s]\n"
          ]
        },
        {
          "metadata": {
            "tags": null
          },
          "name": "stdout",
          "output_type": "stream",
          "text": [
            "step:90\n"
          ]
        },
        {
          "metadata": {
            "tags": null
          },
          "name": "stderr",
          "output_type": "stream",
          "text": [
            "Processing target columns: 100%|██████████| 140/140 [01:41<00:00,  1.38it/s]\n"
          ]
        },
        {
          "metadata": {
            "tags": null
          },
          "name": "stdout",
          "output_type": "stream",
          "text": [
            "step:91\n"
          ]
        },
        {
          "metadata": {
            "tags": null
          },
          "name": "stderr",
          "output_type": "stream",
          "text": [
            "Processing target columns: 100%|██████████| 140/140 [01:43<00:00,  1.36it/s]\n"
          ]
        },
        {
          "metadata": {
            "tags": null
          },
          "name": "stdout",
          "output_type": "stream",
          "text": [
            "step:92\n"
          ]
        },
        {
          "metadata": {
            "tags": null
          },
          "name": "stderr",
          "output_type": "stream",
          "text": [
            "Processing target columns: 100%|██████████| 140/140 [01:42<00:00,  1.37it/s]\n"
          ]
        },
        {
          "metadata": {
            "tags": null
          },
          "name": "stdout",
          "output_type": "stream",
          "text": [
            "step:93\n"
          ]
        },
        {
          "metadata": {
            "tags": null
          },
          "name": "stderr",
          "output_type": "stream",
          "text": [
            "Processing target columns: 100%|██████████| 140/140 [01:50<00:00,  1.27it/s]\n"
          ]
        },
        {
          "metadata": {
            "tags": null
          },
          "name": "stdout",
          "output_type": "stream",
          "text": [
            "step:94\n"
          ]
        },
        {
          "metadata": {
            "tags": null
          },
          "name": "stderr",
          "output_type": "stream",
          "text": [
            "Processing target columns: 100%|██████████| 140/140 [01:48<00:00,  1.28it/s]\n"
          ]
        },
        {
          "metadata": {
            "tags": null
          },
          "name": "stdout",
          "output_type": "stream",
          "text": [
            "step:95\n"
          ]
        },
        {
          "metadata": {
            "tags": null
          },
          "name": "stderr",
          "output_type": "stream",
          "text": [
            "Processing target columns: 100%|██████████| 140/140 [01:43<00:00,  1.35it/s]\n"
          ]
        },
        {
          "metadata": {
            "tags": null
          },
          "name": "stdout",
          "output_type": "stream",
          "text": [
            "step:96\n"
          ]
        },
        {
          "metadata": {
            "tags": null
          },
          "name": "stderr",
          "output_type": "stream",
          "text": [
            "Processing target columns: 100%|██████████| 140/140 [01:43<00:00,  1.36it/s]\n"
          ]
        },
        {
          "metadata": {
            "tags": null
          },
          "name": "stdout",
          "output_type": "stream",
          "text": [
            "step:97\n"
          ]
        },
        {
          "metadata": {
            "tags": null
          },
          "name": "stderr",
          "output_type": "stream",
          "text": [
            "Processing target columns: 100%|██████████| 140/140 [01:42<00:00,  1.36it/s]\n"
          ]
        },
        {
          "metadata": {
            "tags": null
          },
          "name": "stdout",
          "output_type": "stream",
          "text": [
            "step:98\n"
          ]
        },
        {
          "metadata": {
            "tags": null
          },
          "name": "stderr",
          "output_type": "stream",
          "text": [
            "Processing target columns: 100%|██████████| 140/140 [01:46<00:00,  1.32it/s]\n"
          ]
        },
        {
          "metadata": {
            "tags": null
          },
          "name": "stdout",
          "output_type": "stream",
          "text": [
            "step:99\n"
          ]
        },
        {
          "metadata": {
            "tags": null
          },
          "name": "stderr",
          "output_type": "stream",
          "text": [
            "Processing target columns: 100%|██████████| 140/140 [01:44<00:00,  1.34it/s]\n"
          ]
        },
        {
          "metadata": {
            "tags": null
          },
          "name": "stdout",
          "output_type": "stream",
          "text": [
            "step:100\n"
          ]
        },
        {
          "metadata": {
            "tags": null
          },
          "name": "stderr",
          "output_type": "stream",
          "text": [
            "Processing target columns: 100%|██████████| 140/140 [01:45<00:00,  1.32it/s]\n"
          ]
        },
        {
          "metadata": {
            "tags": null
          },
          "name": "stdout",
          "output_type": "stream",
          "text": [
            "step:101\n"
          ]
        },
        {
          "metadata": {
            "tags": null
          },
          "name": "stderr",
          "output_type": "stream",
          "text": [
            "Processing target columns: 100%|██████████| 140/140 [01:44<00:00,  1.34it/s]\n"
          ]
        },
        {
          "metadata": {
            "tags": null
          },
          "name": "stdout",
          "output_type": "stream",
          "text": [
            "step:102\n"
          ]
        },
        {
          "metadata": {
            "tags": null
          },
          "name": "stderr",
          "output_type": "stream",
          "text": [
            "Processing target columns: 100%|██████████| 140/140 [01:47<00:00,  1.30it/s]\n"
          ]
        },
        {
          "metadata": {
            "tags": null
          },
          "name": "stdout",
          "output_type": "stream",
          "text": [
            "step:103\n"
          ]
        },
        {
          "metadata": {
            "tags": null
          },
          "name": "stderr",
          "output_type": "stream",
          "text": [
            "Processing target columns: 100%|██████████| 140/140 [01:45<00:00,  1.33it/s]\n"
          ]
        },
        {
          "metadata": {
            "tags": null
          },
          "name": "stdout",
          "output_type": "stream",
          "text": [
            "step:104\n"
          ]
        },
        {
          "metadata": {
            "tags": null
          },
          "name": "stderr",
          "output_type": "stream",
          "text": [
            "Processing target columns: 100%|██████████| 140/140 [01:46<00:00,  1.32it/s]\n"
          ]
        },
        {
          "metadata": {
            "tags": null
          },
          "name": "stdout",
          "output_type": "stream",
          "text": [
            "step:105\n"
          ]
        },
        {
          "metadata": {
            "tags": null
          },
          "name": "stderr",
          "output_type": "stream",
          "text": [
            "Processing target columns: 100%|██████████| 140/140 [01:45<00:00,  1.32it/s]\n"
          ]
        },
        {
          "metadata": {
            "tags": null
          },
          "name": "stdout",
          "output_type": "stream",
          "text": [
            "step:106\n"
          ]
        },
        {
          "metadata": {
            "tags": null
          },
          "name": "stderr",
          "output_type": "stream",
          "text": [
            "Processing target columns: 100%|██████████| 140/140 [01:44<00:00,  1.34it/s]\n"
          ]
        },
        {
          "metadata": {
            "tags": null
          },
          "name": "stdout",
          "output_type": "stream",
          "text": [
            "step:107\n"
          ]
        },
        {
          "metadata": {
            "tags": null
          },
          "name": "stderr",
          "output_type": "stream",
          "text": [
            "Processing target columns: 100%|██████████| 140/140 [01:43<00:00,  1.35it/s]\n"
          ]
        },
        {
          "metadata": {
            "tags": null
          },
          "name": "stdout",
          "output_type": "stream",
          "text": [
            "step:108\n"
          ]
        },
        {
          "metadata": {
            "tags": null
          },
          "name": "stderr",
          "output_type": "stream",
          "text": [
            "Processing target columns: 100%|██████████| 140/140 [01:47<00:00,  1.30it/s]\n"
          ]
        },
        {
          "metadata": {
            "tags": null
          },
          "name": "stdout",
          "output_type": "stream",
          "text": [
            "step:109\n"
          ]
        },
        {
          "metadata": {
            "tags": null
          },
          "name": "stderr",
          "output_type": "stream",
          "text": [
            "Processing target columns: 100%|██████████| 140/140 [01:39<00:00,  1.41it/s]\n"
          ]
        },
        {
          "metadata": {
            "tags": null
          },
          "name": "stdout",
          "output_type": "stream",
          "text": [
            "step:110\n"
          ]
        },
        {
          "metadata": {
            "tags": null
          },
          "name": "stderr",
          "output_type": "stream",
          "text": [
            "Processing target columns: 100%|██████████| 140/140 [01:40<00:00,  1.39it/s]\n"
          ]
        },
        {
          "metadata": {
            "tags": null
          },
          "name": "stdout",
          "output_type": "stream",
          "text": [
            "step:111\n"
          ]
        },
        {
          "metadata": {
            "tags": null
          },
          "name": "stderr",
          "output_type": "stream",
          "text": [
            "Processing target columns: 100%|██████████| 140/140 [01:42<00:00,  1.37it/s]\n"
          ]
        },
        {
          "metadata": {
            "tags": null
          },
          "name": "stdout",
          "output_type": "stream",
          "text": [
            "step:112\n"
          ]
        },
        {
          "metadata": {
            "tags": null
          },
          "name": "stderr",
          "output_type": "stream",
          "text": [
            "Processing target columns: 100%|██████████| 140/140 [01:40<00:00,  1.39it/s]\n"
          ]
        },
        {
          "metadata": {
            "tags": null
          },
          "name": "stdout",
          "output_type": "stream",
          "text": [
            "step:113\n"
          ]
        },
        {
          "metadata": {
            "tags": null
          },
          "name": "stderr",
          "output_type": "stream",
          "text": [
            "Processing target columns: 100%|██████████| 140/140 [01:39<00:00,  1.41it/s]\n"
          ]
        },
        {
          "metadata": {
            "tags": null
          },
          "name": "stdout",
          "output_type": "stream",
          "text": [
            "step:114\n"
          ]
        },
        {
          "metadata": {
            "tags": null
          },
          "name": "stderr",
          "output_type": "stream",
          "text": [
            "Processing target columns: 100%|██████████| 140/140 [01:42<00:00,  1.36it/s]\n"
          ]
        },
        {
          "metadata": {
            "tags": null
          },
          "name": "stdout",
          "output_type": "stream",
          "text": [
            "step:115\n"
          ]
        },
        {
          "metadata": {
            "tags": null
          },
          "name": "stderr",
          "output_type": "stream",
          "text": [
            "Processing target columns: 100%|██████████| 140/140 [01:42<00:00,  1.37it/s]\n"
          ]
        },
        {
          "metadata": {
            "tags": null
          },
          "name": "stdout",
          "output_type": "stream",
          "text": [
            "step:116\n"
          ]
        },
        {
          "metadata": {
            "tags": null
          },
          "name": "stderr",
          "output_type": "stream",
          "text": [
            "Processing target columns: 100%|██████████| 140/140 [01:40<00:00,  1.39it/s]\n"
          ]
        },
        {
          "metadata": {
            "tags": null
          },
          "name": "stdout",
          "output_type": "stream",
          "text": [
            "step:117\n"
          ]
        },
        {
          "metadata": {
            "tags": null
          },
          "name": "stderr",
          "output_type": "stream",
          "text": [
            "Processing target columns: 100%|██████████| 140/140 [01:44<00:00,  1.34it/s]\n"
          ]
        },
        {
          "metadata": {
            "tags": null
          },
          "name": "stdout",
          "output_type": "stream",
          "text": [
            "step:118\n"
          ]
        },
        {
          "metadata": {
            "tags": null
          },
          "name": "stderr",
          "output_type": "stream",
          "text": [
            "Processing target columns: 100%|██████████| 140/140 [01:42<00:00,  1.36it/s]\n"
          ]
        },
        {
          "metadata": {
            "tags": null
          },
          "name": "stdout",
          "output_type": "stream",
          "text": [
            "step:119\n"
          ]
        },
        {
          "metadata": {
            "tags": null
          },
          "name": "stderr",
          "output_type": "stream",
          "text": [
            "Processing target columns: 100%|██████████| 140/140 [01:43<00:00,  1.36it/s]\n"
          ]
        },
        {
          "metadata": {
            "tags": null
          },
          "name": "stdout",
          "output_type": "stream",
          "text": [
            "step:120\n"
          ]
        },
        {
          "metadata": {
            "tags": null
          },
          "name": "stderr",
          "output_type": "stream",
          "text": [
            "Processing target columns: 100%|██████████| 140/140 [01:42<00:00,  1.37it/s]\n"
          ]
        },
        {
          "metadata": {
            "tags": null
          },
          "name": "stdout",
          "output_type": "stream",
          "text": [
            "step:121\n"
          ]
        },
        {
          "metadata": {
            "tags": null
          },
          "name": "stderr",
          "output_type": "stream",
          "text": [
            "Processing target columns: 100%|██████████| 140/140 [01:41<00:00,  1.38it/s]\n"
          ]
        },
        {
          "metadata": {
            "tags": null
          },
          "name": "stdout",
          "output_type": "stream",
          "text": [
            "step:122\n"
          ]
        },
        {
          "metadata": {
            "tags": null
          },
          "name": "stderr",
          "output_type": "stream",
          "text": [
            "Processing target columns: 100%|██████████| 140/140 [01:41<00:00,  1.38it/s]\n"
          ]
        },
        {
          "metadata": {
            "tags": null
          },
          "name": "stdout",
          "output_type": "stream",
          "text": [
            "step:123\n"
          ]
        },
        {
          "metadata": {
            "tags": null
          },
          "name": "stderr",
          "output_type": "stream",
          "text": [
            "Processing target columns: 100%|██████████| 140/140 [01:40<00:00,  1.40it/s]\n"
          ]
        },
        {
          "metadata": {
            "tags": null
          },
          "name": "stdout",
          "output_type": "stream",
          "text": [
            "step:124\n"
          ]
        },
        {
          "metadata": {
            "tags": null
          },
          "name": "stderr",
          "output_type": "stream",
          "text": [
            "Processing target columns: 100%|██████████| 140/140 [01:38<00:00,  1.42it/s]\n"
          ]
        },
        {
          "metadata": {
            "tags": null
          },
          "name": "stdout",
          "output_type": "stream",
          "text": [
            "step:125\n"
          ]
        },
        {
          "metadata": {
            "tags": null
          },
          "name": "stderr",
          "output_type": "stream",
          "text": [
            "Processing target columns: 100%|██████████| 140/140 [01:42<00:00,  1.36it/s]\n"
          ]
        },
        {
          "metadata": {
            "tags": null
          },
          "name": "stdout",
          "output_type": "stream",
          "text": [
            "step:126\n"
          ]
        },
        {
          "metadata": {
            "tags": null
          },
          "name": "stderr",
          "output_type": "stream",
          "text": [
            "Processing target columns: 100%|██████████| 140/140 [01:40<00:00,  1.40it/s]\n"
          ]
        },
        {
          "metadata": {
            "tags": null
          },
          "name": "stdout",
          "output_type": "stream",
          "text": [
            "step:127\n"
          ]
        },
        {
          "metadata": {
            "tags": null
          },
          "name": "stderr",
          "output_type": "stream",
          "text": [
            "Processing target columns: 100%|██████████| 140/140 [01:46<00:00,  1.32it/s]\n"
          ]
        },
        {
          "metadata": {
            "tags": null
          },
          "name": "stdout",
          "output_type": "stream",
          "text": [
            "step:128\n"
          ]
        },
        {
          "metadata": {
            "tags": null
          },
          "name": "stderr",
          "output_type": "stream",
          "text": [
            "Processing target columns: 100%|██████████| 140/140 [01:44<00:00,  1.34it/s]\n"
          ]
        },
        {
          "metadata": {
            "tags": null
          },
          "name": "stdout",
          "output_type": "stream",
          "text": [
            "step:129\n"
          ]
        },
        {
          "metadata": {
            "tags": null
          },
          "name": "stderr",
          "output_type": "stream",
          "text": [
            "Processing target columns: 100%|██████████| 140/140 [01:41<00:00,  1.37it/s]\n"
          ]
        },
        {
          "metadata": {
            "tags": null
          },
          "name": "stdout",
          "output_type": "stream",
          "text": [
            "step:130\n"
          ]
        },
        {
          "metadata": {
            "tags": null
          },
          "name": "stderr",
          "output_type": "stream",
          "text": [
            "Processing target columns: 100%|██████████| 140/140 [01:40<00:00,  1.40it/s]\n"
          ]
        },
        {
          "metadata": {
            "tags": null
          },
          "name": "stdout",
          "output_type": "stream",
          "text": [
            "step:131\n"
          ]
        },
        {
          "metadata": {
            "tags": null
          },
          "name": "stderr",
          "output_type": "stream",
          "text": [
            "Processing target columns: 100%|██████████| 140/140 [01:42<00:00,  1.37it/s]\n"
          ]
        },
        {
          "metadata": {
            "tags": null
          },
          "name": "stdout",
          "output_type": "stream",
          "text": [
            "step:132\n"
          ]
        },
        {
          "metadata": {
            "tags": null
          },
          "name": "stderr",
          "output_type": "stream",
          "text": [
            "Processing target columns: 100%|██████████| 140/140 [01:38<00:00,  1.42it/s]\n"
          ]
        },
        {
          "metadata": {
            "tags": null
          },
          "name": "stdout",
          "output_type": "stream",
          "text": [
            "step:133\n"
          ]
        },
        {
          "metadata": {
            "tags": null
          },
          "name": "stderr",
          "output_type": "stream",
          "text": [
            "Processing target columns: 100%|██████████| 140/140 [01:41<00:00,  1.38it/s]\n"
          ]
        },
        {
          "metadata": {
            "tags": null
          },
          "name": "stdout",
          "output_type": "stream",
          "text": [
            "step:134\n"
          ]
        },
        {
          "metadata": {
            "tags": null
          },
          "name": "stderr",
          "output_type": "stream",
          "text": [
            "Processing target columns: 100%|██████████| 140/140 [01:44<00:00,  1.35it/s]\n"
          ]
        },
        {
          "metadata": {
            "tags": null
          },
          "name": "stdout",
          "output_type": "stream",
          "text": [
            "step:135\n"
          ]
        },
        {
          "metadata": {
            "tags": null
          },
          "name": "stderr",
          "output_type": "stream",
          "text": [
            "Processing target columns: 100%|██████████| 140/140 [01:45<00:00,  1.33it/s]\n"
          ]
        },
        {
          "metadata": {
            "tags": null
          },
          "name": "stdout",
          "output_type": "stream",
          "text": [
            "step:136\n"
          ]
        },
        {
          "metadata": {
            "tags": null
          },
          "name": "stderr",
          "output_type": "stream",
          "text": [
            "Processing target columns: 100%|██████████| 140/140 [01:47<00:00,  1.30it/s]\n"
          ]
        },
        {
          "metadata": {
            "tags": null
          },
          "name": "stdout",
          "output_type": "stream",
          "text": [
            "step:137\n"
          ]
        },
        {
          "metadata": {
            "tags": null
          },
          "name": "stderr",
          "output_type": "stream",
          "text": [
            "Processing target columns: 100%|██████████| 140/140 [01:48<00:00,  1.29it/s]\n"
          ]
        },
        {
          "metadata": {
            "tags": null
          },
          "name": "stdout",
          "output_type": "stream",
          "text": [
            "step:138\n"
          ]
        },
        {
          "metadata": {
            "tags": null
          },
          "name": "stderr",
          "output_type": "stream",
          "text": [
            "Processing target columns: 100%|██████████| 140/140 [01:44<00:00,  1.33it/s]\n"
          ]
        },
        {
          "metadata": {
            "tags": null
          },
          "name": "stdout",
          "output_type": "stream",
          "text": [
            "step:139\n"
          ]
        },
        {
          "metadata": {
            "tags": null
          },
          "name": "stderr",
          "output_type": "stream",
          "text": [
            "Processing target columns: 100%|██████████| 140/140 [01:47<00:00,  1.30it/s]\n"
          ]
        },
        {
          "metadata": {
            "tags": null
          },
          "name": "stdout",
          "output_type": "stream",
          "text": [
            "step:140\n"
          ]
        },
        {
          "metadata": {
            "tags": null
          },
          "name": "stderr",
          "output_type": "stream",
          "text": [
            "Processing target columns: 100%|██████████| 140/140 [01:46<00:00,  1.32it/s]\n"
          ]
        },
        {
          "metadata": {
            "tags": null
          },
          "name": "stdout",
          "output_type": "stream",
          "text": [
            "step:141\n"
          ]
        },
        {
          "metadata": {
            "tags": null
          },
          "name": "stderr",
          "output_type": "stream",
          "text": [
            "Processing target columns: 100%|██████████| 140/140 [01:44<00:00,  1.34it/s]\n"
          ]
        },
        {
          "metadata": {
            "tags": null
          },
          "name": "stdout",
          "output_type": "stream",
          "text": [
            "step:142\n"
          ]
        },
        {
          "metadata": {
            "tags": null
          },
          "name": "stderr",
          "output_type": "stream",
          "text": [
            "Processing target columns: 100%|██████████| 140/140 [01:46<00:00,  1.32it/s]\n"
          ]
        },
        {
          "metadata": {
            "tags": null
          },
          "name": "stdout",
          "output_type": "stream",
          "text": [
            "step:143\n"
          ]
        },
        {
          "metadata": {
            "tags": null
          },
          "name": "stderr",
          "output_type": "stream",
          "text": [
            "Processing target columns: 100%|██████████| 140/140 [01:45<00:00,  1.33it/s]\n"
          ]
        },
        {
          "metadata": {
            "tags": null
          },
          "name": "stdout",
          "output_type": "stream",
          "text": [
            "step:144\n"
          ]
        },
        {
          "metadata": {
            "tags": null
          },
          "name": "stderr",
          "output_type": "stream",
          "text": [
            "Processing target columns: 100%|██████████| 140/140 [01:45<00:00,  1.33it/s]\n"
          ]
        },
        {
          "metadata": {
            "tags": null
          },
          "name": "stdout",
          "output_type": "stream",
          "text": [
            "step:145\n"
          ]
        },
        {
          "metadata": {
            "tags": null
          },
          "name": "stderr",
          "output_type": "stream",
          "text": [
            "Processing target columns: 100%|██████████| 140/140 [01:44<00:00,  1.34it/s]\n"
          ]
        },
        {
          "metadata": {
            "tags": null
          },
          "name": "stdout",
          "output_type": "stream",
          "text": [
            "step:146\n"
          ]
        },
        {
          "metadata": {
            "tags": null
          },
          "name": "stderr",
          "output_type": "stream",
          "text": [
            "Processing target columns: 100%|██████████| 140/140 [01:45<00:00,  1.33it/s]\n"
          ]
        },
        {
          "metadata": {
            "tags": null
          },
          "name": "stdout",
          "output_type": "stream",
          "text": [
            "step:147\n"
          ]
        },
        {
          "metadata": {
            "tags": null
          },
          "name": "stderr",
          "output_type": "stream",
          "text": [
            "Processing target columns: 100%|██████████| 140/140 [01:44<00:00,  1.34it/s]\n"
          ]
        },
        {
          "metadata": {
            "tags": null
          },
          "name": "stdout",
          "output_type": "stream",
          "text": [
            "step:148\n"
          ]
        },
        {
          "metadata": {
            "tags": null
          },
          "name": "stderr",
          "output_type": "stream",
          "text": [
            "Processing target columns: 100%|██████████| 140/140 [01:46<00:00,  1.31it/s]\n"
          ]
        },
        {
          "metadata": {
            "tags": null
          },
          "name": "stdout",
          "output_type": "stream",
          "text": [
            "step:149\n"
          ]
        },
        {
          "metadata": {
            "tags": null
          },
          "name": "stderr",
          "output_type": "stream",
          "text": [
            "Processing target columns: 100%|██████████| 140/140 [01:44<00:00,  1.34it/s]\n"
          ]
        },
        {
          "metadata": {
            "tags": null
          },
          "name": "stdout",
          "output_type": "stream",
          "text": [
            "step:150\n"
          ]
        },
        {
          "metadata": {
            "tags": null
          },
          "name": "stderr",
          "output_type": "stream",
          "text": [
            "Processing target columns: 100%|██████████| 140/140 [01:42<00:00,  1.36it/s]\n"
          ]
        },
        {
          "metadata": {
            "tags": null
          },
          "name": "stdout",
          "output_type": "stream",
          "text": [
            "step:151\n"
          ]
        },
        {
          "metadata": {
            "tags": null
          },
          "name": "stderr",
          "output_type": "stream",
          "text": [
            "Processing target columns: 100%|██████████| 140/140 [01:40<00:00,  1.39it/s]\n"
          ]
        },
        {
          "metadata": {
            "tags": null
          },
          "name": "stdout",
          "output_type": "stream",
          "text": [
            "step:152\n"
          ]
        },
        {
          "metadata": {
            "tags": null
          },
          "name": "stderr",
          "output_type": "stream",
          "text": [
            "Processing target columns: 100%|██████████| 140/140 [01:45<00:00,  1.32it/s]\n"
          ]
        },
        {
          "metadata": {
            "tags": null
          },
          "name": "stdout",
          "output_type": "stream",
          "text": [
            "step:153\n"
          ]
        },
        {
          "metadata": {
            "tags": null
          },
          "name": "stderr",
          "output_type": "stream",
          "text": [
            "Processing target columns: 100%|██████████| 140/140 [01:42<00:00,  1.36it/s]\n"
          ]
        },
        {
          "metadata": {
            "tags": null
          },
          "name": "stdout",
          "output_type": "stream",
          "text": [
            "step:154\n"
          ]
        },
        {
          "metadata": {
            "tags": null
          },
          "name": "stderr",
          "output_type": "stream",
          "text": [
            "Processing target columns: 100%|██████████| 140/140 [01:47<00:00,  1.30it/s]\n"
          ]
        },
        {
          "metadata": {
            "tags": null
          },
          "name": "stdout",
          "output_type": "stream",
          "text": [
            "step:155\n"
          ]
        },
        {
          "metadata": {
            "tags": null
          },
          "name": "stderr",
          "output_type": "stream",
          "text": [
            "Processing target columns: 100%|██████████| 140/140 [01:45<00:00,  1.32it/s]\n"
          ]
        },
        {
          "metadata": {
            "tags": null
          },
          "name": "stdout",
          "output_type": "stream",
          "text": [
            "step:156\n"
          ]
        },
        {
          "metadata": {
            "tags": null
          },
          "name": "stderr",
          "output_type": "stream",
          "text": [
            "Processing target columns: 100%|██████████| 140/140 [01:44<00:00,  1.35it/s]\n"
          ]
        },
        {
          "metadata": {
            "tags": null
          },
          "name": "stdout",
          "output_type": "stream",
          "text": [
            "step:157\n"
          ]
        },
        {
          "metadata": {
            "tags": null
          },
          "name": "stderr",
          "output_type": "stream",
          "text": [
            "Processing target columns: 100%|██████████| 140/140 [01:45<00:00,  1.33it/s]\n"
          ]
        },
        {
          "metadata": {
            "tags": null
          },
          "name": "stdout",
          "output_type": "stream",
          "text": [
            "step:158\n"
          ]
        },
        {
          "metadata": {
            "tags": null
          },
          "name": "stderr",
          "output_type": "stream",
          "text": [
            "Processing target columns: 100%|██████████| 140/140 [01:46<00:00,  1.32it/s]\n"
          ]
        },
        {
          "metadata": {
            "tags": null
          },
          "name": "stdout",
          "output_type": "stream",
          "text": [
            "step:159\n"
          ]
        },
        {
          "metadata": {
            "tags": null
          },
          "name": "stderr",
          "output_type": "stream",
          "text": [
            "Processing target columns: 100%|██████████| 140/140 [01:42<00:00,  1.36it/s]\n"
          ]
        },
        {
          "metadata": {
            "tags": null
          },
          "name": "stdout",
          "output_type": "stream",
          "text": [
            "step:160\n"
          ]
        },
        {
          "metadata": {
            "tags": null
          },
          "name": "stderr",
          "output_type": "stream",
          "text": [
            "Processing target columns: 100%|██████████| 140/140 [01:44<00:00,  1.33it/s]\n"
          ]
        },
        {
          "metadata": {
            "tags": null
          },
          "name": "stdout",
          "output_type": "stream",
          "text": [
            "step:161\n"
          ]
        },
        {
          "metadata": {
            "tags": null
          },
          "name": "stderr",
          "output_type": "stream",
          "text": [
            "Processing target columns: 100%|██████████| 140/140 [01:42<00:00,  1.37it/s]\n"
          ]
        },
        {
          "metadata": {
            "tags": null
          },
          "name": "stdout",
          "output_type": "stream",
          "text": [
            "step:162\n"
          ]
        },
        {
          "metadata": {
            "tags": null
          },
          "name": "stderr",
          "output_type": "stream",
          "text": [
            "Processing target columns: 100%|██████████| 140/140 [01:41<00:00,  1.38it/s]\n"
          ]
        },
        {
          "metadata": {
            "tags": null
          },
          "name": "stdout",
          "output_type": "stream",
          "text": [
            "step:163\n"
          ]
        },
        {
          "metadata": {
            "tags": null
          },
          "name": "stderr",
          "output_type": "stream",
          "text": [
            "Processing target columns: 100%|██████████| 140/140 [01:41<00:00,  1.37it/s]\n"
          ]
        },
        {
          "metadata": {
            "tags": null
          },
          "name": "stdout",
          "output_type": "stream",
          "text": [
            "step:164\n"
          ]
        },
        {
          "metadata": {
            "tags": null
          },
          "name": "stderr",
          "output_type": "stream",
          "text": [
            "Processing target columns: 100%|██████████| 140/140 [01:40<00:00,  1.39it/s]\n"
          ]
        },
        {
          "metadata": {
            "tags": null
          },
          "name": "stdout",
          "output_type": "stream",
          "text": [
            "step:165\n"
          ]
        },
        {
          "metadata": {
            "tags": null
          },
          "name": "stderr",
          "output_type": "stream",
          "text": [
            "Processing target columns: 100%|██████████| 140/140 [01:54<00:00,  1.22it/s]\n"
          ]
        },
        {
          "metadata": {
            "tags": null
          },
          "name": "stdout",
          "output_type": "stream",
          "text": [
            "step:166\n"
          ]
        },
        {
          "metadata": {
            "tags": null
          },
          "name": "stderr",
          "output_type": "stream",
          "text": [
            "Processing target columns: 100%|██████████| 140/140 [01:52<00:00,  1.24it/s]\n"
          ]
        },
        {
          "metadata": {
            "tags": null
          },
          "name": "stdout",
          "output_type": "stream",
          "text": [
            "step:167\n"
          ]
        },
        {
          "metadata": {
            "tags": null
          },
          "name": "stderr",
          "output_type": "stream",
          "text": [
            "Processing target columns: 100%|██████████| 140/140 [01:48<00:00,  1.29it/s]\n"
          ]
        },
        {
          "metadata": {
            "tags": null
          },
          "name": "stdout",
          "output_type": "stream",
          "text": [
            "step:168\n"
          ]
        },
        {
          "metadata": {
            "tags": null
          },
          "name": "stderr",
          "output_type": "stream",
          "text": [
            "Processing target columns: 100%|██████████| 140/140 [01:49<00:00,  1.28it/s]\n"
          ]
        },
        {
          "metadata": {
            "tags": null
          },
          "name": "stdout",
          "output_type": "stream",
          "text": [
            "step:169\n"
          ]
        },
        {
          "metadata": {
            "tags": null
          },
          "name": "stderr",
          "output_type": "stream",
          "text": [
            "Processing target columns: 100%|██████████| 140/140 [01:41<00:00,  1.37it/s]\n"
          ]
        },
        {
          "metadata": {
            "tags": null
          },
          "name": "stdout",
          "output_type": "stream",
          "text": [
            "step:170\n"
          ]
        },
        {
          "metadata": {
            "tags": null
          },
          "name": "stderr",
          "output_type": "stream",
          "text": [
            "Processing target columns: 100%|██████████| 140/140 [01:44<00:00,  1.34it/s]\n"
          ]
        },
        {
          "metadata": {
            "tags": null
          },
          "name": "stdout",
          "output_type": "stream",
          "text": [
            "step:171\n"
          ]
        },
        {
          "metadata": {
            "tags": null
          },
          "name": "stderr",
          "output_type": "stream",
          "text": [
            "Processing target columns: 100%|██████████| 140/140 [01:43<00:00,  1.36it/s]\n"
          ]
        },
        {
          "metadata": {
            "tags": null
          },
          "name": "stdout",
          "output_type": "stream",
          "text": [
            "step:172\n"
          ]
        },
        {
          "metadata": {
            "tags": null
          },
          "name": "stderr",
          "output_type": "stream",
          "text": [
            "Processing target columns: 100%|██████████| 140/140 [01:41<00:00,  1.38it/s]\n"
          ]
        },
        {
          "metadata": {
            "tags": null
          },
          "name": "stdout",
          "output_type": "stream",
          "text": [
            "step:173\n"
          ]
        },
        {
          "metadata": {
            "tags": null
          },
          "name": "stderr",
          "output_type": "stream",
          "text": [
            "Processing target columns: 100%|██████████| 140/140 [01:44<00:00,  1.34it/s]\n"
          ]
        },
        {
          "metadata": {
            "tags": null
          },
          "name": "stdout",
          "output_type": "stream",
          "text": [
            "step:174\n"
          ]
        },
        {
          "metadata": {
            "tags": null
          },
          "name": "stderr",
          "output_type": "stream",
          "text": [
            "Processing target columns: 100%|██████████| 140/140 [01:40<00:00,  1.40it/s]\n"
          ]
        },
        {
          "metadata": {
            "tags": null
          },
          "name": "stdout",
          "output_type": "stream",
          "text": [
            "step:175\n"
          ]
        },
        {
          "metadata": {
            "tags": null
          },
          "name": "stderr",
          "output_type": "stream",
          "text": [
            "Processing target columns: 100%|██████████| 140/140 [01:42<00:00,  1.36it/s]\n"
          ]
        },
        {
          "metadata": {
            "tags": null
          },
          "name": "stdout",
          "output_type": "stream",
          "text": [
            "step:176\n"
          ]
        },
        {
          "metadata": {
            "tags": null
          },
          "name": "stderr",
          "output_type": "stream",
          "text": [
            "Processing target columns: 100%|██████████| 140/140 [01:41<00:00,  1.38it/s]\n"
          ]
        },
        {
          "metadata": {
            "tags": null
          },
          "name": "stdout",
          "output_type": "stream",
          "text": [
            "step:177\n"
          ]
        },
        {
          "metadata": {
            "tags": null
          },
          "name": "stderr",
          "output_type": "stream",
          "text": [
            "Processing target columns: 100%|██████████| 140/140 [01:42<00:00,  1.37it/s]\n"
          ]
        },
        {
          "metadata": {
            "tags": null
          },
          "name": "stdout",
          "output_type": "stream",
          "text": [
            "step:178\n"
          ]
        },
        {
          "metadata": {
            "tags": null
          },
          "name": "stderr",
          "output_type": "stream",
          "text": [
            "Processing target columns: 100%|██████████| 140/140 [01:44<00:00,  1.34it/s]\n"
          ]
        },
        {
          "metadata": {
            "tags": null
          },
          "name": "stdout",
          "output_type": "stream",
          "text": [
            "step:179\n"
          ]
        },
        {
          "metadata": {
            "tags": null
          },
          "name": "stderr",
          "output_type": "stream",
          "text": [
            "Processing target columns: 100%|██████████| 140/140 [01:40<00:00,  1.40it/s]\n"
          ]
        },
        {
          "metadata": {
            "tags": null
          },
          "name": "stdout",
          "output_type": "stream",
          "text": [
            "step:180\n"
          ]
        },
        {
          "metadata": {
            "tags": null
          },
          "name": "stderr",
          "output_type": "stream",
          "text": [
            "Processing target columns: 100%|██████████| 140/140 [01:41<00:00,  1.38it/s]\n"
          ]
        },
        {
          "metadata": {
            "tags": null
          },
          "name": "stdout",
          "output_type": "stream",
          "text": [
            "step:181\n"
          ]
        },
        {
          "metadata": {
            "tags": null
          },
          "name": "stderr",
          "output_type": "stream",
          "text": [
            "Processing target columns: 100%|██████████| 140/140 [01:42<00:00,  1.37it/s]\n"
          ]
        },
        {
          "metadata": {
            "tags": null
          },
          "name": "stdout",
          "output_type": "stream",
          "text": [
            "step:182\n"
          ]
        },
        {
          "metadata": {
            "tags": null
          },
          "name": "stderr",
          "output_type": "stream",
          "text": [
            "Processing target columns: 100%|██████████| 140/140 [01:40<00:00,  1.39it/s]\n"
          ]
        },
        {
          "metadata": {
            "tags": null
          },
          "name": "stdout",
          "output_type": "stream",
          "text": [
            "step:183\n"
          ]
        },
        {
          "metadata": {
            "tags": null
          },
          "name": "stderr",
          "output_type": "stream",
          "text": [
            "Processing target columns: 100%|██████████| 140/140 [01:42<00:00,  1.36it/s]\n"
          ]
        },
        {
          "metadata": {
            "tags": null
          },
          "name": "stdout",
          "output_type": "stream",
          "text": [
            "step:184\n"
          ]
        },
        {
          "metadata": {
            "tags": null
          },
          "name": "stderr",
          "output_type": "stream",
          "text": [
            "Processing target columns: 100%|██████████| 140/140 [01:39<00:00,  1.41it/s]\n"
          ]
        },
        {
          "metadata": {
            "tags": null
          },
          "name": "stdout",
          "output_type": "stream",
          "text": [
            "step:185\n"
          ]
        },
        {
          "metadata": {
            "tags": null
          },
          "name": "stderr",
          "output_type": "stream",
          "text": [
            "Processing target columns: 100%|██████████| 140/140 [01:38<00:00,  1.42it/s]\n"
          ]
        },
        {
          "metadata": {
            "tags": null
          },
          "name": "stdout",
          "output_type": "stream",
          "text": [
            "step:186\n"
          ]
        },
        {
          "metadata": {
            "tags": null
          },
          "name": "stderr",
          "output_type": "stream",
          "text": [
            "Processing target columns: 100%|██████████| 140/140 [01:42<00:00,  1.37it/s]\n"
          ]
        },
        {
          "metadata": {
            "tags": null
          },
          "name": "stdout",
          "output_type": "stream",
          "text": [
            "step:187\n"
          ]
        },
        {
          "metadata": {
            "tags": null
          },
          "name": "stderr",
          "output_type": "stream",
          "text": [
            "Processing target columns: 100%|██████████| 140/140 [01:37<00:00,  1.44it/s]\n"
          ]
        },
        {
          "metadata": {
            "tags": null
          },
          "name": "stdout",
          "output_type": "stream",
          "text": [
            "step:188\n"
          ]
        },
        {
          "metadata": {
            "tags": null
          },
          "name": "stderr",
          "output_type": "stream",
          "text": [
            "Processing target columns: 100%|██████████| 140/140 [01:40<00:00,  1.39it/s]\n"
          ]
        },
        {
          "metadata": {
            "tags": null
          },
          "name": "stdout",
          "output_type": "stream",
          "text": [
            "step:189\n"
          ]
        },
        {
          "metadata": {
            "tags": null
          },
          "name": "stderr",
          "output_type": "stream",
          "text": [
            "Processing target columns: 100%|██████████| 140/140 [01:41<00:00,  1.38it/s]\n"
          ]
        },
        {
          "metadata": {
            "tags": null
          },
          "name": "stdout",
          "output_type": "stream",
          "text": [
            "step:190\n"
          ]
        },
        {
          "metadata": {
            "tags": null
          },
          "name": "stderr",
          "output_type": "stream",
          "text": [
            "Processing target columns: 100%|██████████| 140/140 [01:41<00:00,  1.38it/s]\n"
          ]
        },
        {
          "metadata": {
            "tags": null
          },
          "name": "stdout",
          "output_type": "stream",
          "text": [
            "step:191\n"
          ]
        },
        {
          "metadata": {
            "tags": null
          },
          "name": "stderr",
          "output_type": "stream",
          "text": [
            "Processing target columns: 100%|██████████| 140/140 [01:42<00:00,  1.37it/s]\n"
          ]
        },
        {
          "metadata": {
            "tags": null
          },
          "name": "stdout",
          "output_type": "stream",
          "text": [
            "step:192\n"
          ]
        },
        {
          "metadata": {
            "tags": null
          },
          "name": "stderr",
          "output_type": "stream",
          "text": [
            "Processing target columns: 100%|██████████| 140/140 [01:42<00:00,  1.36it/s]\n"
          ]
        },
        {
          "metadata": {
            "tags": null
          },
          "name": "stdout",
          "output_type": "stream",
          "text": [
            "step:193\n"
          ]
        },
        {
          "metadata": {
            "tags": null
          },
          "name": "stderr",
          "output_type": "stream",
          "text": [
            "Processing target columns: 100%|██████████| 140/140 [01:43<00:00,  1.36it/s]\n"
          ]
        },
        {
          "metadata": {
            "tags": null
          },
          "name": "stdout",
          "output_type": "stream",
          "text": [
            "step:194\n"
          ]
        },
        {
          "metadata": {
            "tags": null
          },
          "name": "stderr",
          "output_type": "stream",
          "text": [
            "Processing target columns: 100%|██████████| 140/140 [01:45<00:00,  1.33it/s]\n"
          ]
        },
        {
          "metadata": {
            "tags": null
          },
          "name": "stdout",
          "output_type": "stream",
          "text": [
            "step:195\n"
          ]
        },
        {
          "metadata": {
            "tags": null
          },
          "name": "stderr",
          "output_type": "stream",
          "text": [
            "Processing target columns: 100%|██████████| 140/140 [01:41<00:00,  1.38it/s]\n"
          ]
        },
        {
          "metadata": {
            "tags": null
          },
          "name": "stdout",
          "output_type": "stream",
          "text": [
            "step:196\n"
          ]
        },
        {
          "metadata": {
            "tags": null
          },
          "name": "stderr",
          "output_type": "stream",
          "text": [
            "Processing target columns: 100%|██████████| 140/140 [01:43<00:00,  1.36it/s]\n"
          ]
        },
        {
          "metadata": {
            "tags": null
          },
          "name": "stdout",
          "output_type": "stream",
          "text": [
            "step:197\n"
          ]
        },
        {
          "metadata": {
            "tags": null
          },
          "name": "stderr",
          "output_type": "stream",
          "text": [
            "Processing target columns: 100%|██████████| 140/140 [01:43<00:00,  1.35it/s]\n"
          ]
        },
        {
          "metadata": {
            "tags": null
          },
          "name": "stdout",
          "output_type": "stream",
          "text": [
            "step:198\n"
          ]
        },
        {
          "metadata": {
            "tags": null
          },
          "name": "stderr",
          "output_type": "stream",
          "text": [
            "Processing target columns: 100%|██████████| 140/140 [01:41<00:00,  1.38it/s]\n"
          ]
        },
        {
          "metadata": {
            "tags": null
          },
          "name": "stdout",
          "output_type": "stream",
          "text": [
            "step:199\n"
          ]
        },
        {
          "metadata": {
            "tags": null
          },
          "name": "stderr",
          "output_type": "stream",
          "text": [
            "Processing target columns: 100%|██████████| 140/140 [01:41<00:00,  1.37it/s]\n"
          ]
        },
        {
          "metadata": {
            "tags": null
          },
          "name": "stdout",
          "output_type": "stream",
          "text": [
            "step:200\n"
          ]
        },
        {
          "metadata": {
            "tags": null
          },
          "name": "stderr",
          "output_type": "stream",
          "text": [
            "Processing target columns: 100%|██████████| 140/140 [01:41<00:00,  1.38it/s]\n"
          ]
        },
        {
          "metadata": {
            "tags": null
          },
          "name": "stdout",
          "output_type": "stream",
          "text": [
            "step:201\n"
          ]
        },
        {
          "metadata": {
            "tags": null
          },
          "name": "stderr",
          "output_type": "stream",
          "text": [
            "Processing target columns: 100%|██████████| 140/140 [01:43<00:00,  1.36it/s]\n"
          ]
        },
        {
          "metadata": {
            "tags": null
          },
          "name": "stdout",
          "output_type": "stream",
          "text": [
            "step:202\n"
          ]
        },
        {
          "metadata": {
            "tags": null
          },
          "name": "stderr",
          "output_type": "stream",
          "text": [
            "Processing target columns: 100%|██████████| 140/140 [01:45<00:00,  1.33it/s]\n"
          ]
        },
        {
          "metadata": {
            "tags": null
          },
          "name": "stdout",
          "output_type": "stream",
          "text": [
            "step:203\n"
          ]
        },
        {
          "metadata": {
            "tags": null
          },
          "name": "stderr",
          "output_type": "stream",
          "text": [
            "Processing target columns: 100%|██████████| 140/140 [01:43<00:00,  1.35it/s]\n"
          ]
        },
        {
          "metadata": {
            "tags": null
          },
          "name": "stdout",
          "output_type": "stream",
          "text": [
            "step:204\n"
          ]
        },
        {
          "output_type": "stream",
          "name": "stderr",
          "text": [
            "Processing target columns: 100%|██████████| 140/140 [01:44<00:00,  1.34it/s]\n"
          ]
        },
        {
          "output_type": "stream",
          "name": "stdout",
          "text": [
            "step:205\n"
          ]
        },
        {
          "output_type": "stream",
          "name": "stderr",
          "text": [
            "Processing target columns: 100%|██████████| 140/140 [01:45<00:00,  1.32it/s]\n"
          ]
        },
        {
          "output_type": "stream",
          "name": "stdout",
          "text": [
            "step:206\n"
          ]
        },
        {
          "output_type": "stream",
          "name": "stderr",
          "text": [
            "Processing target columns: 100%|██████████| 140/140 [01:44<00:00,  1.34it/s]\n"
          ]
        },
        {
          "output_type": "stream",
          "name": "stdout",
          "text": [
            "step:207\n"
          ]
        },
        {
          "output_type": "stream",
          "name": "stderr",
          "text": [
            "Processing target columns: 100%|██████████| 140/140 [01:43<00:00,  1.35it/s]\n"
          ]
        },
        {
          "output_type": "stream",
          "name": "stdout",
          "text": [
            "step:208\n"
          ]
        }
      ],
      "source": [
        "interlayer_time_df = []\n",
        "k = 0\n",
        "\n",
        "for window_return, window_tradval in zip(rolling_window_on_data(df_sp500_return), rolling_window_on_data(df_sp500_tradingval.iloc[1:])):\n",
        "  # print(window_return.index.min(), window_return.index.max())\n",
        "  # print(window_tradval.index.min(), window_tradval.index.max())\n",
        "\n",
        "  if k>=71 and k<=300:\n",
        "\n",
        "    window_return.columns = [col + '_return' for col in window_return.columns]\n",
        "    window_tradval.columns = [col + '_tradval' for col in window_tradval.columns]\n",
        "\n",
        "\n",
        "    # sample_result = build_weighted_adjacency_matrix_rf(window_price[window_price.columns[0:20]], \\\n",
        "    #                                             window_return[window_return.columns[0:20]], \\\n",
        "    #                                             lag=1, \\\n",
        "    #                                             n_estimators=100, \\\n",
        "    #                                             random_state=42)\n",
        "\n",
        "    result = build_weighted_adjacency_matrix_rf(window_return[window_return.columns],\\\n",
        "                                                window_tradval[window_tradval.columns], \\\n",
        "                                                lag=1, \\\n",
        "                                                n_estimators=100, \\\n",
        "                                                random_state=66)\n",
        "\n",
        "    interlayer_time_df.append(result)\n",
        "\n",
        "    print(f\"step:{k}\")\n",
        "\n",
        "    if k%5 == 0:\n",
        "      with open(f'/content/drive/MyDrive/data_Multilayer spillover with ML/layers/interlayer32/interlayer32_s_tradval_t_return_{k}_times_evolution.pkl', 'wb') as f:\n",
        "        pickle.dump(interlayer_time_df, f)\n",
        "\n",
        "\n",
        "  k = k+1\n",
        "\n"
      ]
    },
    {
      "cell_type": "code",
      "execution_count": 18,
      "metadata": {
        "id": "40IDVONLHzOV"
      },
      "outputs": [],
      "source": [
        "# with open(f'/content/drive/MyDrive/data_Multilayer spillover with ML/layers/interlayer32/interlayer32_s_tradval_t_return_{k}_times_evolution.pkl', 'wb') as f:\n",
        "#   pickle.dump(interlayer_time_df, f)"
      ]
    },
    {
      "cell_type": "code",
      "execution_count": 21,
      "metadata": {
        "colab": {
          "base_uri": "https://localhost:8080/",
          "height": 461
        },
        "id": "BYaGQW3CoFh3",
        "outputId": "db9eefaf-3299-4ec9-8b52-369f7d6e4ad7"
      },
      "outputs": [
        {
          "output_type": "stream",
          "name": "stdout",
          "text": [
            "138\n"
          ]
        },
        {
          "output_type": "execute_result",
          "data": {
            "text/plain": [
              "             AAPL_tradval  ABT_tradval  ADBE_tradval  ADP_tradval  \\\n",
              "AAPL_return      0.001930     0.004768      0.010211     0.008587   \n",
              "ABT_return       0.001603     0.038343      0.001862     0.002351   \n",
              "ADBE_return      0.005749     0.001813      0.029438     0.001811   \n",
              "ADP_return       0.025901     0.005841      0.008367     0.065743   \n",
              "ADSK_return      0.005626     0.003868      0.001341     0.002479   \n",
              "...                   ...          ...           ...          ...   \n",
              "WDC_return       0.001988     0.002939      0.004748     0.008119   \n",
              "WEC_return       0.018973     0.010261      0.003698     0.000666   \n",
              "WFC_return       0.050352     0.001153      0.009341     0.092582   \n",
              "WMT_return       0.006690     0.003118      0.010288     0.006679   \n",
              "XOM_return       0.005419     0.018602      0.002956     0.003597   \n",
              "\n",
              "             ADSK_tradval  AEP_tradval  AFL_tradval  AIG_tradval  ALL_tradval  \\\n",
              "AAPL_return      0.001312     0.005511     0.004831     0.005178     0.014053   \n",
              "ABT_return       0.005389     0.008409     0.013158     0.003967     0.002206   \n",
              "ADBE_return      0.002030     0.000800     0.004213     0.008180     0.002647   \n",
              "ADP_return       0.003890     0.002194     0.003155     0.008883     0.003106   \n",
              "ADSK_return      0.013795     0.003540     0.003824     0.028441     0.005175   \n",
              "...                   ...          ...          ...          ...          ...   \n",
              "WDC_return       0.002152     0.003962     0.003156     0.004075     0.003653   \n",
              "WEC_return       0.005194     0.004916     0.003279     0.002209     0.006328   \n",
              "WFC_return       0.003144     0.003403     0.010315     0.015991     0.001937   \n",
              "WMT_return       0.011153     0.005734     0.002607     0.002766     0.004481   \n",
              "XOM_return       0.001644     0.013223     0.010847     0.003904     0.005755   \n",
              "\n",
              "             AMGN_tradval  ...  VLO_tradval  VMC_tradval  VRTX_tradval  \\\n",
              "AAPL_return      0.004182  ...     0.002768     0.000508      0.010633   \n",
              "ABT_return       0.003495  ...     0.007008     0.010333      0.005943   \n",
              "ADBE_return      0.001092  ...     0.005843     0.003390      0.005262   \n",
              "ADP_return       0.011650  ...     0.002133     0.011755      0.066812   \n",
              "ADSK_return      0.164030  ...     0.011421     0.003232      0.021736   \n",
              "...                   ...  ...          ...          ...           ...   \n",
              "WDC_return       0.010693  ...     0.004351     0.007411      0.002871   \n",
              "WEC_return       0.000913  ...     0.006862     0.001810      0.071675   \n",
              "WFC_return       0.002813  ...     0.002322     0.032349      0.001295   \n",
              "WMT_return       0.004116  ...     0.007006     0.005931      0.001690   \n",
              "XOM_return       0.002532  ...     0.004574     0.006510      0.007198   \n",
              "\n",
              "             VZ_tradval  WBA_tradval  WDC_tradval  WEC_tradval  WFC_tradval  \\\n",
              "AAPL_return    0.059689     0.020162     0.007549     0.103998     0.008303   \n",
              "ABT_return     0.006986     0.001040     0.001504     0.004342     0.003823   \n",
              "ADBE_return    0.101292     0.000819     0.012032     0.008156     0.001439   \n",
              "ADP_return     0.000554     0.002349     0.002029     0.015845     0.001675   \n",
              "ADSK_return    0.010461     0.002608     0.008782     0.008461     0.002000   \n",
              "...                 ...          ...          ...          ...          ...   \n",
              "WDC_return     0.002245     0.006012     0.001233     0.001005     0.012754   \n",
              "WEC_return     0.003617     0.008655     0.002136     0.005700     0.006406   \n",
              "WFC_return     0.001849     0.001656     0.002799     0.000818     0.002210   \n",
              "WMT_return     0.000832     0.002707     0.001440     0.007401     0.001688   \n",
              "XOM_return     0.003734     0.017941     0.005340     0.006831     0.001201   \n",
              "\n",
              "             WMT_tradval  XOM_tradval  \n",
              "AAPL_return     0.004202     0.001506  \n",
              "ABT_return      0.005257     0.008715  \n",
              "ADBE_return     0.010225     0.032492  \n",
              "ADP_return      0.001539     0.006307  \n",
              "ADSK_return     0.001657     0.003925  \n",
              "...                  ...          ...  \n",
              "WDC_return      0.005561     0.013574  \n",
              "WEC_return      0.005921     0.001993  \n",
              "WFC_return      0.001141     0.006679  \n",
              "WMT_return      0.025485     0.002616  \n",
              "XOM_return      0.006362     0.003349  \n",
              "\n",
              "[140 rows x 140 columns]"
            ],
            "text/html": [
              "\n",
              "  <div id=\"df-813dda09-71cd-402e-ad54-455e8888af95\" class=\"colab-df-container\">\n",
              "    <div>\n",
              "<style scoped>\n",
              "    .dataframe tbody tr th:only-of-type {\n",
              "        vertical-align: middle;\n",
              "    }\n",
              "\n",
              "    .dataframe tbody tr th {\n",
              "        vertical-align: top;\n",
              "    }\n",
              "\n",
              "    .dataframe thead th {\n",
              "        text-align: right;\n",
              "    }\n",
              "</style>\n",
              "<table border=\"1\" class=\"dataframe\">\n",
              "  <thead>\n",
              "    <tr style=\"text-align: right;\">\n",
              "      <th></th>\n",
              "      <th>AAPL_tradval</th>\n",
              "      <th>ABT_tradval</th>\n",
              "      <th>ADBE_tradval</th>\n",
              "      <th>ADP_tradval</th>\n",
              "      <th>ADSK_tradval</th>\n",
              "      <th>AEP_tradval</th>\n",
              "      <th>AFL_tradval</th>\n",
              "      <th>AIG_tradval</th>\n",
              "      <th>ALL_tradval</th>\n",
              "      <th>AMGN_tradval</th>\n",
              "      <th>...</th>\n",
              "      <th>VLO_tradval</th>\n",
              "      <th>VMC_tradval</th>\n",
              "      <th>VRTX_tradval</th>\n",
              "      <th>VZ_tradval</th>\n",
              "      <th>WBA_tradval</th>\n",
              "      <th>WDC_tradval</th>\n",
              "      <th>WEC_tradval</th>\n",
              "      <th>WFC_tradval</th>\n",
              "      <th>WMT_tradval</th>\n",
              "      <th>XOM_tradval</th>\n",
              "    </tr>\n",
              "  </thead>\n",
              "  <tbody>\n",
              "    <tr>\n",
              "      <th>AAPL_return</th>\n",
              "      <td>0.001930</td>\n",
              "      <td>0.004768</td>\n",
              "      <td>0.010211</td>\n",
              "      <td>0.008587</td>\n",
              "      <td>0.001312</td>\n",
              "      <td>0.005511</td>\n",
              "      <td>0.004831</td>\n",
              "      <td>0.005178</td>\n",
              "      <td>0.014053</td>\n",
              "      <td>0.004182</td>\n",
              "      <td>...</td>\n",
              "      <td>0.002768</td>\n",
              "      <td>0.000508</td>\n",
              "      <td>0.010633</td>\n",
              "      <td>0.059689</td>\n",
              "      <td>0.020162</td>\n",
              "      <td>0.007549</td>\n",
              "      <td>0.103998</td>\n",
              "      <td>0.008303</td>\n",
              "      <td>0.004202</td>\n",
              "      <td>0.001506</td>\n",
              "    </tr>\n",
              "    <tr>\n",
              "      <th>ABT_return</th>\n",
              "      <td>0.001603</td>\n",
              "      <td>0.038343</td>\n",
              "      <td>0.001862</td>\n",
              "      <td>0.002351</td>\n",
              "      <td>0.005389</td>\n",
              "      <td>0.008409</td>\n",
              "      <td>0.013158</td>\n",
              "      <td>0.003967</td>\n",
              "      <td>0.002206</td>\n",
              "      <td>0.003495</td>\n",
              "      <td>...</td>\n",
              "      <td>0.007008</td>\n",
              "      <td>0.010333</td>\n",
              "      <td>0.005943</td>\n",
              "      <td>0.006986</td>\n",
              "      <td>0.001040</td>\n",
              "      <td>0.001504</td>\n",
              "      <td>0.004342</td>\n",
              "      <td>0.003823</td>\n",
              "      <td>0.005257</td>\n",
              "      <td>0.008715</td>\n",
              "    </tr>\n",
              "    <tr>\n",
              "      <th>ADBE_return</th>\n",
              "      <td>0.005749</td>\n",
              "      <td>0.001813</td>\n",
              "      <td>0.029438</td>\n",
              "      <td>0.001811</td>\n",
              "      <td>0.002030</td>\n",
              "      <td>0.000800</td>\n",
              "      <td>0.004213</td>\n",
              "      <td>0.008180</td>\n",
              "      <td>0.002647</td>\n",
              "      <td>0.001092</td>\n",
              "      <td>...</td>\n",
              "      <td>0.005843</td>\n",
              "      <td>0.003390</td>\n",
              "      <td>0.005262</td>\n",
              "      <td>0.101292</td>\n",
              "      <td>0.000819</td>\n",
              "      <td>0.012032</td>\n",
              "      <td>0.008156</td>\n",
              "      <td>0.001439</td>\n",
              "      <td>0.010225</td>\n",
              "      <td>0.032492</td>\n",
              "    </tr>\n",
              "    <tr>\n",
              "      <th>ADP_return</th>\n",
              "      <td>0.025901</td>\n",
              "      <td>0.005841</td>\n",
              "      <td>0.008367</td>\n",
              "      <td>0.065743</td>\n",
              "      <td>0.003890</td>\n",
              "      <td>0.002194</td>\n",
              "      <td>0.003155</td>\n",
              "      <td>0.008883</td>\n",
              "      <td>0.003106</td>\n",
              "      <td>0.011650</td>\n",
              "      <td>...</td>\n",
              "      <td>0.002133</td>\n",
              "      <td>0.011755</td>\n",
              "      <td>0.066812</td>\n",
              "      <td>0.000554</td>\n",
              "      <td>0.002349</td>\n",
              "      <td>0.002029</td>\n",
              "      <td>0.015845</td>\n",
              "      <td>0.001675</td>\n",
              "      <td>0.001539</td>\n",
              "      <td>0.006307</td>\n",
              "    </tr>\n",
              "    <tr>\n",
              "      <th>ADSK_return</th>\n",
              "      <td>0.005626</td>\n",
              "      <td>0.003868</td>\n",
              "      <td>0.001341</td>\n",
              "      <td>0.002479</td>\n",
              "      <td>0.013795</td>\n",
              "      <td>0.003540</td>\n",
              "      <td>0.003824</td>\n",
              "      <td>0.028441</td>\n",
              "      <td>0.005175</td>\n",
              "      <td>0.164030</td>\n",
              "      <td>...</td>\n",
              "      <td>0.011421</td>\n",
              "      <td>0.003232</td>\n",
              "      <td>0.021736</td>\n",
              "      <td>0.010461</td>\n",
              "      <td>0.002608</td>\n",
              "      <td>0.008782</td>\n",
              "      <td>0.008461</td>\n",
              "      <td>0.002000</td>\n",
              "      <td>0.001657</td>\n",
              "      <td>0.003925</td>\n",
              "    </tr>\n",
              "    <tr>\n",
              "      <th>...</th>\n",
              "      <td>...</td>\n",
              "      <td>...</td>\n",
              "      <td>...</td>\n",
              "      <td>...</td>\n",
              "      <td>...</td>\n",
              "      <td>...</td>\n",
              "      <td>...</td>\n",
              "      <td>...</td>\n",
              "      <td>...</td>\n",
              "      <td>...</td>\n",
              "      <td>...</td>\n",
              "      <td>...</td>\n",
              "      <td>...</td>\n",
              "      <td>...</td>\n",
              "      <td>...</td>\n",
              "      <td>...</td>\n",
              "      <td>...</td>\n",
              "      <td>...</td>\n",
              "      <td>...</td>\n",
              "      <td>...</td>\n",
              "      <td>...</td>\n",
              "    </tr>\n",
              "    <tr>\n",
              "      <th>WDC_return</th>\n",
              "      <td>0.001988</td>\n",
              "      <td>0.002939</td>\n",
              "      <td>0.004748</td>\n",
              "      <td>0.008119</td>\n",
              "      <td>0.002152</td>\n",
              "      <td>0.003962</td>\n",
              "      <td>0.003156</td>\n",
              "      <td>0.004075</td>\n",
              "      <td>0.003653</td>\n",
              "      <td>0.010693</td>\n",
              "      <td>...</td>\n",
              "      <td>0.004351</td>\n",
              "      <td>0.007411</td>\n",
              "      <td>0.002871</td>\n",
              "      <td>0.002245</td>\n",
              "      <td>0.006012</td>\n",
              "      <td>0.001233</td>\n",
              "      <td>0.001005</td>\n",
              "      <td>0.012754</td>\n",
              "      <td>0.005561</td>\n",
              "      <td>0.013574</td>\n",
              "    </tr>\n",
              "    <tr>\n",
              "      <th>WEC_return</th>\n",
              "      <td>0.018973</td>\n",
              "      <td>0.010261</td>\n",
              "      <td>0.003698</td>\n",
              "      <td>0.000666</td>\n",
              "      <td>0.005194</td>\n",
              "      <td>0.004916</td>\n",
              "      <td>0.003279</td>\n",
              "      <td>0.002209</td>\n",
              "      <td>0.006328</td>\n",
              "      <td>0.000913</td>\n",
              "      <td>...</td>\n",
              "      <td>0.006862</td>\n",
              "      <td>0.001810</td>\n",
              "      <td>0.071675</td>\n",
              "      <td>0.003617</td>\n",
              "      <td>0.008655</td>\n",
              "      <td>0.002136</td>\n",
              "      <td>0.005700</td>\n",
              "      <td>0.006406</td>\n",
              "      <td>0.005921</td>\n",
              "      <td>0.001993</td>\n",
              "    </tr>\n",
              "    <tr>\n",
              "      <th>WFC_return</th>\n",
              "      <td>0.050352</td>\n",
              "      <td>0.001153</td>\n",
              "      <td>0.009341</td>\n",
              "      <td>0.092582</td>\n",
              "      <td>0.003144</td>\n",
              "      <td>0.003403</td>\n",
              "      <td>0.010315</td>\n",
              "      <td>0.015991</td>\n",
              "      <td>0.001937</td>\n",
              "      <td>0.002813</td>\n",
              "      <td>...</td>\n",
              "      <td>0.002322</td>\n",
              "      <td>0.032349</td>\n",
              "      <td>0.001295</td>\n",
              "      <td>0.001849</td>\n",
              "      <td>0.001656</td>\n",
              "      <td>0.002799</td>\n",
              "      <td>0.000818</td>\n",
              "      <td>0.002210</td>\n",
              "      <td>0.001141</td>\n",
              "      <td>0.006679</td>\n",
              "    </tr>\n",
              "    <tr>\n",
              "      <th>WMT_return</th>\n",
              "      <td>0.006690</td>\n",
              "      <td>0.003118</td>\n",
              "      <td>0.010288</td>\n",
              "      <td>0.006679</td>\n",
              "      <td>0.011153</td>\n",
              "      <td>0.005734</td>\n",
              "      <td>0.002607</td>\n",
              "      <td>0.002766</td>\n",
              "      <td>0.004481</td>\n",
              "      <td>0.004116</td>\n",
              "      <td>...</td>\n",
              "      <td>0.007006</td>\n",
              "      <td>0.005931</td>\n",
              "      <td>0.001690</td>\n",
              "      <td>0.000832</td>\n",
              "      <td>0.002707</td>\n",
              "      <td>0.001440</td>\n",
              "      <td>0.007401</td>\n",
              "      <td>0.001688</td>\n",
              "      <td>0.025485</td>\n",
              "      <td>0.002616</td>\n",
              "    </tr>\n",
              "    <tr>\n",
              "      <th>XOM_return</th>\n",
              "      <td>0.005419</td>\n",
              "      <td>0.018602</td>\n",
              "      <td>0.002956</td>\n",
              "      <td>0.003597</td>\n",
              "      <td>0.001644</td>\n",
              "      <td>0.013223</td>\n",
              "      <td>0.010847</td>\n",
              "      <td>0.003904</td>\n",
              "      <td>0.005755</td>\n",
              "      <td>0.002532</td>\n",
              "      <td>...</td>\n",
              "      <td>0.004574</td>\n",
              "      <td>0.006510</td>\n",
              "      <td>0.007198</td>\n",
              "      <td>0.003734</td>\n",
              "      <td>0.017941</td>\n",
              "      <td>0.005340</td>\n",
              "      <td>0.006831</td>\n",
              "      <td>0.001201</td>\n",
              "      <td>0.006362</td>\n",
              "      <td>0.003349</td>\n",
              "    </tr>\n",
              "  </tbody>\n",
              "</table>\n",
              "<p>140 rows × 140 columns</p>\n",
              "</div>\n",
              "    <div class=\"colab-df-buttons\">\n",
              "\n",
              "  <div class=\"colab-df-container\">\n",
              "    <button class=\"colab-df-convert\" onclick=\"convertToInteractive('df-813dda09-71cd-402e-ad54-455e8888af95')\"\n",
              "            title=\"Convert this dataframe to an interactive table.\"\n",
              "            style=\"display:none;\">\n",
              "\n",
              "  <svg xmlns=\"http://www.w3.org/2000/svg\" height=\"24px\" viewBox=\"0 -960 960 960\">\n",
              "    <path d=\"M120-120v-720h720v720H120Zm60-500h600v-160H180v160Zm220 220h160v-160H400v160Zm0 220h160v-160H400v160ZM180-400h160v-160H180v160Zm440 0h160v-160H620v160ZM180-180h160v-160H180v160Zm440 0h160v-160H620v160Z\"/>\n",
              "  </svg>\n",
              "    </button>\n",
              "\n",
              "  <style>\n",
              "    .colab-df-container {\n",
              "      display:flex;\n",
              "      gap: 12px;\n",
              "    }\n",
              "\n",
              "    .colab-df-convert {\n",
              "      background-color: #E8F0FE;\n",
              "      border: none;\n",
              "      border-radius: 50%;\n",
              "      cursor: pointer;\n",
              "      display: none;\n",
              "      fill: #1967D2;\n",
              "      height: 32px;\n",
              "      padding: 0 0 0 0;\n",
              "      width: 32px;\n",
              "    }\n",
              "\n",
              "    .colab-df-convert:hover {\n",
              "      background-color: #E2EBFA;\n",
              "      box-shadow: 0px 1px 2px rgba(60, 64, 67, 0.3), 0px 1px 3px 1px rgba(60, 64, 67, 0.15);\n",
              "      fill: #174EA6;\n",
              "    }\n",
              "\n",
              "    .colab-df-buttons div {\n",
              "      margin-bottom: 4px;\n",
              "    }\n",
              "\n",
              "    [theme=dark] .colab-df-convert {\n",
              "      background-color: #3B4455;\n",
              "      fill: #D2E3FC;\n",
              "    }\n",
              "\n",
              "    [theme=dark] .colab-df-convert:hover {\n",
              "      background-color: #434B5C;\n",
              "      box-shadow: 0px 1px 3px 1px rgba(0, 0, 0, 0.15);\n",
              "      filter: drop-shadow(0px 1px 2px rgba(0, 0, 0, 0.3));\n",
              "      fill: #FFFFFF;\n",
              "    }\n",
              "  </style>\n",
              "\n",
              "    <script>\n",
              "      const buttonEl =\n",
              "        document.querySelector('#df-813dda09-71cd-402e-ad54-455e8888af95 button.colab-df-convert');\n",
              "      buttonEl.style.display =\n",
              "        google.colab.kernel.accessAllowed ? 'block' : 'none';\n",
              "\n",
              "      async function convertToInteractive(key) {\n",
              "        const element = document.querySelector('#df-813dda09-71cd-402e-ad54-455e8888af95');\n",
              "        const dataTable =\n",
              "          await google.colab.kernel.invokeFunction('convertToInteractive',\n",
              "                                                    [key], {});\n",
              "        if (!dataTable) return;\n",
              "\n",
              "        const docLinkHtml = 'Like what you see? Visit the ' +\n",
              "          '<a target=\"_blank\" href=https://colab.research.google.com/notebooks/data_table.ipynb>data table notebook</a>'\n",
              "          + ' to learn more about interactive tables.';\n",
              "        element.innerHTML = '';\n",
              "        dataTable['output_type'] = 'display_data';\n",
              "        await google.colab.output.renderOutput(dataTable, element);\n",
              "        const docLink = document.createElement('div');\n",
              "        docLink.innerHTML = docLinkHtml;\n",
              "        element.appendChild(docLink);\n",
              "      }\n",
              "    </script>\n",
              "  </div>\n",
              "\n",
              "\n",
              "<div id=\"df-497a96aa-f296-4242-80ea-f23698ea9790\">\n",
              "  <button class=\"colab-df-quickchart\" onclick=\"quickchart('df-497a96aa-f296-4242-80ea-f23698ea9790')\"\n",
              "            title=\"Suggest charts\"\n",
              "            style=\"display:none;\">\n",
              "\n",
              "<svg xmlns=\"http://www.w3.org/2000/svg\" height=\"24px\"viewBox=\"0 0 24 24\"\n",
              "     width=\"24px\">\n",
              "    <g>\n",
              "        <path d=\"M19 3H5c-1.1 0-2 .9-2 2v14c0 1.1.9 2 2 2h14c1.1 0 2-.9 2-2V5c0-1.1-.9-2-2-2zM9 17H7v-7h2v7zm4 0h-2V7h2v10zm4 0h-2v-4h2v4z\"/>\n",
              "    </g>\n",
              "</svg>\n",
              "  </button>\n",
              "\n",
              "<style>\n",
              "  .colab-df-quickchart {\n",
              "      --bg-color: #E8F0FE;\n",
              "      --fill-color: #1967D2;\n",
              "      --hover-bg-color: #E2EBFA;\n",
              "      --hover-fill-color: #174EA6;\n",
              "      --disabled-fill-color: #AAA;\n",
              "      --disabled-bg-color: #DDD;\n",
              "  }\n",
              "\n",
              "  [theme=dark] .colab-df-quickchart {\n",
              "      --bg-color: #3B4455;\n",
              "      --fill-color: #D2E3FC;\n",
              "      --hover-bg-color: #434B5C;\n",
              "      --hover-fill-color: #FFFFFF;\n",
              "      --disabled-bg-color: #3B4455;\n",
              "      --disabled-fill-color: #666;\n",
              "  }\n",
              "\n",
              "  .colab-df-quickchart {\n",
              "    background-color: var(--bg-color);\n",
              "    border: none;\n",
              "    border-radius: 50%;\n",
              "    cursor: pointer;\n",
              "    display: none;\n",
              "    fill: var(--fill-color);\n",
              "    height: 32px;\n",
              "    padding: 0;\n",
              "    width: 32px;\n",
              "  }\n",
              "\n",
              "  .colab-df-quickchart:hover {\n",
              "    background-color: var(--hover-bg-color);\n",
              "    box-shadow: 0 1px 2px rgba(60, 64, 67, 0.3), 0 1px 3px 1px rgba(60, 64, 67, 0.15);\n",
              "    fill: var(--button-hover-fill-color);\n",
              "  }\n",
              "\n",
              "  .colab-df-quickchart-complete:disabled,\n",
              "  .colab-df-quickchart-complete:disabled:hover {\n",
              "    background-color: var(--disabled-bg-color);\n",
              "    fill: var(--disabled-fill-color);\n",
              "    box-shadow: none;\n",
              "  }\n",
              "\n",
              "  .colab-df-spinner {\n",
              "    border: 2px solid var(--fill-color);\n",
              "    border-color: transparent;\n",
              "    border-bottom-color: var(--fill-color);\n",
              "    animation:\n",
              "      spin 1s steps(1) infinite;\n",
              "  }\n",
              "\n",
              "  @keyframes spin {\n",
              "    0% {\n",
              "      border-color: transparent;\n",
              "      border-bottom-color: var(--fill-color);\n",
              "      border-left-color: var(--fill-color);\n",
              "    }\n",
              "    20% {\n",
              "      border-color: transparent;\n",
              "      border-left-color: var(--fill-color);\n",
              "      border-top-color: var(--fill-color);\n",
              "    }\n",
              "    30% {\n",
              "      border-color: transparent;\n",
              "      border-left-color: var(--fill-color);\n",
              "      border-top-color: var(--fill-color);\n",
              "      border-right-color: var(--fill-color);\n",
              "    }\n",
              "    40% {\n",
              "      border-color: transparent;\n",
              "      border-right-color: var(--fill-color);\n",
              "      border-top-color: var(--fill-color);\n",
              "    }\n",
              "    60% {\n",
              "      border-color: transparent;\n",
              "      border-right-color: var(--fill-color);\n",
              "    }\n",
              "    80% {\n",
              "      border-color: transparent;\n",
              "      border-right-color: var(--fill-color);\n",
              "      border-bottom-color: var(--fill-color);\n",
              "    }\n",
              "    90% {\n",
              "      border-color: transparent;\n",
              "      border-bottom-color: var(--fill-color);\n",
              "    }\n",
              "  }\n",
              "</style>\n",
              "\n",
              "  <script>\n",
              "    async function quickchart(key) {\n",
              "      const quickchartButtonEl =\n",
              "        document.querySelector('#' + key + ' button');\n",
              "      quickchartButtonEl.disabled = true;  // To prevent multiple clicks.\n",
              "      quickchartButtonEl.classList.add('colab-df-spinner');\n",
              "      try {\n",
              "        const charts = await google.colab.kernel.invokeFunction(\n",
              "            'suggestCharts', [key], {});\n",
              "      } catch (error) {\n",
              "        console.error('Error during call to suggestCharts:', error);\n",
              "      }\n",
              "      quickchartButtonEl.classList.remove('colab-df-spinner');\n",
              "      quickchartButtonEl.classList.add('colab-df-quickchart-complete');\n",
              "    }\n",
              "    (() => {\n",
              "      let quickchartButtonEl =\n",
              "        document.querySelector('#df-497a96aa-f296-4242-80ea-f23698ea9790 button');\n",
              "      quickchartButtonEl.style.display =\n",
              "        google.colab.kernel.accessAllowed ? 'block' : 'none';\n",
              "    })();\n",
              "  </script>\n",
              "</div>\n",
              "    </div>\n",
              "  </div>\n"
            ],
            "application/vnd.google.colaboratory.intrinsic+json": {
              "type": "dataframe",
              "variable_name": "result"
            }
          },
          "metadata": {},
          "execution_count": 21
        }
      ],
      "source": [
        "print(len(interlayer_time_df))\n",
        "\n",
        "interlayer_time_df[137]"
      ]
    },
    {
      "cell_type": "code",
      "execution_count": null,
      "metadata": {
        "colab": {
          "base_uri": "https://localhost:8080/",
          "height": 597
        },
        "id": "dEtveoDVjDt2",
        "outputId": "a8503e83-aeb2-4bd0-89f5-a48c66737e8c"
      },
      "outputs": [
        {
          "name": "stdout",
          "output_type": "stream",
          "text": [
            "number of relation 19600\n"
          ]
        },
        {
          "data": {
            "text/plain": [
              "(array([1.9141e+04, 2.7400e+02, 7.6000e+01, 3.5000e+01, 2.3000e+01,\n",
              "        2.1000e+01, 1.6000e+01, 5.0000e+00, 4.0000e+00, 2.0000e+00,\n",
              "        1.0000e+00, 2.0000e+00]),\n",
              " array([9.32270506e-06, 5.03851575e-02, 1.00760992e-01, 1.51136827e-01,\n",
              "        2.01512662e-01, 2.51888497e-01, 3.02264331e-01, 3.52640166e-01,\n",
              "        4.03016001e-01, 4.53391836e-01, 5.03767671e-01, 5.54143505e-01,\n",
              "        6.04519340e-01]),\n",
              " <BarContainer object of 12 artists>)"
            ]
          },
          "execution_count": 25,
          "metadata": {},
          "output_type": "execute_result"
        },
        {
          "data": {
            "image/png": "[encoded data removed]",
            "text/plain": [
              "<Figure size 640x480 with 1 Axes>"
            ]
          },
          "metadata": {},
          "output_type": "display_data"
        }
      ],
      "source": [
        "llll = interlayer_time_df[3].to_numpy().flatten()\n",
        "\n",
        "\n",
        "print(f\"number of relation {len(llll)}\")\n",
        "plt.hist(llll, bins=12)"
      ]
    },
    {
      "cell_type": "code",
      "execution_count": null,
      "metadata": {
        "colab": {
          "base_uri": "https://localhost:8080/",
          "height": 486
        },
        "id": "9OMBCmMx2S9R",
        "outputId": "b2c77496-7ec1-4531-871d-ce67c7a80743"
      },
      "outputs": [
        {
          "data": {
            "image/png": "[encoded data removed]",
            "text/plain": [
              "<Figure size 640x480 with 2 Axes>"
            ]
          },
          "metadata": {},
          "output_type": "display_data"
        }
      ],
      "source": [
        "\n",
        "plt.imshow(interlayer_time_df[3], cmap='Spectral', interpolation='none')\n",
        "plt.colorbar(label='Relation Coefficent')\n",
        "plt.title(\"Relation between trading values and prices \\n Random Forest regression for sp500 - 140 Securities\")\n",
        "\n",
        "# Show the plot\n",
        "plt.tight_layout()"
      ]
    },
    {
      "cell_type": "code",
      "execution_count": null,
      "metadata": {
        "id": "xpXjPqOhvODk"
      },
      "outputs": [],
      "source": [
        "df_sp500_tradingval.columns = [col + '_tradingval' for col in df_sp500_tradingval.columns]\n",
        "df_sp500_price.columns = [col + '_price' for col in df_sp500_price.columns]\n",
        "\n",
        "\n",
        "# result = build_weighted_adjacency_matrix_rf(df_sp500_price[df_sp500_price.columns[0:100]], \\\n",
        "#                                             df_sp500_tradingval[df_sp500_tradingval.columns[0:100]], \\\n",
        "#                                             lag=1, \\\n",
        "#                                             n_estimators=100, \\\n",
        "#                                             random_state=42)"
      ]
    },
    {
      "cell_type": "code",
      "execution_count": null,
      "metadata": {
        "id": "iO7LsTj5oWyi"
      },
      "outputs": [],
      "source": [
        "# with open('/content/drive/MyDrive/data_Multilayer spillover with ML/result_target_0_100_feature_0_100.pkl', 'wb') as f:\n",
        "#     pickle.dump(result, f)\n",
        "\n",
        "with open('/content/drive/MyDrive/data_Multilayer spillover with ML/result_target_0_100_feature_0_100.pkl', 'rb') as file:\n",
        "    result = pickle.load(file)"
      ]
    },
    {
      "cell_type": "code",
      "execution_count": null,
      "metadata": {
        "id": "_pkEgb6hvcYd"
      },
      "outputs": [],
      "source": [
        "# df_temp11 = result.to_numpy().flatten()\n",
        "# print(f\"number of connection: {len(df_temp11[df_temp11>0.5])}\")\n",
        "\n",
        "# # Condition: find indices of values greater than 30\n",
        "# indices = [index for index, value in enumerate(df_temp11) if value > 0.5]\n",
        "\n",
        "# print(indices)\n",
        "\n",
        "# plt.hist(df_temp11,bins=100)\n",
        "# plt.show()"
      ]
    },
    {
      "cell_type": "code",
      "execution_count": null,
      "metadata": {
        "id": "BjYHkof-vlva"
      },
      "outputs": [],
      "source": [
        "# result.idxmax(axis=1).drop_duplicates()"
      ]
    },
    {
      "cell_type": "code",
      "execution_count": null,
      "metadata": {
        "id": "Of8S1Q0HoTRT"
      },
      "outputs": [],
      "source": [
        "# result['AMZN_tradingval']"
      ]
    },
    {
      "cell_type": "code",
      "execution_count": null,
      "metadata": {
        "id": "IN_gOYrbrDfS"
      },
      "outputs": [],
      "source": [
        "# result_part2 = build_weighted_adjacency_matrix_rf(df_sp500_price[df_sp500_price.columns[0:100]], \\\n",
        "#                                             df_sp500_tradingval[df_sp500_tradingval.columns[100:]], \\\n",
        "#                                             lag=1, \\\n",
        "#                                             n_estimators=100, \\\n",
        "#                                             random_state=42)"
      ]
    },
    {
      "cell_type": "code",
      "execution_count": null,
      "metadata": {
        "id": "PpX-xSYV2_DL"
      },
      "outputs": [],
      "source": [
        "# with open('/content/drive/MyDrive/data_Multilayer spillover with ML/result_target_0_100_feature_100_last.pkl', 'wb') as f:\n",
        "#     pickle.dump(result_part2, f)\n",
        "\n",
        "with open('/content/drive/MyDrive/data_Multilayer spillover with ML/result_target_0_100_feature_100_last.pkl', 'rb') as file:\n",
        "    result_part2 = pickle.load(file)\n",
        "\n"
      ]
    },
    {
      "cell_type": "code",
      "execution_count": null,
      "metadata": {
        "id": "x2ptveWKC9Yd"
      },
      "outputs": [],
      "source": [
        "# result_part2"
      ]
    },
    {
      "cell_type": "code",
      "execution_count": null,
      "metadata": {
        "id": "-KVj5ZojDA3E"
      },
      "outputs": [],
      "source": [
        "# result_part2.idxmax(axis=1)"
      ]
    },
    {
      "cell_type": "code",
      "execution_count": null,
      "metadata": {
        "id": "NABT2i9oDFjU"
      },
      "outputs": [],
      "source": [
        "# result_part2.idxmax(axis=1).drop_duplicates()"
      ]
    },
    {
      "cell_type": "code",
      "execution_count": null,
      "metadata": {
        "id": "3x-Zw3H-Fvck"
      },
      "outputs": [],
      "source": [
        "# result_part3 = build_weighted_adjacency_matrix_rf(df_sp500_price[df_sp500_price.columns[100:]], \\\n",
        "#                                             df_sp500_tradingval[df_sp500_tradingval.columns], \\\n",
        "#                                             lag=1, \\\n",
        "#                                             n_estimators=100, \\\n",
        "#                                             random_state=42)"
      ]
    },
    {
      "cell_type": "code",
      "execution_count": null,
      "metadata": {
        "id": "-sbVLtjwGXHk"
      },
      "outputs": [],
      "source": [
        "# with open('/content/drive/MyDrive/data_Multilayer spillover with ML/result_target_100_last_feature_0_last.pkl', 'wb') as f:\n",
        "#     pickle.dump(result_part3, f)\n",
        "\n",
        "with open('/content/drive/MyDrive/data_Multilayer spillover with ML/result_target_100_last_feature_0_last.pkl', 'rb') as file:\n",
        "    result_part3 = pickle.load(file)"
      ]
    },
    {
      "cell_type": "code",
      "execution_count": null,
      "metadata": {
        "id": "BgkN7U5LQL2-"
      },
      "outputs": [],
      "source": [
        "# result_part3"
      ]
    },
    {
      "cell_type": "code",
      "execution_count": null,
      "metadata": {
        "id": "jy9nQYqYQrk1"
      },
      "outputs": [],
      "source": [
        "# result_part3.idxmax(axis=1).drop_duplicates()"
      ]
    },
    {
      "cell_type": "code",
      "execution_count": null,
      "metadata": {
        "id": "TmwuW8Z8RpK1"
      },
      "outputs": [],
      "source": [
        "# result_part3.to_numpy.flatten()"
      ]
    },
    {
      "cell_type": "code",
      "execution_count": null,
      "metadata": {
        "id": "X66o6eKPPiit"
      },
      "outputs": [],
      "source": [
        "result_part2.columns\n",
        "temp111 = pd.concat([result,result_part2],axis=1)"
      ]
    },
    {
      "cell_type": "code",
      "execution_count": null,
      "metadata": {
        "id": "bRtH8-ycQEXt"
      },
      "outputs": [],
      "source": [
        "complete_result = pd.concat([temp111,result_part3], axis=0)"
      ]
    },
    {
      "cell_type": "code",
      "execution_count": null,
      "metadata": {
        "id": "pnoIr8BdskS0"
      },
      "outputs": [],
      "source": [
        "# with open('/content/drive/MyDrive/data_Multilayer spillover with ML/complete_result_time_0_10.pkl', 'wb') as f:\n",
        "#     pickle.dump(complete_result, f)\n",
        "\n",
        "with open('/content/drive/MyDrive/data_Multilayer spillover with ML/complete_result_time_0_10.pkl', 'rb') as file:\n",
        "    complete_result = pickle.load(file)"
      ]
    },
    {
      "cell_type": "code",
      "execution_count": null,
      "metadata": {
        "colab": {
          "base_uri": "https://localhost:8080/",
          "height": 486
        },
        "id": "dmGqzbJ5QKJ0",
        "outputId": "0315c152-39f2-4aaf-f4c3-c4826b571d28"
      },
      "outputs": [
        {
          "data": {
            "image/png": "[encoded data removed]",
            "text/plain": [
              "<Figure size 640x480 with 2 Axes>"
            ]
          },
          "metadata": {},
          "output_type": "display_data"
        }
      ],
      "source": [
        "complete_result\n",
        "plt.imshow(complete_result, cmap='Spectral', interpolation='none')\n",
        "plt.colorbar(label='Relation Coefficent')\n",
        "plt.title(\"Relation between trading values and prices \\n Random Forest regression for sp500 - 140 Securities\")\n",
        "\n",
        "# Show the plot\n",
        "plt.tight_layout()"
      ]
    },
    {
      "cell_type": "code",
      "execution_count": null,
      "metadata": {
        "id": "UQ0ZJI9VkxDx"
      },
      "outputs": [],
      "source": []
    }
  ],
  "metadata": {
    "colab": {
      "provenance": []
    },
    "kernelspec": {
      "display_name": "Python 3",
      "name": "python3"
    },
    "language_info": {
      "name": "python"
    }
  },
  "nbformat": 4,
  "nbformat_minor": 0
}
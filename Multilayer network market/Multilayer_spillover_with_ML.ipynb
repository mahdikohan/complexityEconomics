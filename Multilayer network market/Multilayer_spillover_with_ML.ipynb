{
  "cells": [
    {
      "cell_type": "code",
      "execution_count": null,
      "metadata": {
        "id": "snZ1oR0hvciN"
      },
      "outputs": [],
      "source": [
        "import yfinance as yf\n",
        "import pandas as pd\n",
        "import numpy as np\n",
        "import matplotlib.pyplot as plt\n",
        "from statsmodels.tsa.stattools import grangercausalitytests\n",
        "import pickle"
      ]
    },
    {
      "cell_type": "code",
      "execution_count": null,
      "metadata": {
        "id": "maNN6z8MvpSs"
      },
      "outputs": [],
      "source": [
        "sp500_tickers = [\n",
        "    'AAPL', 'MSFT', 'GOOGL', 'AMZN', 'NVDA', 'TSLA', 'META', 'BRK.B', 'V', 'JPM', 'UNH', 'HD', 'PYPL', 'DIS', 'MA', 'PG',\n",
        "    'VZ', 'NFLX', 'INTC', 'KO', 'PEP', 'BA', 'XOM', 'CVX', 'CSCO', 'WMT', 'T', 'MCD', 'ORCL', 'CAT', 'MRK', 'COST',\n",
        "    'GE', 'BABA', 'ABBV', 'ADBE', 'AXP', 'CRM', 'AMGN', 'INTU', 'AMT', 'NKE', 'GS', 'WBA', 'SBUX', 'CSX', 'LMT', 'MDT', 'GS',\n",
        "    'SPGI', 'BIIB', 'LUV', 'UNP', 'ISRG', 'CI', 'CVS', 'TMO', 'HON', 'LRCX', 'SHW', 'RTX', 'MMM', 'BKNG', 'ITW', 'FISV', 'MU',\n",
        "    'QCOM', 'CHTR', 'STZ', 'TSCO', 'F', 'DE', 'NEE', 'MS', 'ZTS', 'WFC', 'PLD', 'AON', 'BMY', 'MMC', 'FIS', 'KHC', 'SLB', 'APD',\n",
        "    'MDLZ', 'CHD', 'HUM', 'AIG', 'EL', 'SYK', 'HCA', 'DUK', 'ALL', 'C', 'OXY', 'HPE', 'SPG', 'SYY', 'VLO', 'ES', 'VMC', 'FTNT',\n",
        "    'DHR', 'EOG', 'IT', 'AFL', 'NOC', 'COP', 'GILD', 'VRTX', 'WDC', 'MSCI', 'ADP', 'EXC', 'FANG', 'ZBH', 'CTSH', 'NEM', 'LHX',\n",
        "    'DOW', 'BKR', 'APTV', 'TDG', 'CHKP', 'KMB', 'IQV', 'PFE', 'MU', 'BIIB', 'RMD', 'WEC', 'VFC', 'CME', 'LULU', 'MCK', 'ROST',\n",
        "    'DG', 'O', 'TGT', 'SWKS', 'TROW', 'PKI', 'AEP', 'PEP', 'STT', 'MCO', 'AIZ', 'DHI', 'CTAS', 'SPGI', 'ADSK', 'FSLR', 'HIG',\n",
        "    'CSX', 'NUE', 'TMUS', 'FTV', 'EXPD', 'BAX', 'MTD', 'SWK', 'ETN', 'MMC', 'FCX', 'KSU', 'PSX', 'WMT', 'RSG', 'LNC', 'PLUG',\n",
        "    'TWTR', 'SQ', 'GOOG', 'MELI', 'DOCU', 'SPOT', 'BIDU', 'UBER', 'LYFT', 'PINS', 'SNAP', 'SQ', 'FSLR', 'SPLK', 'NVDA', 'PYPL',\n",
        "    'RNG', 'VEEV', 'ZS', 'ZM', 'DOCU', 'MDB', 'PINS', 'COST', 'NTES', 'ROKU', 'INTC', 'COST', 'MRNA', 'VEEV', 'SHOP', 'FVRR',\n",
        "    'WBA', 'NKE', 'TMO', 'IDXX', 'SWKS', 'MCD', 'AEP', 'AMT', 'EXC', 'KLAC', 'AON', 'VRTX', 'LULU', 'ZBH', 'HCA', 'FISV',\n",
        "    'TGT', 'MU', 'AMT', 'UNP', 'CME', 'VFC', 'SYY', 'SYK', 'CVS', 'SBUX', 'PFE', 'TROW', 'NEE', 'SPLK', 'FIS', 'FANG', 'PNC',\n",
        "    'TXN', 'CSCO', 'TMO', 'PGR', 'AMGN', 'SHOP', 'V', 'KMB', 'ROST', 'DXC', 'TAP', 'IDXX', 'BAX', 'LMT', 'RMD', 'ITW', 'RSG',\n",
        "    'REGN', 'COST', 'LMT', 'DHR', 'JPM', 'C', 'LUV', 'HUM', 'APD', 'MS', 'HCA', 'WDC', 'ABT', 'COST', 'AMZN', 'MA', 'MSFT', 'VZ',\n",
        "    'PFE', 'WMT', 'BMY', 'ZTS', 'GD', 'WFC', 'CHTR', 'GILD', 'FIS', 'ZBH', 'BIIB', 'LOW', 'NEE', 'VEEV', 'SWK', 'BA', 'MSCI',\n",
        "    'AVGO', 'GS', 'MU', 'UNH', 'DE', 'KHC', 'EXC', 'XOM', 'PYPL', 'LHX', 'LULU', 'CVS', 'GE', 'DOW', 'BABA', 'MDT', 'AAPL',\n",
        "    'HCA', 'BA', 'BAX', 'SBUX', 'NOC', 'LLY', 'ROKU', 'CHKP', 'SNAP', 'WEC', 'EL', 'COF', 'WMT', 'ZBH', 'PEP', 'EXPD', 'PLD',\n",
        "    'SPGI', 'MRNA', 'AMGN', 'HD', 'INTC', 'BIIB', 'ORCL', 'PG', 'CME', 'FCX', 'ALGN', 'MMM', 'V', 'BMY', 'STZ', 'DHR', 'VMC',\n",
        "    'COP', 'NTES', 'RTX', 'KO', 'GE', 'JNJ', 'AVGO', 'NSC', 'EOG', 'GPN', 'ADP', 'SYY', 'NEE', 'COST', 'SPGI', 'RSG', 'DLR',\n",
        "    'BKR', 'SPLK', 'PLD', 'VFC', 'TMO', 'LMT', 'EOG', 'CVS', 'NEM', 'MRK', 'AMGN', 'GOOG', 'CAT', 'AIG', 'CVX', 'CVS', 'AIG',\n",
        "    'TROW', 'CSX', 'MMC', 'RMD', 'HON', 'ZTS', 'AXP', 'T', 'ADSK', 'FTV', 'LHX', 'MSCI', 'PFE', 'DXC', 'LULU', 'PG', 'AMT',\n",
        "    'BAX', 'CSCO', 'HCA', 'DIS', 'VZ', 'IQV', 'EXC', 'AXP', 'REGN', 'CTAS', 'WEC', 'FISV', 'UNP', 'PEP', 'VLO', 'NKE', 'TRV',\n",
        "    'GE', 'NUE', 'NEE', 'INTC', 'ALXN', 'AON', 'IDXX', 'AAPL', 'WMT', 'TMO', 'MDT', 'HON', 'XOM', 'LMT', 'SBUX', 'MMM', 'KMB',\n",
        "    'APD', 'WDC', 'MSCI', 'ZTS', 'KHC', 'GS', 'AIG', 'BMY', 'PYPL', 'WFC', 'LUV', 'PG', 'AMGN', 'ZBH', 'NVDA', 'TGT', 'CRM'\n",
        "]"
      ]
    },
    {
      "cell_type": "code",
      "execution_count": null,
      "metadata": {
        "id": "7PC3bNKF0y6P"
      },
      "outputs": [],
      "source": [
        "# data = yf.download(sp500_tickers, start='2000-01-01', end='2025-04-01', auto_adjust=True)\n",
        "\n",
        "# with open('/content/drive/MyDrive/data_Multilayer spillover with ML/data_2000_20250401_yfinance.pkl', 'wb') as f:\n",
        "#     pickle.dump(data, f)\n",
        "\n",
        "with open('/content/drive/MyDrive/data_Multilayer spillover with ML/data_2000_20250401_yfinance.pkl', 'rb') as file:\n",
        "    data = pickle.load(file)"
      ]
    },
    {
      "cell_type": "code",
      "execution_count": null,
      "metadata": {
        "id": "kOM6b8EPBrOY"
      },
      "outputs": [],
      "source": [
        "df_sp500_price = data['Close'].dropna(axis=1).dropna()"
      ]
    },
    {
      "cell_type": "code",
      "execution_count": null,
      "metadata": {
        "id": "4V9KWfYm1Br1"
      },
      "outputs": [],
      "source": [
        "df_sp500_return = data['Close'].dropna(axis=1).dropna().pct_change().dropna()"
      ]
    },
    {
      "cell_type": "code",
      "execution_count": null,
      "metadata": {
        "id": "NYGlTHrQ-TLP"
      },
      "outputs": [],
      "source": [
        "df_sp500_tmp_close = data['Close']\n",
        "df_sp500_tmp_volume = data['Volume']"
      ]
    },
    {
      "cell_type": "code",
      "execution_count": null,
      "metadata": {
        "id": "uWHoSGlB-uc_"
      },
      "outputs": [],
      "source": [
        "df_sp500_tradingval_tmp = df_sp500_tmp_close * df_sp500_tmp_volume\n",
        "df_sp500_tradingval = df_sp500_tradingval_tmp.dropna(axis=1).dropna()"
      ]
    },
    {
      "cell_type": "code",
      "execution_count": null,
      "metadata": {
        "id": "R8ACUuha-vef"
      },
      "outputs": [],
      "source": [
        "layers = [df_sp500_price.head(10), df_sp500_return.head(10), df_sp500_tradingval.head(10)]"
      ]
    },
    {
      "cell_type": "markdown",
      "metadata": {
        "id": "SDU2Uhte5RsY"
      },
      "source": [
        "# `granger_causality_all_pairs()`\n",
        "Granger test has been written for find relation between securities (nodes) in each layer."
      ]
    },
    {
      "cell_type": "code",
      "execution_count": null,
      "metadata": {
        "id": "Le6zOMNb3lqm"
      },
      "outputs": [],
      "source": [
        "import warnings\n",
        "warnings.filterwarnings(\"ignore\")\n",
        "\n",
        "import numpy as np\n",
        "from statsmodels.tsa.stattools import grangercausalitytests\n",
        "from joblib import Parallel, delayed\n",
        "from tqdm import tqdm\n",
        "import pandas as pd\n",
        "\n",
        "def granger_causality_all_pairs(df, max_lag=[1], num_threads=8):\n",
        "    cols = df.columns\n",
        "    num_columns = len(cols)\n",
        "    p_values = np.zeros((num_columns, num_columns))\n",
        "\n",
        "    # Function to process each pair of columns\n",
        "    def process_pair(i, j):\n",
        "        try:\n",
        "            result = grangercausalitytests(df[[df.columns[i], df.columns[j]]], max_lag, verbose=False)\n",
        "            return (i, j, result[1][0]['ssr_chi2test'][1])  # Return the pair and p-value\n",
        "        except Exception as e:\n",
        "            print(f\" ======================== Exception ======================== \")\n",
        "            print(f\"Failed pair: {i}, {j}\")\n",
        "            print(f\"Data:\\n{df[[df.columns[i], df.columns[j]]].head()}\")\n",
        "            print(f\"Error: {e}\")\n",
        "            return (i, j, None)  # Return None for failed pair\n",
        "\n",
        "    # Create a list of tasks (i, j) pairs to process in parallel\n",
        "    tasks = [(i, j) for i in range(num_columns) for j in range(num_columns) if i != j]\n",
        "\n",
        "    # Use joblib to parallelize the processing of pairs\n",
        "    results = Parallel(n_jobs=num_threads)(delayed(process_pair)(i, j) for i, j in tqdm(tasks, desc=\"Processing Pairs\", total=len(tasks)))\n",
        "\n",
        "    # Store the results in the p_values matrix\n",
        "    for i, j, p_value in results:\n",
        "        if p_value is not None:\n",
        "            p_values[i, j] = p_value\n",
        "\n",
        "    # Convert the p_values matrix into a DataFrame with proper column names\n",
        "    p_values_df = pd.DataFrame(p_values, columns=cols, index=cols)\n",
        "\n",
        "    return p_values_df\n"
      ]
    },
    {
      "cell_type": "markdown",
      "metadata": {
        "id": "IxZKTYas25fd"
      },
      "source": [
        "**Sliding window is incrementing with 30 days steps and 100 days as window length**\n",
        "\n",
        "This part implements a sliding window technique on time-series data, where the window slides forward in increments of 30 days. Each window represents a 100-day span, allowing for efficient processing and analysis of data in overlapping segments."
      ]
    },
    {
      "cell_type": "code",
      "execution_count": null,
      "metadata": {
        "id": "WeZmDovl1zn8"
      },
      "outputs": [],
      "source": [
        "import time\n",
        "\n",
        "def rolling_window_on_data(df):\n",
        "  for unit in np.arange(step=30,stop=len(df)):\n",
        "    window = df.iloc[unit:unit+100]\n",
        "    maxx = window.index.max()\n",
        "\n",
        "    # Cut boundry before loss data in length of window\n",
        "    if maxx == np.datetime64('2025-03-31 00:00:00'): break\n",
        "    yield window"
      ]
    },
    {
      "cell_type": "code",
      "execution_count": 9,
      "metadata": {
        "colab": {
          "base_uri": "https://localhost:8080/"
        },
        "id": "cVi_9ZuoGuAt",
        "outputId": "132e17d1-5e6a-4b17-e6cc-2083a348bb73"
      },
      "outputs": [
        {
          "data": {
            "text/plain": [
              "209"
            ]
          },
          "execution_count": 9,
          "metadata": {},
          "output_type": "execute_result"
        }
      ],
      "source": [
        "# import pickle\n",
        "\n",
        "# with open('/content/drive/MyDrive/data_Multilayer spillover with ML/layers/layer3/layer3_tradingval_205_times_evolution.pkl', 'rb') as file:\n",
        "#     temp3001 = pickle.load(file)\n",
        "\n",
        "# with open('/content/drive/MyDrive/data_Multilayer spillover with ML/layers/layer3/layer3_tradingval_206_209.pkl', 'rb') as file:\n",
        "#     temp3002 = pickle.load(file)\n",
        "\n",
        "# temp = temp3002\n",
        "\n",
        "# len(temp3002)"
      ]
    },
    {
      "cell_type": "code",
      "execution_count": 7,
      "metadata": {
        "colab": {
          "base_uri": "https://localhost:8080/",
          "height": 475
        },
        "id": "-nOavaI2Gt1e",
        "outputId": "dc00a241-a7f8-45d4-8ebd-e6c7a192c842"
      },
      "outputs": [
        {
          "data": {
            "application/vnd.google.colaboratory.intrinsic+json": {
              "type": "dataframe"
            },
            "text/html": [
              "\n",
              "  <div id=\"df-4e25a578-d444-462c-8719-3ddc32e7adc1\" class=\"colab-df-container\">\n",
              "    <div>\n",
              "<style scoped>\n",
              "    .dataframe tbody tr th:only-of-type {\n",
              "        vertical-align: middle;\n",
              "    }\n",
              "\n",
              "    .dataframe tbody tr th {\n",
              "        vertical-align: top;\n",
              "    }\n",
              "\n",
              "    .dataframe thead th {\n",
              "        text-align: right;\n",
              "    }\n",
              "</style>\n",
              "<table border=\"1\" class=\"dataframe\">\n",
              "  <thead>\n",
              "    <tr style=\"text-align: right;\">\n",
              "      <th>Ticker</th>\n",
              "      <th>AAPL</th>\n",
              "      <th>ABT</th>\n",
              "      <th>ADBE</th>\n",
              "      <th>ADP</th>\n",
              "      <th>ADSK</th>\n",
              "      <th>AEP</th>\n",
              "      <th>AFL</th>\n",
              "      <th>AIG</th>\n",
              "      <th>ALL</th>\n",
              "      <th>AMGN</th>\n",
              "      <th>...</th>\n",
              "      <th>VLO</th>\n",
              "      <th>VMC</th>\n",
              "      <th>VRTX</th>\n",
              "      <th>VZ</th>\n",
              "      <th>WBA</th>\n",
              "      <th>WDC</th>\n",
              "      <th>WEC</th>\n",
              "      <th>WFC</th>\n",
              "      <th>WMT</th>\n",
              "      <th>XOM</th>\n",
              "    </tr>\n",
              "    <tr>\n",
              "      <th>Ticker</th>\n",
              "      <th></th>\n",
              "      <th></th>\n",
              "      <th></th>\n",
              "      <th></th>\n",
              "      <th></th>\n",
              "      <th></th>\n",
              "      <th></th>\n",
              "      <th></th>\n",
              "      <th></th>\n",
              "      <th></th>\n",
              "      <th></th>\n",
              "      <th></th>\n",
              "      <th></th>\n",
              "      <th></th>\n",
              "      <th></th>\n",
              "      <th></th>\n",
              "      <th></th>\n",
              "      <th></th>\n",
              "      <th></th>\n",
              "      <th></th>\n",
              "      <th></th>\n",
              "    </tr>\n",
              "  </thead>\n",
              "  <tbody>\n",
              "    <tr>\n",
              "      <th>AAPL</th>\n",
              "      <td>0.000000</td>\n",
              "      <td>0.439025</td>\n",
              "      <td>0.174036</td>\n",
              "      <td>0.511560</td>\n",
              "      <td>0.120193</td>\n",
              "      <td>0.025238</td>\n",
              "      <td>0.067473</td>\n",
              "      <td>0.113563</td>\n",
              "      <td>0.985333</td>\n",
              "      <td>0.639294</td>\n",
              "      <td>...</td>\n",
              "      <td>0.154842</td>\n",
              "      <td>0.177224</td>\n",
              "      <td>0.589467</td>\n",
              "      <td>0.613558</td>\n",
              "      <td>0.671400</td>\n",
              "      <td>0.911432</td>\n",
              "      <td>0.450635</td>\n",
              "      <td>0.000268</td>\n",
              "      <td>0.132140</td>\n",
              "      <td>0.873990</td>\n",
              "    </tr>\n",
              "    <tr>\n",
              "      <th>ABT</th>\n",
              "      <td>0.848448</td>\n",
              "      <td>0.000000</td>\n",
              "      <td>0.000258</td>\n",
              "      <td>0.658293</td>\n",
              "      <td>0.910420</td>\n",
              "      <td>0.940103</td>\n",
              "      <td>0.637965</td>\n",
              "      <td>0.523505</td>\n",
              "      <td>0.737103</td>\n",
              "      <td>0.969059</td>\n",
              "      <td>...</td>\n",
              "      <td>0.154864</td>\n",
              "      <td>0.012001</td>\n",
              "      <td>0.580924</td>\n",
              "      <td>0.856544</td>\n",
              "      <td>0.315492</td>\n",
              "      <td>0.554373</td>\n",
              "      <td>0.649948</td>\n",
              "      <td>0.010524</td>\n",
              "      <td>0.440079</td>\n",
              "      <td>0.458206</td>\n",
              "    </tr>\n",
              "    <tr>\n",
              "      <th>ADBE</th>\n",
              "      <td>0.724849</td>\n",
              "      <td>0.055331</td>\n",
              "      <td>0.000000</td>\n",
              "      <td>0.001502</td>\n",
              "      <td>0.346052</td>\n",
              "      <td>0.614949</td>\n",
              "      <td>0.420747</td>\n",
              "      <td>0.383392</td>\n",
              "      <td>0.013896</td>\n",
              "      <td>0.034395</td>\n",
              "      <td>...</td>\n",
              "      <td>0.731146</td>\n",
              "      <td>0.761163</td>\n",
              "      <td>0.175828</td>\n",
              "      <td>0.073950</td>\n",
              "      <td>0.422310</td>\n",
              "      <td>0.388382</td>\n",
              "      <td>0.479068</td>\n",
              "      <td>0.000603</td>\n",
              "      <td>0.350415</td>\n",
              "      <td>0.909575</td>\n",
              "    </tr>\n",
              "    <tr>\n",
              "      <th>ADP</th>\n",
              "      <td>0.191206</td>\n",
              "      <td>0.364026</td>\n",
              "      <td>0.040367</td>\n",
              "      <td>0.000000</td>\n",
              "      <td>0.035868</td>\n",
              "      <td>0.177434</td>\n",
              "      <td>0.428906</td>\n",
              "      <td>0.404772</td>\n",
              "      <td>0.847949</td>\n",
              "      <td>0.557161</td>\n",
              "      <td>...</td>\n",
              "      <td>0.244351</td>\n",
              "      <td>0.097052</td>\n",
              "      <td>0.305360</td>\n",
              "      <td>0.622298</td>\n",
              "      <td>0.952990</td>\n",
              "      <td>0.312023</td>\n",
              "      <td>0.625724</td>\n",
              "      <td>0.001394</td>\n",
              "      <td>0.517605</td>\n",
              "      <td>0.161726</td>\n",
              "    </tr>\n",
              "    <tr>\n",
              "      <th>ADSK</th>\n",
              "      <td>0.828957</td>\n",
              "      <td>0.038890</td>\n",
              "      <td>0.422073</td>\n",
              "      <td>0.024354</td>\n",
              "      <td>0.000000</td>\n",
              "      <td>0.035356</td>\n",
              "      <td>0.823871</td>\n",
              "      <td>0.499881</td>\n",
              "      <td>0.051033</td>\n",
              "      <td>0.362193</td>\n",
              "      <td>...</td>\n",
              "      <td>0.351009</td>\n",
              "      <td>0.832404</td>\n",
              "      <td>0.069641</td>\n",
              "      <td>0.248324</td>\n",
              "      <td>0.601856</td>\n",
              "      <td>0.529964</td>\n",
              "      <td>0.620870</td>\n",
              "      <td>0.148644</td>\n",
              "      <td>0.355423</td>\n",
              "      <td>0.245323</td>\n",
              "    </tr>\n",
              "    <tr>\n",
              "      <th>...</th>\n",
              "      <td>...</td>\n",
              "      <td>...</td>\n",
              "      <td>...</td>\n",
              "      <td>...</td>\n",
              "      <td>...</td>\n",
              "      <td>...</td>\n",
              "      <td>...</td>\n",
              "      <td>...</td>\n",
              "      <td>...</td>\n",
              "      <td>...</td>\n",
              "      <td>...</td>\n",
              "      <td>...</td>\n",
              "      <td>...</td>\n",
              "      <td>...</td>\n",
              "      <td>...</td>\n",
              "      <td>...</td>\n",
              "      <td>...</td>\n",
              "      <td>...</td>\n",
              "      <td>...</td>\n",
              "      <td>...</td>\n",
              "      <td>...</td>\n",
              "    </tr>\n",
              "    <tr>\n",
              "      <th>WDC</th>\n",
              "      <td>0.272080</td>\n",
              "      <td>0.418474</td>\n",
              "      <td>0.961322</td>\n",
              "      <td>0.734358</td>\n",
              "      <td>0.750438</td>\n",
              "      <td>0.341149</td>\n",
              "      <td>0.936078</td>\n",
              "      <td>0.643827</td>\n",
              "      <td>0.542680</td>\n",
              "      <td>0.888438</td>\n",
              "      <td>...</td>\n",
              "      <td>0.703295</td>\n",
              "      <td>0.782498</td>\n",
              "      <td>0.618914</td>\n",
              "      <td>0.673563</td>\n",
              "      <td>0.772894</td>\n",
              "      <td>0.000000</td>\n",
              "      <td>0.392022</td>\n",
              "      <td>0.127151</td>\n",
              "      <td>0.502499</td>\n",
              "      <td>0.453324</td>\n",
              "    </tr>\n",
              "    <tr>\n",
              "      <th>WEC</th>\n",
              "      <td>0.941761</td>\n",
              "      <td>0.600111</td>\n",
              "      <td>0.954855</td>\n",
              "      <td>0.969202</td>\n",
              "      <td>0.834749</td>\n",
              "      <td>0.594403</td>\n",
              "      <td>0.747000</td>\n",
              "      <td>0.660536</td>\n",
              "      <td>0.646611</td>\n",
              "      <td>0.944967</td>\n",
              "      <td>...</td>\n",
              "      <td>0.273647</td>\n",
              "      <td>0.672327</td>\n",
              "      <td>0.000215</td>\n",
              "      <td>0.394510</td>\n",
              "      <td>0.982604</td>\n",
              "      <td>0.463147</td>\n",
              "      <td>0.000000</td>\n",
              "      <td>0.573136</td>\n",
              "      <td>0.477037</td>\n",
              "      <td>0.618067</td>\n",
              "    </tr>\n",
              "    <tr>\n",
              "      <th>WFC</th>\n",
              "      <td>0.355600</td>\n",
              "      <td>0.017609</td>\n",
              "      <td>0.743363</td>\n",
              "      <td>0.027231</td>\n",
              "      <td>0.788533</td>\n",
              "      <td>0.696545</td>\n",
              "      <td>0.121805</td>\n",
              "      <td>0.067231</td>\n",
              "      <td>0.117680</td>\n",
              "      <td>0.023851</td>\n",
              "      <td>...</td>\n",
              "      <td>0.804956</td>\n",
              "      <td>0.652506</td>\n",
              "      <td>0.170776</td>\n",
              "      <td>0.119886</td>\n",
              "      <td>0.616476</td>\n",
              "      <td>0.843330</td>\n",
              "      <td>0.711325</td>\n",
              "      <td>0.000000</td>\n",
              "      <td>0.141026</td>\n",
              "      <td>0.092449</td>\n",
              "    </tr>\n",
              "    <tr>\n",
              "      <th>WMT</th>\n",
              "      <td>0.194475</td>\n",
              "      <td>0.396419</td>\n",
              "      <td>0.025332</td>\n",
              "      <td>0.311602</td>\n",
              "      <td>0.977394</td>\n",
              "      <td>0.652818</td>\n",
              "      <td>0.619494</td>\n",
              "      <td>0.402998</td>\n",
              "      <td>0.236005</td>\n",
              "      <td>0.210868</td>\n",
              "      <td>...</td>\n",
              "      <td>0.329833</td>\n",
              "      <td>0.028138</td>\n",
              "      <td>0.354830</td>\n",
              "      <td>0.436272</td>\n",
              "      <td>0.974311</td>\n",
              "      <td>0.346015</td>\n",
              "      <td>0.588042</td>\n",
              "      <td>0.268731</td>\n",
              "      <td>0.000000</td>\n",
              "      <td>0.556305</td>\n",
              "    </tr>\n",
              "    <tr>\n",
              "      <th>XOM</th>\n",
              "      <td>0.632971</td>\n",
              "      <td>0.022347</td>\n",
              "      <td>0.114940</td>\n",
              "      <td>0.047481</td>\n",
              "      <td>0.389676</td>\n",
              "      <td>0.969523</td>\n",
              "      <td>0.956922</td>\n",
              "      <td>0.982831</td>\n",
              "      <td>0.206796</td>\n",
              "      <td>0.040386</td>\n",
              "      <td>...</td>\n",
              "      <td>0.253061</td>\n",
              "      <td>0.803486</td>\n",
              "      <td>0.177166</td>\n",
              "      <td>0.541684</td>\n",
              "      <td>0.797130</td>\n",
              "      <td>0.536139</td>\n",
              "      <td>0.963918</td>\n",
              "      <td>0.077341</td>\n",
              "      <td>0.973371</td>\n",
              "      <td>0.000000</td>\n",
              "    </tr>\n",
              "  </tbody>\n",
              "</table>\n",
              "<p>140 rows × 140 columns</p>\n",
              "</div>\n",
              "    <div class=\"colab-df-buttons\">\n",
              "\n",
              "  <div class=\"colab-df-container\">\n",
              "    <button class=\"colab-df-convert\" onclick=\"convertToInteractive('df-4e25a578-d444-462c-8719-3ddc32e7adc1')\"\n",
              "            title=\"Convert this dataframe to an interactive table.\"\n",
              "            style=\"display:none;\">\n",
              "\n",
              "  <svg xmlns=\"http://www.w3.org/2000/svg\" height=\"24px\" viewBox=\"0 -960 960 960\">\n",
              "    <path d=\"M120-120v-720h720v720H120Zm60-500h600v-160H180v160Zm220 220h160v-160H400v160Zm0 220h160v-160H400v160ZM180-400h160v-160H180v160Zm440 0h160v-160H620v160ZM180-180h160v-160H180v160Zm440 0h160v-160H620v160Z\"/>\n",
              "  </svg>\n",
              "    </button>\n",
              "\n",
              "  <style>\n",
              "    .colab-df-container {\n",
              "      display:flex;\n",
              "      gap: 12px;\n",
              "    }\n",
              "\n",
              "    .colab-df-convert {\n",
              "      background-color: #E8F0FE;\n",
              "      border: none;\n",
              "      border-radius: 50%;\n",
              "      cursor: pointer;\n",
              "      display: none;\n",
              "      fill: #1967D2;\n",
              "      height: 32px;\n",
              "      padding: 0 0 0 0;\n",
              "      width: 32px;\n",
              "    }\n",
              "\n",
              "    .colab-df-convert:hover {\n",
              "      background-color: #E2EBFA;\n",
              "      box-shadow: 0px 1px 2px rgba(60, 64, 67, 0.3), 0px 1px 3px 1px rgba(60, 64, 67, 0.15);\n",
              "      fill: #174EA6;\n",
              "    }\n",
              "\n",
              "    .colab-df-buttons div {\n",
              "      margin-bottom: 4px;\n",
              "    }\n",
              "\n",
              "    [theme=dark] .colab-df-convert {\n",
              "      background-color: #3B4455;\n",
              "      fill: #D2E3FC;\n",
              "    }\n",
              "\n",
              "    [theme=dark] .colab-df-convert:hover {\n",
              "      background-color: #434B5C;\n",
              "      box-shadow: 0px 1px 3px 1px rgba(0, 0, 0, 0.15);\n",
              "      filter: drop-shadow(0px 1px 2px rgba(0, 0, 0, 0.3));\n",
              "      fill: #FFFFFF;\n",
              "    }\n",
              "  </style>\n",
              "\n",
              "    <script>\n",
              "      const buttonEl =\n",
              "        document.querySelector('#df-4e25a578-d444-462c-8719-3ddc32e7adc1 button.colab-df-convert');\n",
              "      buttonEl.style.display =\n",
              "        google.colab.kernel.accessAllowed ? 'block' : 'none';\n",
              "\n",
              "      async function convertToInteractive(key) {\n",
              "        const element = document.querySelector('#df-4e25a578-d444-462c-8719-3ddc32e7adc1');\n",
              "        const dataTable =\n",
              "          await google.colab.kernel.invokeFunction('convertToInteractive',\n",
              "                                                    [key], {});\n",
              "        if (!dataTable) return;\n",
              "\n",
              "        const docLinkHtml = 'Like what you see? Visit the ' +\n",
              "          '<a target=\"_blank\" href=https://colab.research.google.com/notebooks/data_table.ipynb>data table notebook</a>'\n",
              "          + ' to learn more about interactive tables.';\n",
              "        element.innerHTML = '';\n",
              "        dataTable['output_type'] = 'display_data';\n",
              "        await google.colab.output.renderOutput(dataTable, element);\n",
              "        const docLink = document.createElement('div');\n",
              "        docLink.innerHTML = docLinkHtml;\n",
              "        element.appendChild(docLink);\n",
              "      }\n",
              "    </script>\n",
              "  </div>\n",
              "\n",
              "\n",
              "<div id=\"df-94c5367d-a60e-47f8-8d87-99cd6b630d71\">\n",
              "  <button class=\"colab-df-quickchart\" onclick=\"quickchart('df-94c5367d-a60e-47f8-8d87-99cd6b630d71')\"\n",
              "            title=\"Suggest charts\"\n",
              "            style=\"display:none;\">\n",
              "\n",
              "<svg xmlns=\"http://www.w3.org/2000/svg\" height=\"24px\"viewBox=\"0 0 24 24\"\n",
              "     width=\"24px\">\n",
              "    <g>\n",
              "        <path d=\"M19 3H5c-1.1 0-2 .9-2 2v14c0 1.1.9 2 2 2h14c1.1 0 2-.9 2-2V5c0-1.1-.9-2-2-2zM9 17H7v-7h2v7zm4 0h-2V7h2v10zm4 0h-2v-4h2v4z\"/>\n",
              "    </g>\n",
              "</svg>\n",
              "  </button>\n",
              "\n",
              "<style>\n",
              "  .colab-df-quickchart {\n",
              "      --bg-color: #E8F0FE;\n",
              "      --fill-color: #1967D2;\n",
              "      --hover-bg-color: #E2EBFA;\n",
              "      --hover-fill-color: #174EA6;\n",
              "      --disabled-fill-color: #AAA;\n",
              "      --disabled-bg-color: #DDD;\n",
              "  }\n",
              "\n",
              "  [theme=dark] .colab-df-quickchart {\n",
              "      --bg-color: #3B4455;\n",
              "      --fill-color: #D2E3FC;\n",
              "      --hover-bg-color: #434B5C;\n",
              "      --hover-fill-color: #FFFFFF;\n",
              "      --disabled-bg-color: #3B4455;\n",
              "      --disabled-fill-color: #666;\n",
              "  }\n",
              "\n",
              "  .colab-df-quickchart {\n",
              "    background-color: var(--bg-color);\n",
              "    border: none;\n",
              "    border-radius: 50%;\n",
              "    cursor: pointer;\n",
              "    display: none;\n",
              "    fill: var(--fill-color);\n",
              "    height: 32px;\n",
              "    padding: 0;\n",
              "    width: 32px;\n",
              "  }\n",
              "\n",
              "  .colab-df-quickchart:hover {\n",
              "    background-color: var(--hover-bg-color);\n",
              "    box-shadow: 0 1px 2px rgba(60, 64, 67, 0.3), 0 1px 3px 1px rgba(60, 64, 67, 0.15);\n",
              "    fill: var(--button-hover-fill-color);\n",
              "  }\n",
              "\n",
              "  .colab-df-quickchart-complete:disabled,\n",
              "  .colab-df-quickchart-complete:disabled:hover {\n",
              "    background-color: var(--disabled-bg-color);\n",
              "    fill: var(--disabled-fill-color);\n",
              "    box-shadow: none;\n",
              "  }\n",
              "\n",
              "  .colab-df-spinner {\n",
              "    border: 2px solid var(--fill-color);\n",
              "    border-color: transparent;\n",
              "    border-bottom-color: var(--fill-color);\n",
              "    animation:\n",
              "      spin 1s steps(1) infinite;\n",
              "  }\n",
              "\n",
              "  @keyframes spin {\n",
              "    0% {\n",
              "      border-color: transparent;\n",
              "      border-bottom-color: var(--fill-color);\n",
              "      border-left-color: var(--fill-color);\n",
              "    }\n",
              "    20% {\n",
              "      border-color: transparent;\n",
              "      border-left-color: var(--fill-color);\n",
              "      border-top-color: var(--fill-color);\n",
              "    }\n",
              "    30% {\n",
              "      border-color: transparent;\n",
              "      border-left-color: var(--fill-color);\n",
              "      border-top-color: var(--fill-color);\n",
              "      border-right-color: var(--fill-color);\n",
              "    }\n",
              "    40% {\n",
              "      border-color: transparent;\n",
              "      border-right-color: var(--fill-color);\n",
              "      border-top-color: var(--fill-color);\n",
              "    }\n",
              "    60% {\n",
              "      border-color: transparent;\n",
              "      border-right-color: var(--fill-color);\n",
              "    }\n",
              "    80% {\n",
              "      border-color: transparent;\n",
              "      border-right-color: var(--fill-color);\n",
              "      border-bottom-color: var(--fill-color);\n",
              "    }\n",
              "    90% {\n",
              "      border-color: transparent;\n",
              "      border-bottom-color: var(--fill-color);\n",
              "    }\n",
              "  }\n",
              "</style>\n",
              "\n",
              "  <script>\n",
              "    async function quickchart(key) {\n",
              "      const quickchartButtonEl =\n",
              "        document.querySelector('#' + key + ' button');\n",
              "      quickchartButtonEl.disabled = true;  // To prevent multiple clicks.\n",
              "      quickchartButtonEl.classList.add('colab-df-spinner');\n",
              "      try {\n",
              "        const charts = await google.colab.kernel.invokeFunction(\n",
              "            'suggestCharts', [key], {});\n",
              "      } catch (error) {\n",
              "        console.error('Error during call to suggestCharts:', error);\n",
              "      }\n",
              "      quickchartButtonEl.classList.remove('colab-df-spinner');\n",
              "      quickchartButtonEl.classList.add('colab-df-quickchart-complete');\n",
              "    }\n",
              "    (() => {\n",
              "      let quickchartButtonEl =\n",
              "        document.querySelector('#df-94c5367d-a60e-47f8-8d87-99cd6b630d71 button');\n",
              "      quickchartButtonEl.style.display =\n",
              "        google.colab.kernel.accessAllowed ? 'block' : 'none';\n",
              "    })();\n",
              "  </script>\n",
              "</div>\n",
              "\n",
              "    </div>\n",
              "  </div>\n"
            ],
            "text/plain": [
              "Ticker      AAPL       ABT      ADBE       ADP      ADSK       AEP       AFL  \\\n",
              "Ticker                                                                         \n",
              "AAPL    0.000000  0.439025  0.174036  0.511560  0.120193  0.025238  0.067473   \n",
              "ABT     0.848448  0.000000  0.000258  0.658293  0.910420  0.940103  0.637965   \n",
              "ADBE    0.724849  0.055331  0.000000  0.001502  0.346052  0.614949  0.420747   \n",
              "ADP     0.191206  0.364026  0.040367  0.000000  0.035868  0.177434  0.428906   \n",
              "ADSK    0.828957  0.038890  0.422073  0.024354  0.000000  0.035356  0.823871   \n",
              "...          ...       ...       ...       ...       ...       ...       ...   \n",
              "WDC     0.272080  0.418474  0.961322  0.734358  0.750438  0.341149  0.936078   \n",
              "WEC     0.941761  0.600111  0.954855  0.969202  0.834749  0.594403  0.747000   \n",
              "WFC     0.355600  0.017609  0.743363  0.027231  0.788533  0.696545  0.121805   \n",
              "WMT     0.194475  0.396419  0.025332  0.311602  0.977394  0.652818  0.619494   \n",
              "XOM     0.632971  0.022347  0.114940  0.047481  0.389676  0.969523  0.956922   \n",
              "\n",
              "Ticker       AIG       ALL      AMGN  ...       VLO       VMC      VRTX  \\\n",
              "Ticker                                ...                                 \n",
              "AAPL    0.113563  0.985333  0.639294  ...  0.154842  0.177224  0.589467   \n",
              "ABT     0.523505  0.737103  0.969059  ...  0.154864  0.012001  0.580924   \n",
              "ADBE    0.383392  0.013896  0.034395  ...  0.731146  0.761163  0.175828   \n",
              "ADP     0.404772  0.847949  0.557161  ...  0.244351  0.097052  0.305360   \n",
              "ADSK    0.499881  0.051033  0.362193  ...  0.351009  0.832404  0.069641   \n",
              "...          ...       ...       ...  ...       ...       ...       ...   \n",
              "WDC     0.643827  0.542680  0.888438  ...  0.703295  0.782498  0.618914   \n",
              "WEC     0.660536  0.646611  0.944967  ...  0.273647  0.672327  0.000215   \n",
              "WFC     0.067231  0.117680  0.023851  ...  0.804956  0.652506  0.170776   \n",
              "WMT     0.402998  0.236005  0.210868  ...  0.329833  0.028138  0.354830   \n",
              "XOM     0.982831  0.206796  0.040386  ...  0.253061  0.803486  0.177166   \n",
              "\n",
              "Ticker        VZ       WBA       WDC       WEC       WFC       WMT       XOM  \n",
              "Ticker                                                                        \n",
              "AAPL    0.613558  0.671400  0.911432  0.450635  0.000268  0.132140  0.873990  \n",
              "ABT     0.856544  0.315492  0.554373  0.649948  0.010524  0.440079  0.458206  \n",
              "ADBE    0.073950  0.422310  0.388382  0.479068  0.000603  0.350415  0.909575  \n",
              "ADP     0.622298  0.952990  0.312023  0.625724  0.001394  0.517605  0.161726  \n",
              "ADSK    0.248324  0.601856  0.529964  0.620870  0.148644  0.355423  0.245323  \n",
              "...          ...       ...       ...       ...       ...       ...       ...  \n",
              "WDC     0.673563  0.772894  0.000000  0.392022  0.127151  0.502499  0.453324  \n",
              "WEC     0.394510  0.982604  0.463147  0.000000  0.573136  0.477037  0.618067  \n",
              "WFC     0.119886  0.616476  0.843330  0.711325  0.000000  0.141026  0.092449  \n",
              "WMT     0.436272  0.974311  0.346015  0.588042  0.268731  0.000000  0.556305  \n",
              "XOM     0.541684  0.797130  0.536139  0.963918  0.077341  0.973371  0.000000  \n",
              "\n",
              "[140 rows x 140 columns]"
            ]
          },
          "execution_count": 7,
          "metadata": {},
          "output_type": "execute_result"
        }
      ],
      "source": [
        "temp[200]"
      ]
    },
    {
      "cell_type": "markdown",
      "metadata": {
        "id": "zqHJAxdPoUy_"
      },
      "source": [
        "This part trying to calculate granger causality and save them with determined frequency in a folder in google drive."
      ]
    },
    {
      "cell_type": "code",
      "execution_count": null,
      "metadata": {
        "colab": {
          "base_uri": "https://localhost:8080/"
        },
        "id": "IZg3z5eEGfaI",
        "outputId": "7ecc28c9-7878-435c-d0ab-c9509f9d87ff"
      },
      "outputs": [
        {
          "name": "stdout",
          "output_type": "stream",
          "text": [
            "0,2000-01-03 00:00:00,2000-05-24 00:00:00\n"
          ]
        },
        {
          "name": "stderr",
          "output_type": "stream",
          "text": [
            "Processing Pairs: 100%|██████████| 19460/19460 [01:45<00:00, 183.59it/s]\n"
          ]
        },
        {
          "name": "stdout",
          "output_type": "stream",
          "text": [
            "step: 1\n",
            "elements: 140\n",
            "1,2000-02-15 00:00:00,2000-07-07 00:00:00\n"
          ]
        },
        {
          "name": "stderr",
          "output_type": "stream",
          "text": [
            "Processing Pairs: 100%|██████████| 19460/19460 [01:21<00:00, 239.45it/s]\n"
          ]
        },
        {
          "name": "stdout",
          "output_type": "stream",
          "text": [
            "step: 2\n",
            "elements: 140\n",
            "2,2000-03-29 00:00:00,2000-08-18 00:00:00\n"
          ]
        },
        {
          "name": "stderr",
          "output_type": "stream",
          "text": [
            "Processing Pairs: 100%|██████████| 19460/19460 [01:21<00:00, 239.77it/s]\n"
          ]
        },
        {
          "name": "stdout",
          "output_type": "stream",
          "text": [
            "step: 3\n",
            "elements: 140\n",
            "3,2000-05-11 00:00:00,2000-10-02 00:00:00\n"
          ]
        },
        {
          "name": "stderr",
          "output_type": "stream",
          "text": [
            "Processing Pairs: 100%|██████████| 19460/19460 [01:22<00:00, 235.22it/s]\n"
          ]
        },
        {
          "name": "stdout",
          "output_type": "stream",
          "text": [
            "step: 4\n",
            "elements: 140\n",
            "4,2000-06-23 00:00:00,2000-11-13 00:00:00\n"
          ]
        },
        {
          "name": "stderr",
          "output_type": "stream",
          "text": [
            "Processing Pairs: 100%|██████████| 19460/19460 [01:21<00:00, 238.13it/s]\n"
          ]
        },
        {
          "name": "stdout",
          "output_type": "stream",
          "text": [
            "step: 5\n",
            "elements: 140\n",
            "5,2000-08-07 00:00:00,2000-12-27 00:00:00\n"
          ]
        },
        {
          "name": "stderr",
          "output_type": "stream",
          "text": [
            "Processing Pairs: 100%|██████████| 19460/19460 [01:20<00:00, 241.52it/s]\n"
          ]
        },
        {
          "name": "stdout",
          "output_type": "stream",
          "text": [
            "step: 6\n",
            "elements: 140\n",
            "6,2000-09-19 00:00:00,2001-02-09 00:00:00\n"
          ]
        },
        {
          "name": "stderr",
          "output_type": "stream",
          "text": [
            "Processing Pairs: 100%|██████████| 19460/19460 [01:17<00:00, 251.14it/s]\n"
          ]
        },
        {
          "name": "stdout",
          "output_type": "stream",
          "text": [
            "step: 7\n",
            "elements: 140\n",
            "7,2000-10-31 00:00:00,2001-03-26 00:00:00\n"
          ]
        },
        {
          "name": "stderr",
          "output_type": "stream",
          "text": [
            "Processing Pairs: 100%|██████████| 19460/19460 [01:21<00:00, 240.02it/s]\n"
          ]
        },
        {
          "name": "stdout",
          "output_type": "stream",
          "text": [
            "step: 8\n",
            "elements: 140\n",
            "8,2000-12-13 00:00:00,2001-05-08 00:00:00\n"
          ]
        },
        {
          "name": "stderr",
          "output_type": "stream",
          "text": [
            "Processing Pairs: 100%|██████████| 19460/19460 [01:20<00:00, 242.77it/s]\n"
          ]
        },
        {
          "name": "stdout",
          "output_type": "stream",
          "text": [
            "step: 9\n",
            "elements: 140\n",
            "9,2001-01-29 00:00:00,2001-06-20 00:00:00\n"
          ]
        },
        {
          "name": "stderr",
          "output_type": "stream",
          "text": [
            "Processing Pairs: 100%|██████████| 19460/19460 [01:19<00:00, 243.88it/s]\n"
          ]
        },
        {
          "name": "stdout",
          "output_type": "stream",
          "text": [
            "step: 10\n",
            "elements: 140\n",
            "10,2001-03-13 00:00:00,2001-08-02 00:00:00\n"
          ]
        },
        {
          "name": "stderr",
          "output_type": "stream",
          "text": [
            "Processing Pairs: 100%|██████████| 19460/19460 [01:22<00:00, 236.89it/s]\n"
          ]
        },
        {
          "name": "stdout",
          "output_type": "stream",
          "text": [
            "step: 11\n",
            "elements: 140\n",
            "11,2001-04-25 00:00:00,2001-09-20 00:00:00\n"
          ]
        },
        {
          "name": "stderr",
          "output_type": "stream",
          "text": [
            "Processing Pairs: 100%|██████████| 19460/19460 [01:21<00:00, 239.58it/s]\n"
          ]
        },
        {
          "name": "stdout",
          "output_type": "stream",
          "text": [
            "step: 12\n",
            "elements: 140\n",
            "12,2001-06-07 00:00:00,2001-11-01 00:00:00\n"
          ]
        },
        {
          "name": "stderr",
          "output_type": "stream",
          "text": [
            "Processing Pairs: 100%|██████████| 19460/19460 [01:21<00:00, 239.69it/s]\n"
          ]
        },
        {
          "name": "stdout",
          "output_type": "stream",
          "text": [
            "step: 13\n",
            "elements: 140\n",
            "13,2001-07-20 00:00:00,2001-12-14 00:00:00\n"
          ]
        },
        {
          "name": "stderr",
          "output_type": "stream",
          "text": [
            "Processing Pairs: 100%|██████████| 19460/19460 [01:23<00:00, 233.21it/s]\n"
          ]
        },
        {
          "name": "stdout",
          "output_type": "stream",
          "text": [
            "step: 14\n",
            "elements: 140\n",
            "14,2001-08-31 00:00:00,2002-01-30 00:00:00\n"
          ]
        },
        {
          "name": "stderr",
          "output_type": "stream",
          "text": [
            "Processing Pairs: 100%|██████████| 19460/19460 [01:19<00:00, 244.25it/s]\n"
          ]
        },
        {
          "name": "stdout",
          "output_type": "stream",
          "text": [
            "step: 15\n",
            "elements: 140\n",
            "15,2001-10-19 00:00:00,2002-03-14 00:00:00\n"
          ]
        },
        {
          "name": "stderr",
          "output_type": "stream",
          "text": [
            "Processing Pairs: 100%|██████████| 19460/19460 [01:25<00:00, 227.13it/s]\n"
          ]
        },
        {
          "name": "stdout",
          "output_type": "stream",
          "text": [
            "step: 16\n",
            "elements: 140\n",
            "16,2001-12-03 00:00:00,2002-04-26 00:00:00\n"
          ]
        },
        {
          "name": "stderr",
          "output_type": "stream",
          "text": [
            "Processing Pairs: 100%|██████████| 19460/19460 [01:22<00:00, 234.68it/s]\n"
          ]
        },
        {
          "name": "stdout",
          "output_type": "stream",
          "text": [
            "step: 17\n",
            "elements: 140\n",
            "17,2002-01-16 00:00:00,2002-06-10 00:00:00\n"
          ]
        },
        {
          "name": "stderr",
          "output_type": "stream",
          "text": [
            "Processing Pairs: 100%|██████████| 19460/19460 [01:21<00:00, 238.21it/s]\n"
          ]
        },
        {
          "name": "stdout",
          "output_type": "stream",
          "text": [
            "step: 18\n",
            "elements: 140\n",
            "18,2002-03-01 00:00:00,2002-07-23 00:00:00\n"
          ]
        },
        {
          "name": "stderr",
          "output_type": "stream",
          "text": [
            "Processing Pairs: 100%|██████████| 19460/19460 [01:24<00:00, 231.28it/s]\n"
          ]
        },
        {
          "name": "stdout",
          "output_type": "stream",
          "text": [
            "step: 19\n",
            "elements: 140\n",
            "19,2002-04-15 00:00:00,2002-09-04 00:00:00\n"
          ]
        },
        {
          "name": "stderr",
          "output_type": "stream",
          "text": [
            "Processing Pairs: 100%|██████████| 19460/19460 [01:30<00:00, 215.88it/s]\n"
          ]
        },
        {
          "name": "stdout",
          "output_type": "stream",
          "text": [
            "step: 20\n",
            "elements: 140\n",
            "20,2002-05-28 00:00:00,2002-10-16 00:00:00\n"
          ]
        },
        {
          "name": "stderr",
          "output_type": "stream",
          "text": [
            "Processing Pairs: 100%|██████████| 19460/19460 [01:26<00:00, 224.91it/s]\n"
          ]
        },
        {
          "name": "stdout",
          "output_type": "stream",
          "text": [
            "step: 21\n",
            "elements: 140\n",
            "21,2002-07-10 00:00:00,2002-11-27 00:00:00\n"
          ]
        },
        {
          "name": "stderr",
          "output_type": "stream",
          "text": [
            "Processing Pairs: 100%|██████████| 19460/19460 [01:17<00:00, 250.49it/s]\n"
          ]
        },
        {
          "name": "stdout",
          "output_type": "stream",
          "text": [
            "step: 22\n",
            "elements: 140\n",
            "22,2002-08-21 00:00:00,2003-01-13 00:00:00\n"
          ]
        },
        {
          "name": "stderr",
          "output_type": "stream",
          "text": [
            "Processing Pairs: 100%|██████████| 19460/19460 [01:22<00:00, 236.44it/s]\n"
          ]
        },
        {
          "name": "stdout",
          "output_type": "stream",
          "text": [
            "step: 23\n",
            "elements: 140\n",
            "23,2002-10-03 00:00:00,2003-02-26 00:00:00\n"
          ]
        },
        {
          "name": "stderr",
          "output_type": "stream",
          "text": [
            "Processing Pairs: 100%|██████████| 19460/19460 [01:25<00:00, 226.95it/s]\n"
          ]
        },
        {
          "name": "stdout",
          "output_type": "stream",
          "text": [
            "step: 24\n",
            "elements: 140\n",
            "24,2002-11-14 00:00:00,2003-04-09 00:00:00\n"
          ]
        },
        {
          "name": "stderr",
          "output_type": "stream",
          "text": [
            "Processing Pairs: 100%|██████████| 19460/19460 [01:22<00:00, 236.66it/s]\n"
          ]
        },
        {
          "name": "stdout",
          "output_type": "stream",
          "text": [
            "step: 25\n",
            "elements: 140\n",
            "25,2002-12-30 00:00:00,2003-05-22 00:00:00\n"
          ]
        },
        {
          "name": "stderr",
          "output_type": "stream",
          "text": [
            "Processing Pairs: 100%|██████████| 19460/19460 [01:31<00:00, 212.28it/s]\n"
          ]
        },
        {
          "name": "stdout",
          "output_type": "stream",
          "text": [
            "step: 26\n",
            "elements: 140\n",
            "26,2003-02-12 00:00:00,2003-07-07 00:00:00\n"
          ]
        },
        {
          "name": "stderr",
          "output_type": "stream",
          "text": [
            "Processing Pairs: 100%|██████████| 19460/19460 [01:36<00:00, 201.14it/s]\n"
          ]
        },
        {
          "name": "stdout",
          "output_type": "stream",
          "text": [
            "step: 27\n",
            "elements: 140\n",
            "27,2003-03-27 00:00:00,2003-08-18 00:00:00\n"
          ]
        },
        {
          "name": "stderr",
          "output_type": "stream",
          "text": [
            "Processing Pairs: 100%|██████████| 19460/19460 [01:28<00:00, 220.73it/s]\n"
          ]
        },
        {
          "name": "stdout",
          "output_type": "stream",
          "text": [
            "step: 28\n",
            "elements: 140\n",
            "28,2003-05-09 00:00:00,2003-09-30 00:00:00\n"
          ]
        },
        {
          "name": "stderr",
          "output_type": "stream",
          "text": [
            "Processing Pairs: 100%|██████████| 19460/19460 [01:22<00:00, 235.92it/s]\n"
          ]
        },
        {
          "name": "stdout",
          "output_type": "stream",
          "text": [
            "step: 29\n",
            "elements: 140\n",
            "29,2003-06-23 00:00:00,2003-11-11 00:00:00\n"
          ]
        },
        {
          "name": "stderr",
          "output_type": "stream",
          "text": [
            "Processing Pairs: 100%|██████████| 19460/19460 [01:21<00:00, 237.52it/s]\n"
          ]
        },
        {
          "name": "stdout",
          "output_type": "stream",
          "text": [
            "step: 30\n",
            "elements: 140\n",
            "30,2003-08-05 00:00:00,2003-12-24 00:00:00\n"
          ]
        },
        {
          "name": "stderr",
          "output_type": "stream",
          "text": [
            "Processing Pairs: 100%|██████████| 19460/19460 [01:21<00:00, 237.95it/s]\n"
          ]
        },
        {
          "name": "stdout",
          "output_type": "stream",
          "text": [
            "step: 31\n",
            "elements: 140\n",
            "31,2003-09-17 00:00:00,2004-02-09 00:00:00\n"
          ]
        },
        {
          "name": "stderr",
          "output_type": "stream",
          "text": [
            "Processing Pairs: 100%|██████████| 19460/19460 [01:25<00:00, 226.95it/s]\n"
          ]
        },
        {
          "name": "stdout",
          "output_type": "stream",
          "text": [
            "step: 32\n",
            "elements: 140\n",
            "32,2003-10-29 00:00:00,2004-03-23 00:00:00\n"
          ]
        },
        {
          "name": "stderr",
          "output_type": "stream",
          "text": [
            "Processing Pairs: 100%|██████████| 19460/19460 [01:22<00:00, 234.80it/s]\n"
          ]
        },
        {
          "name": "stdout",
          "output_type": "stream",
          "text": [
            "step: 33\n",
            "elements: 140\n",
            "33,2003-12-11 00:00:00,2004-05-05 00:00:00\n"
          ]
        },
        {
          "name": "stderr",
          "output_type": "stream",
          "text": [
            "Processing Pairs: 100%|██████████| 19460/19460 [01:20<00:00, 242.99it/s]\n"
          ]
        },
        {
          "name": "stdout",
          "output_type": "stream",
          "text": [
            "step: 34\n",
            "elements: 140\n",
            "34,2004-01-27 00:00:00,2004-06-18 00:00:00\n"
          ]
        },
        {
          "name": "stderr",
          "output_type": "stream",
          "text": [
            "Processing Pairs: 100%|██████████| 19460/19460 [01:20<00:00, 242.83it/s]\n"
          ]
        },
        {
          "name": "stdout",
          "output_type": "stream",
          "text": [
            "step: 35\n",
            "elements: 140\n",
            "35,2004-03-10 00:00:00,2004-08-02 00:00:00\n"
          ]
        },
        {
          "name": "stderr",
          "output_type": "stream",
          "text": [
            "Processing Pairs: 100%|██████████| 19460/19460 [01:27<00:00, 221.88it/s]\n"
          ]
        },
        {
          "name": "stdout",
          "output_type": "stream",
          "text": [
            "step: 36\n",
            "elements: 140\n",
            "36,2004-04-22 00:00:00,2004-09-14 00:00:00\n"
          ]
        },
        {
          "name": "stderr",
          "output_type": "stream",
          "text": [
            "Processing Pairs: 100%|██████████| 19460/19460 [01:16<00:00, 253.25it/s]\n"
          ]
        },
        {
          "name": "stdout",
          "output_type": "stream",
          "text": [
            "step: 37\n",
            "elements: 140\n",
            "37,2004-06-04 00:00:00,2004-10-26 00:00:00\n"
          ]
        },
        {
          "name": "stderr",
          "output_type": "stream",
          "text": [
            "Processing Pairs: 100%|██████████| 19460/19460 [01:25<00:00, 227.05it/s]\n"
          ]
        },
        {
          "name": "stdout",
          "output_type": "stream",
          "text": [
            "step: 38\n",
            "elements: 140\n",
            "38,2004-07-20 00:00:00,2004-12-08 00:00:00\n"
          ]
        },
        {
          "name": "stderr",
          "output_type": "stream",
          "text": [
            "Processing Pairs: 100%|██████████| 19460/19460 [01:22<00:00, 237.13it/s]\n"
          ]
        },
        {
          "name": "stdout",
          "output_type": "stream",
          "text": [
            "step: 39\n",
            "elements: 140\n",
            "39,2004-08-31 00:00:00,2005-01-21 00:00:00\n"
          ]
        },
        {
          "name": "stderr",
          "output_type": "stream",
          "text": [
            "Processing Pairs: 100%|██████████| 19460/19460 [01:20<00:00, 242.24it/s]\n"
          ]
        },
        {
          "name": "stdout",
          "output_type": "stream",
          "text": [
            "step: 40\n",
            "elements: 140\n",
            "40,2004-10-13 00:00:00,2005-03-07 00:00:00\n"
          ]
        },
        {
          "name": "stderr",
          "output_type": "stream",
          "text": [
            "Processing Pairs: 100%|██████████| 19460/19460 [01:19<00:00, 243.56it/s]\n"
          ]
        },
        {
          "name": "stdout",
          "output_type": "stream",
          "text": [
            "step: 41\n",
            "elements: 140\n",
            "41,2004-11-24 00:00:00,2005-04-19 00:00:00\n"
          ]
        },
        {
          "name": "stderr",
          "output_type": "stream",
          "text": [
            "Processing Pairs: 100%|██████████| 19460/19460 [01:23<00:00, 232.19it/s]\n"
          ]
        },
        {
          "name": "stdout",
          "output_type": "stream",
          "text": [
            "step: 42\n",
            "elements: 140\n",
            "42,2005-01-07 00:00:00,2005-06-01 00:00:00\n"
          ]
        },
        {
          "name": "stderr",
          "output_type": "stream",
          "text": [
            "Processing Pairs: 100%|██████████| 19460/19460 [01:19<00:00, 244.37it/s]\n"
          ]
        },
        {
          "name": "stdout",
          "output_type": "stream",
          "text": [
            "step: 43\n",
            "elements: 140\n",
            "43,2005-02-22 00:00:00,2005-07-14 00:00:00\n"
          ]
        },
        {
          "name": "stderr",
          "output_type": "stream",
          "text": [
            "Processing Pairs: 100%|██████████| 19460/19460 [01:19<00:00, 244.44it/s]\n"
          ]
        },
        {
          "name": "stdout",
          "output_type": "stream",
          "text": [
            "step: 44\n",
            "elements: 140\n",
            "44,2005-04-06 00:00:00,2005-08-25 00:00:00\n"
          ]
        },
        {
          "name": "stderr",
          "output_type": "stream",
          "text": [
            "Processing Pairs: 100%|██████████| 19460/19460 [01:19<00:00, 244.65it/s]\n"
          ]
        },
        {
          "name": "stdout",
          "output_type": "stream",
          "text": [
            "step: 45\n",
            "elements: 140\n",
            "45,2005-05-18 00:00:00,2005-10-07 00:00:00\n"
          ]
        },
        {
          "name": "stderr",
          "output_type": "stream",
          "text": [
            "Processing Pairs: 100%|██████████| 19460/19460 [01:26<00:00, 224.47it/s]\n"
          ]
        },
        {
          "name": "stdout",
          "output_type": "stream",
          "text": [
            "step: 46\n",
            "elements: 140\n",
            "46,2005-06-30 00:00:00,2005-11-18 00:00:00\n"
          ]
        },
        {
          "name": "stderr",
          "output_type": "stream",
          "text": [
            "Processing Pairs: 100%|██████████| 19460/19460 [01:18<00:00, 248.32it/s]\n"
          ]
        },
        {
          "name": "stdout",
          "output_type": "stream",
          "text": [
            "step: 47\n",
            "elements: 140\n",
            "47,2005-08-12 00:00:00,2006-01-04 00:00:00\n"
          ]
        },
        {
          "name": "stderr",
          "output_type": "stream",
          "text": [
            "Processing Pairs: 100%|██████████| 19460/19460 [01:19<00:00, 243.30it/s]\n"
          ]
        },
        {
          "name": "stdout",
          "output_type": "stream",
          "text": [
            "step: 48\n",
            "elements: 140\n",
            "48,2005-09-26 00:00:00,2006-02-16 00:00:00\n"
          ]
        },
        {
          "name": "stderr",
          "output_type": "stream",
          "text": [
            "Processing Pairs: 100%|██████████| 19460/19460 [01:21<00:00, 237.39it/s]\n"
          ]
        },
        {
          "name": "stdout",
          "output_type": "stream",
          "text": [
            "step: 49\n",
            "elements: 140\n",
            "49,2005-11-07 00:00:00,2006-03-31 00:00:00\n"
          ]
        },
        {
          "name": "stderr",
          "output_type": "stream",
          "text": [
            "Processing Pairs: 100%|██████████| 19460/19460 [01:18<00:00, 247.71it/s]\n"
          ]
        },
        {
          "name": "stdout",
          "output_type": "stream",
          "text": [
            "step: 50\n",
            "elements: 140\n",
            "50,2005-12-20 00:00:00,2006-05-15 00:00:00\n"
          ]
        },
        {
          "name": "stderr",
          "output_type": "stream",
          "text": [
            "Processing Pairs: 100%|██████████| 19460/19460 [01:26<00:00, 226.11it/s]\n"
          ]
        },
        {
          "name": "stdout",
          "output_type": "stream",
          "text": [
            "step: 51\n",
            "elements: 140\n",
            "51,2006-02-03 00:00:00,2006-06-27 00:00:00\n"
          ]
        },
        {
          "name": "stderr",
          "output_type": "stream",
          "text": [
            "Processing Pairs: 100%|██████████| 19460/19460 [01:21<00:00, 237.62it/s]\n"
          ]
        },
        {
          "name": "stdout",
          "output_type": "stream",
          "text": [
            "step: 52\n",
            "elements: 140\n",
            "52,2006-03-20 00:00:00,2006-08-09 00:00:00\n"
          ]
        },
        {
          "name": "stderr",
          "output_type": "stream",
          "text": [
            "Processing Pairs: 100%|██████████| 19460/19460 [01:19<00:00, 244.06it/s]\n"
          ]
        },
        {
          "name": "stdout",
          "output_type": "stream",
          "text": [
            "step: 53\n",
            "elements: 140\n",
            "53,2006-05-02 00:00:00,2006-09-21 00:00:00\n"
          ]
        },
        {
          "name": "stderr",
          "output_type": "stream",
          "text": [
            "Processing Pairs: 100%|██████████| 19460/19460 [01:23<00:00, 232.09it/s]\n"
          ]
        },
        {
          "name": "stdout",
          "output_type": "stream",
          "text": [
            "step: 54\n",
            "elements: 140\n",
            "54,2006-06-14 00:00:00,2006-11-02 00:00:00\n"
          ]
        },
        {
          "name": "stderr",
          "output_type": "stream",
          "text": [
            "Processing Pairs: 100%|██████████| 19460/19460 [01:21<00:00, 237.50it/s]\n"
          ]
        },
        {
          "name": "stdout",
          "output_type": "stream",
          "text": [
            "step: 55\n",
            "elements: 140\n",
            "55,2006-07-27 00:00:00,2006-12-15 00:00:00\n"
          ]
        },
        {
          "name": "stderr",
          "output_type": "stream",
          "text": [
            "Processing Pairs: 100%|██████████| 19460/19460 [01:20<00:00, 241.50it/s]\n"
          ]
        },
        {
          "name": "stdout",
          "output_type": "stream",
          "text": [
            "step: 56\n",
            "elements: 140\n",
            "56,2006-09-08 00:00:00,2007-02-01 00:00:00\n"
          ]
        },
        {
          "name": "stderr",
          "output_type": "stream",
          "text": [
            "Processing Pairs: 100%|██████████| 19460/19460 [01:20<00:00, 242.94it/s]\n"
          ]
        },
        {
          "name": "stdout",
          "output_type": "stream",
          "text": [
            "step: 57\n",
            "elements: 140\n",
            "57,2006-10-20 00:00:00,2007-03-16 00:00:00\n"
          ]
        },
        {
          "name": "stderr",
          "output_type": "stream",
          "text": [
            "Processing Pairs: 100%|██████████| 19460/19460 [01:27<00:00, 221.18it/s]\n"
          ]
        },
        {
          "name": "stdout",
          "output_type": "stream",
          "text": [
            "step: 58\n",
            "elements: 140\n",
            "58,2006-12-04 00:00:00,2007-04-30 00:00:00\n"
          ]
        },
        {
          "name": "stderr",
          "output_type": "stream",
          "text": [
            "Processing Pairs: 100%|██████████| 19460/19460 [01:24<00:00, 229.16it/s]\n"
          ]
        },
        {
          "name": "stdout",
          "output_type": "stream",
          "text": [
            "step: 59\n",
            "elements: 140\n",
            "59,2007-01-19 00:00:00,2007-06-12 00:00:00\n"
          ]
        },
        {
          "name": "stderr",
          "output_type": "stream",
          "text": [
            "Processing Pairs: 100%|██████████| 19460/19460 [01:20<00:00, 241.69it/s]\n"
          ]
        },
        {
          "name": "stdout",
          "output_type": "stream",
          "text": [
            "step: 60\n",
            "elements: 140\n",
            "60,2007-03-05 00:00:00,2007-07-25 00:00:00\n"
          ]
        },
        {
          "name": "stderr",
          "output_type": "stream",
          "text": [
            "Processing Pairs: 100%|██████████| 19460/19460 [01:27<00:00, 222.27it/s]\n"
          ]
        },
        {
          "name": "stdout",
          "output_type": "stream",
          "text": [
            "step: 61\n",
            "elements: 140\n",
            "61,2007-04-17 00:00:00,2007-09-06 00:00:00\n"
          ]
        },
        {
          "name": "stderr",
          "output_type": "stream",
          "text": [
            "Processing Pairs: 100%|██████████| 19460/19460 [01:26<00:00, 225.22it/s]\n"
          ]
        },
        {
          "name": "stdout",
          "output_type": "stream",
          "text": [
            "step: 62\n",
            "elements: 140\n",
            "62,2007-05-30 00:00:00,2007-10-18 00:00:00\n"
          ]
        },
        {
          "name": "stderr",
          "output_type": "stream",
          "text": [
            "Processing Pairs: 100%|██████████| 19460/19460 [01:21<00:00, 237.44it/s]\n"
          ]
        },
        {
          "name": "stdout",
          "output_type": "stream",
          "text": [
            "step: 63\n",
            "elements: 140\n",
            "63,2007-07-12 00:00:00,2007-11-30 00:00:00\n"
          ]
        },
        {
          "name": "stderr",
          "output_type": "stream",
          "text": [
            "Processing Pairs: 100%|██████████| 19460/19460 [01:28<00:00, 220.22it/s]\n"
          ]
        },
        {
          "name": "stdout",
          "output_type": "stream",
          "text": [
            "step: 64\n",
            "elements: 140\n",
            "64,2007-08-23 00:00:00,2008-01-15 00:00:00\n"
          ]
        },
        {
          "name": "stderr",
          "output_type": "stream",
          "text": [
            "Processing Pairs: 100%|██████████| 19460/19460 [01:23<00:00, 234.21it/s]\n"
          ]
        },
        {
          "name": "stdout",
          "output_type": "stream",
          "text": [
            "step: 65\n",
            "elements: 140\n",
            "65,2007-10-05 00:00:00,2008-02-28 00:00:00\n"
          ]
        },
        {
          "name": "stderr",
          "output_type": "stream",
          "text": [
            "Processing Pairs: 100%|██████████| 19460/19460 [01:17<00:00, 250.29it/s]\n"
          ]
        },
        {
          "name": "stdout",
          "output_type": "stream",
          "text": [
            "step: 66\n",
            "elements: 140\n",
            "66,2007-11-16 00:00:00,2008-04-11 00:00:00\n"
          ]
        },
        {
          "name": "stderr",
          "output_type": "stream",
          "text": [
            "Processing Pairs: 100%|██████████| 19460/19460 [01:24<00:00, 230.86it/s]\n"
          ]
        },
        {
          "name": "stdout",
          "output_type": "stream",
          "text": [
            "step: 67\n",
            "elements: 140\n",
            "67,2008-01-02 00:00:00,2008-05-23 00:00:00\n"
          ]
        },
        {
          "name": "stderr",
          "output_type": "stream",
          "text": [
            "Processing Pairs: 100%|██████████| 19460/19460 [01:19<00:00, 245.09it/s]\n"
          ]
        },
        {
          "name": "stdout",
          "output_type": "stream",
          "text": [
            "step: 68\n",
            "elements: 140\n",
            "68,2008-02-14 00:00:00,2008-07-08 00:00:00\n"
          ]
        },
        {
          "name": "stderr",
          "output_type": "stream",
          "text": [
            "Processing Pairs: 100%|██████████| 19460/19460 [01:19<00:00, 244.61it/s]\n"
          ]
        },
        {
          "name": "stdout",
          "output_type": "stream",
          "text": [
            "step: 69\n",
            "elements: 140\n",
            "69,2008-03-31 00:00:00,2008-08-19 00:00:00\n"
          ]
        },
        {
          "name": "stderr",
          "output_type": "stream",
          "text": [
            "Processing Pairs: 100%|██████████| 19460/19460 [01:21<00:00, 237.60it/s]\n"
          ]
        },
        {
          "name": "stdout",
          "output_type": "stream",
          "text": [
            "step: 70\n",
            "elements: 140\n",
            "70,2008-05-12 00:00:00,2008-10-01 00:00:00\n"
          ]
        },
        {
          "name": "stderr",
          "output_type": "stream",
          "text": [
            "Processing Pairs: 100%|██████████| 19460/19460 [01:19<00:00, 245.74it/s]\n"
          ]
        },
        {
          "name": "stdout",
          "output_type": "stream",
          "text": [
            "step: 71\n",
            "elements: 140\n",
            "71,2008-06-24 00:00:00,2008-11-12 00:00:00\n"
          ]
        },
        {
          "name": "stderr",
          "output_type": "stream",
          "text": [
            "Processing Pairs: 100%|██████████| 19460/19460 [01:22<00:00, 236.03it/s]\n"
          ]
        },
        {
          "name": "stdout",
          "output_type": "stream",
          "text": [
            "step: 72\n",
            "elements: 140\n",
            "72,2008-08-06 00:00:00,2008-12-26 00:00:00\n"
          ]
        },
        {
          "name": "stderr",
          "output_type": "stream",
          "text": [
            "Processing Pairs: 100%|██████████| 19460/19460 [01:25<00:00, 227.32it/s]\n"
          ]
        },
        {
          "name": "stdout",
          "output_type": "stream",
          "text": [
            "step: 73\n",
            "elements: 140\n",
            "73,2008-09-18 00:00:00,2009-02-10 00:00:00\n"
          ]
        },
        {
          "name": "stderr",
          "output_type": "stream",
          "text": [
            "Processing Pairs: 100%|██████████| 19460/19460 [01:17<00:00, 249.53it/s]\n"
          ]
        },
        {
          "name": "stdout",
          "output_type": "stream",
          "text": [
            "step: 74\n",
            "elements: 140\n",
            "74,2008-10-30 00:00:00,2009-03-25 00:00:00\n"
          ]
        },
        {
          "name": "stderr",
          "output_type": "stream",
          "text": [
            "Processing Pairs: 100%|██████████| 19460/19460 [01:19<00:00, 245.29it/s]\n"
          ]
        },
        {
          "name": "stdout",
          "output_type": "stream",
          "text": [
            "step: 75\n",
            "elements: 140\n",
            "75,2008-12-12 00:00:00,2009-05-07 00:00:00\n"
          ]
        },
        {
          "name": "stderr",
          "output_type": "stream",
          "text": [
            "Processing Pairs: 100%|██████████| 19460/19460 [01:19<00:00, 244.19it/s]\n"
          ]
        },
        {
          "name": "stdout",
          "output_type": "stream",
          "text": [
            "step: 76\n",
            "elements: 140\n",
            "76,2009-01-28 00:00:00,2009-06-19 00:00:00\n"
          ]
        },
        {
          "name": "stderr",
          "output_type": "stream",
          "text": [
            "Processing Pairs: 100%|██████████| 19460/19460 [01:19<00:00, 246.29it/s]\n"
          ]
        },
        {
          "name": "stdout",
          "output_type": "stream",
          "text": [
            "step: 77\n",
            "elements: 140\n",
            "77,2009-03-12 00:00:00,2009-08-03 00:00:00\n"
          ]
        },
        {
          "name": "stderr",
          "output_type": "stream",
          "text": [
            "Processing Pairs: 100%|██████████| 19460/19460 [01:23<00:00, 234.44it/s]\n"
          ]
        },
        {
          "name": "stdout",
          "output_type": "stream",
          "text": [
            "step: 78\n",
            "elements: 140\n",
            "78,2009-04-24 00:00:00,2009-09-15 00:00:00\n"
          ]
        },
        {
          "name": "stderr",
          "output_type": "stream",
          "text": [
            "Processing Pairs: 100%|██████████| 19460/19460 [01:24<00:00, 230.65it/s]\n"
          ]
        },
        {
          "name": "stdout",
          "output_type": "stream",
          "text": [
            "step: 79\n",
            "elements: 140\n",
            "79,2009-06-08 00:00:00,2009-10-27 00:00:00\n"
          ]
        },
        {
          "name": "stderr",
          "output_type": "stream",
          "text": [
            "Processing Pairs: 100%|██████████| 19460/19460 [01:21<00:00, 239.07it/s]\n"
          ]
        },
        {
          "name": "stdout",
          "output_type": "stream",
          "text": [
            "step: 80\n",
            "elements: 140\n",
            "80,2009-07-21 00:00:00,2009-12-09 00:00:00\n"
          ]
        },
        {
          "name": "stderr",
          "output_type": "stream",
          "text": [
            "Processing Pairs: 100%|██████████| 19460/19460 [01:18<00:00, 249.38it/s]\n"
          ]
        },
        {
          "name": "stdout",
          "output_type": "stream",
          "text": [
            "step: 81\n",
            "elements: 140\n",
            "81,2009-09-01 00:00:00,2010-01-25 00:00:00\n"
          ]
        },
        {
          "name": "stderr",
          "output_type": "stream",
          "text": [
            "Processing Pairs: 100%|██████████| 19460/19460 [01:22<00:00, 235.77it/s]\n"
          ]
        },
        {
          "name": "stdout",
          "output_type": "stream",
          "text": [
            "step: 82\n",
            "elements: 140\n",
            "82,2009-10-14 00:00:00,2010-03-09 00:00:00\n"
          ]
        },
        {
          "name": "stderr",
          "output_type": "stream",
          "text": [
            "Processing Pairs: 100%|██████████| 19460/19460 [01:18<00:00, 248.30it/s]\n"
          ]
        },
        {
          "name": "stdout",
          "output_type": "stream",
          "text": [
            "step: 83\n",
            "elements: 140\n",
            "83,2009-11-25 00:00:00,2010-04-21 00:00:00\n"
          ]
        },
        {
          "name": "stderr",
          "output_type": "stream",
          "text": [
            "Processing Pairs: 100%|██████████| 19460/19460 [01:19<00:00, 245.88it/s]\n"
          ]
        },
        {
          "name": "stdout",
          "output_type": "stream",
          "text": [
            "step: 84\n",
            "elements: 140\n",
            "84,2010-01-11 00:00:00,2010-06-03 00:00:00\n"
          ]
        },
        {
          "name": "stderr",
          "output_type": "stream",
          "text": [
            "Processing Pairs: 100%|██████████| 19460/19460 [01:21<00:00, 238.93it/s]\n"
          ]
        },
        {
          "name": "stdout",
          "output_type": "stream",
          "text": [
            "step: 85\n",
            "elements: 140\n",
            "85,2010-02-24 00:00:00,2010-07-16 00:00:00\n"
          ]
        },
        {
          "name": "stderr",
          "output_type": "stream",
          "text": [
            "Processing Pairs: 100%|██████████| 19460/19460 [01:17<00:00, 251.33it/s]\n"
          ]
        },
        {
          "name": "stdout",
          "output_type": "stream",
          "text": [
            "step: 86\n",
            "elements: 140\n",
            "86,2010-04-08 00:00:00,2010-08-27 00:00:00\n"
          ]
        },
        {
          "name": "stderr",
          "output_type": "stream",
          "text": [
            "Processing Pairs: 100%|██████████| 19460/19460 [01:17<00:00, 249.52it/s]\n"
          ]
        },
        {
          "name": "stdout",
          "output_type": "stream",
          "text": [
            "step: 87\n",
            "elements: 140\n",
            "87,2010-05-20 00:00:00,2010-10-11 00:00:00\n"
          ]
        },
        {
          "name": "stderr",
          "output_type": "stream",
          "text": [
            "Processing Pairs: 100%|██████████| 19460/19460 [01:22<00:00, 235.78it/s]\n"
          ]
        },
        {
          "name": "stdout",
          "output_type": "stream",
          "text": [
            "step: 88\n",
            "elements: 140\n",
            "88,2010-07-02 00:00:00,2010-11-22 00:00:00\n"
          ]
        },
        {
          "name": "stderr",
          "output_type": "stream",
          "text": [
            "Processing Pairs: 100%|██████████| 19460/19460 [01:20<00:00, 242.69it/s]\n"
          ]
        },
        {
          "name": "stdout",
          "output_type": "stream",
          "text": [
            "step: 89\n",
            "elements: 140\n",
            "89,2010-08-16 00:00:00,2011-01-05 00:00:00\n"
          ]
        },
        {
          "name": "stderr",
          "output_type": "stream",
          "text": [
            "Processing Pairs: 100%|██████████| 19460/19460 [01:18<00:00, 246.87it/s]\n"
          ]
        },
        {
          "name": "stdout",
          "output_type": "stream",
          "text": [
            "step: 90\n",
            "elements: 140\n",
            "90,2010-09-28 00:00:00,2011-02-17 00:00:00\n"
          ]
        },
        {
          "name": "stderr",
          "output_type": "stream",
          "text": [
            "Processing Pairs: 100%|██████████| 19460/19460 [01:19<00:00, 243.73it/s]\n"
          ]
        },
        {
          "name": "stdout",
          "output_type": "stream",
          "text": [
            "step: 91\n",
            "elements: 140\n",
            "91,2010-11-09 00:00:00,2011-04-01 00:00:00\n"
          ]
        },
        {
          "name": "stderr",
          "output_type": "stream",
          "text": [
            "Processing Pairs: 100%|██████████| 19460/19460 [01:22<00:00, 235.32it/s]\n"
          ]
        },
        {
          "name": "stdout",
          "output_type": "stream",
          "text": [
            "step: 92\n",
            "elements: 140\n",
            "92,2010-12-22 00:00:00,2011-05-16 00:00:00\n"
          ]
        },
        {
          "name": "stderr",
          "output_type": "stream",
          "text": [
            "Processing Pairs: 100%|██████████| 19460/19460 [01:20<00:00, 241.86it/s]\n"
          ]
        },
        {
          "name": "stdout",
          "output_type": "stream",
          "text": [
            "step: 93\n",
            "elements: 140\n",
            "93,2011-02-04 00:00:00,2011-06-28 00:00:00\n"
          ]
        },
        {
          "name": "stderr",
          "output_type": "stream",
          "text": [
            "Processing Pairs: 100%|██████████| 19460/19460 [01:21<00:00, 239.63it/s]\n"
          ]
        },
        {
          "name": "stdout",
          "output_type": "stream",
          "text": [
            "step: 94\n",
            "elements: 140\n",
            "94,2011-03-21 00:00:00,2011-08-10 00:00:00\n"
          ]
        },
        {
          "name": "stderr",
          "output_type": "stream",
          "text": [
            "Processing Pairs: 100%|██████████| 19460/19460 [01:20<00:00, 241.48it/s]\n"
          ]
        },
        {
          "name": "stdout",
          "output_type": "stream",
          "text": [
            "step: 95\n",
            "elements: 140\n",
            "95,2011-05-03 00:00:00,2011-09-22 00:00:00\n"
          ]
        },
        {
          "name": "stderr",
          "output_type": "stream",
          "text": [
            "Processing Pairs: 100%|██████████| 19460/19460 [01:16<00:00, 255.13it/s]\n"
          ]
        },
        {
          "name": "stdout",
          "output_type": "stream",
          "text": [
            "step: 96\n",
            "elements: 140\n",
            "96,2011-06-15 00:00:00,2011-11-03 00:00:00\n"
          ]
        },
        {
          "name": "stderr",
          "output_type": "stream",
          "text": [
            "Processing Pairs: 100%|██████████| 19460/19460 [01:21<00:00, 237.74it/s]\n"
          ]
        },
        {
          "name": "stdout",
          "output_type": "stream",
          "text": [
            "step: 97\n",
            "elements: 140\n",
            "97,2011-07-28 00:00:00,2011-12-16 00:00:00\n"
          ]
        },
        {
          "name": "stderr",
          "output_type": "stream",
          "text": [
            "Processing Pairs: 100%|██████████| 19460/19460 [01:20<00:00, 242.35it/s]\n"
          ]
        },
        {
          "name": "stdout",
          "output_type": "stream",
          "text": [
            "step: 98\n",
            "elements: 140\n",
            "98,2011-09-09 00:00:00,2012-02-01 00:00:00\n"
          ]
        },
        {
          "name": "stderr",
          "output_type": "stream",
          "text": [
            "Processing Pairs: 100%|██████████| 19460/19460 [01:18<00:00, 249.11it/s]\n"
          ]
        },
        {
          "name": "stdout",
          "output_type": "stream",
          "text": [
            "step: 99\n",
            "elements: 140\n",
            "99,2011-10-21 00:00:00,2012-03-15 00:00:00\n"
          ]
        },
        {
          "name": "stderr",
          "output_type": "stream",
          "text": [
            "Processing Pairs: 100%|██████████| 19460/19460 [01:18<00:00, 248.85it/s]\n"
          ]
        },
        {
          "name": "stdout",
          "output_type": "stream",
          "text": [
            "step: 100\n",
            "elements: 140\n",
            "100,2011-12-05 00:00:00,2012-04-27 00:00:00\n"
          ]
        },
        {
          "name": "stderr",
          "output_type": "stream",
          "text": [
            "Processing Pairs: 100%|██████████| 19460/19460 [01:20<00:00, 240.81it/s]\n"
          ]
        },
        {
          "name": "stdout",
          "output_type": "stream",
          "text": [
            "step: 101\n",
            "elements: 140\n",
            "101,2012-01-19 00:00:00,2012-06-11 00:00:00\n"
          ]
        },
        {
          "name": "stderr",
          "output_type": "stream",
          "text": [
            "Processing Pairs: 100%|██████████| 19460/19460 [01:18<00:00, 247.31it/s]\n"
          ]
        },
        {
          "name": "stdout",
          "output_type": "stream",
          "text": [
            "step: 102\n",
            "elements: 140\n",
            "102,2012-03-02 00:00:00,2012-07-24 00:00:00\n"
          ]
        },
        {
          "name": "stderr",
          "output_type": "stream",
          "text": [
            "Processing Pairs: 100%|██████████| 19460/19460 [01:17<00:00, 250.35it/s]\n"
          ]
        },
        {
          "name": "stdout",
          "output_type": "stream",
          "text": [
            "step: 103\n",
            "elements: 140\n",
            "103,2012-04-16 00:00:00,2012-09-05 00:00:00\n"
          ]
        },
        {
          "name": "stderr",
          "output_type": "stream",
          "text": [
            "Processing Pairs: 100%|██████████| 19460/19460 [01:25<00:00, 227.58it/s]\n"
          ]
        },
        {
          "name": "stdout",
          "output_type": "stream",
          "text": [
            "step: 104\n",
            "elements: 140\n",
            "104,2012-05-29 00:00:00,2012-10-17 00:00:00\n"
          ]
        },
        {
          "name": "stderr",
          "output_type": "stream",
          "text": [
            "Processing Pairs: 100%|██████████| 19460/19460 [01:17<00:00, 251.36it/s]\n"
          ]
        },
        {
          "name": "stdout",
          "output_type": "stream",
          "text": [
            "step: 105\n",
            "elements: 140\n",
            "105,2012-07-11 00:00:00,2012-12-03 00:00:00\n"
          ]
        },
        {
          "name": "stderr",
          "output_type": "stream",
          "text": [
            "Processing Pairs: 100%|██████████| 19460/19460 [01:18<00:00, 247.90it/s]\n"
          ]
        },
        {
          "name": "stdout",
          "output_type": "stream",
          "text": [
            "step: 106\n",
            "elements: 140\n",
            "106,2012-08-22 00:00:00,2013-01-16 00:00:00\n"
          ]
        },
        {
          "name": "stderr",
          "output_type": "stream",
          "text": [
            "Processing Pairs: 100%|██████████| 19460/19460 [01:23<00:00, 234.27it/s]\n"
          ]
        },
        {
          "name": "stdout",
          "output_type": "stream",
          "text": [
            "step: 107\n",
            "elements: 140\n",
            "107,2012-10-04 00:00:00,2013-03-01 00:00:00\n"
          ]
        },
        {
          "name": "stderr",
          "output_type": "stream",
          "text": [
            "Processing Pairs: 100%|██████████| 19460/19460 [01:19<00:00, 245.72it/s]\n"
          ]
        },
        {
          "name": "stdout",
          "output_type": "stream",
          "text": [
            "step: 108\n",
            "elements: 140\n",
            "108,2012-11-19 00:00:00,2013-04-15 00:00:00\n"
          ]
        },
        {
          "name": "stderr",
          "output_type": "stream",
          "text": [
            "Processing Pairs: 100%|██████████| 19460/19460 [01:19<00:00, 244.75it/s]\n"
          ]
        },
        {
          "name": "stdout",
          "output_type": "stream",
          "text": [
            "step: 109\n",
            "elements: 140\n",
            "109,2013-01-03 00:00:00,2013-05-28 00:00:00\n"
          ]
        },
        {
          "name": "stderr",
          "output_type": "stream",
          "text": [
            "Processing Pairs: 100%|██████████| 19460/19460 [01:22<00:00, 236.54it/s]\n"
          ]
        },
        {
          "name": "stdout",
          "output_type": "stream",
          "text": [
            "step: 110\n",
            "elements: 140\n",
            "110,2013-02-15 00:00:00,2013-07-10 00:00:00\n"
          ]
        },
        {
          "name": "stderr",
          "output_type": "stream",
          "text": [
            "Processing Pairs: 100%|██████████| 19460/19460 [01:23<00:00, 233.61it/s]\n"
          ]
        },
        {
          "name": "stdout",
          "output_type": "stream",
          "text": [
            "step: 111\n",
            "elements: 140\n",
            "111,2013-04-02 00:00:00,2013-08-21 00:00:00\n"
          ]
        },
        {
          "name": "stderr",
          "output_type": "stream",
          "text": [
            "Processing Pairs: 100%|██████████| 19460/19460 [01:18<00:00, 248.90it/s]\n"
          ]
        },
        {
          "name": "stdout",
          "output_type": "stream",
          "text": [
            "step: 112\n",
            "elements: 140\n",
            "112,2013-05-14 00:00:00,2013-10-03 00:00:00\n"
          ]
        },
        {
          "name": "stderr",
          "output_type": "stream",
          "text": [
            "Processing Pairs: 100%|██████████| 19460/19460 [01:21<00:00, 240.20it/s]\n"
          ]
        },
        {
          "name": "stdout",
          "output_type": "stream",
          "text": [
            "step: 113\n",
            "elements: 140\n",
            "113,2013-06-26 00:00:00,2013-11-14 00:00:00\n"
          ]
        },
        {
          "name": "stderr",
          "output_type": "stream",
          "text": [
            "Processing Pairs: 100%|██████████| 19460/19460 [01:24<00:00, 229.12it/s]\n"
          ]
        },
        {
          "name": "stdout",
          "output_type": "stream",
          "text": [
            "step: 114\n",
            "elements: 140\n",
            "114,2013-08-08 00:00:00,2013-12-30 00:00:00\n"
          ]
        },
        {
          "name": "stderr",
          "output_type": "stream",
          "text": [
            "Processing Pairs: 100%|██████████| 19460/19460 [01:17<00:00, 251.63it/s]\n"
          ]
        },
        {
          "name": "stdout",
          "output_type": "stream",
          "text": [
            "step: 115\n",
            "elements: 140\n",
            "115,2013-09-20 00:00:00,2014-02-12 00:00:00\n"
          ]
        },
        {
          "name": "stderr",
          "output_type": "stream",
          "text": [
            "Processing Pairs: 100%|██████████| 19460/19460 [01:25<00:00, 228.23it/s]\n"
          ]
        },
        {
          "name": "stdout",
          "output_type": "stream",
          "text": [
            "step: 116\n",
            "elements: 140\n",
            "116,2013-11-01 00:00:00,2014-03-27 00:00:00\n"
          ]
        },
        {
          "name": "stderr",
          "output_type": "stream",
          "text": [
            "Processing Pairs: 100%|██████████| 19460/19460 [01:21<00:00, 237.94it/s]\n"
          ]
        },
        {
          "name": "stdout",
          "output_type": "stream",
          "text": [
            "step: 117\n",
            "elements: 140\n",
            "117,2013-12-16 00:00:00,2014-05-09 00:00:00\n"
          ]
        },
        {
          "name": "stderr",
          "output_type": "stream",
          "text": [
            "Processing Pairs: 100%|██████████| 19460/19460 [01:17<00:00, 251.24it/s]\n"
          ]
        },
        {
          "name": "stdout",
          "output_type": "stream",
          "text": [
            "step: 118\n",
            "elements: 140\n",
            "118,2014-01-30 00:00:00,2014-06-23 00:00:00\n"
          ]
        },
        {
          "name": "stderr",
          "output_type": "stream",
          "text": [
            "Processing Pairs: 100%|██████████| 19460/19460 [01:25<00:00, 226.77it/s]\n"
          ]
        },
        {
          "name": "stdout",
          "output_type": "stream",
          "text": [
            "step: 119\n",
            "elements: 140\n",
            "119,2014-03-14 00:00:00,2014-08-05 00:00:00\n"
          ]
        },
        {
          "name": "stderr",
          "output_type": "stream",
          "text": [
            "Processing Pairs: 100%|██████████| 19460/19460 [01:19<00:00, 243.33it/s]\n"
          ]
        },
        {
          "name": "stdout",
          "output_type": "stream",
          "text": [
            "step: 120\n",
            "elements: 140\n",
            "120,2014-04-28 00:00:00,2014-09-17 00:00:00\n"
          ]
        },
        {
          "name": "stderr",
          "output_type": "stream",
          "text": [
            "Processing Pairs: 100%|██████████| 19460/19460 [01:18<00:00, 247.71it/s]\n"
          ]
        },
        {
          "name": "stdout",
          "output_type": "stream",
          "text": [
            "step: 121\n",
            "elements: 140\n",
            "121,2014-06-10 00:00:00,2014-10-29 00:00:00\n"
          ]
        },
        {
          "name": "stderr",
          "output_type": "stream",
          "text": [
            "Processing Pairs: 100%|██████████| 19460/19460 [01:28<00:00, 220.42it/s]\n"
          ]
        },
        {
          "name": "stdout",
          "output_type": "stream",
          "text": [
            "step: 122\n",
            "elements: 140\n",
            "122,2014-07-23 00:00:00,2014-12-11 00:00:00\n"
          ]
        },
        {
          "name": "stderr",
          "output_type": "stream",
          "text": [
            "Processing Pairs: 100%|██████████| 19460/19460 [01:21<00:00, 237.58it/s]\n"
          ]
        },
        {
          "name": "stdout",
          "output_type": "stream",
          "text": [
            "step: 123\n",
            "elements: 140\n",
            "123,2014-09-04 00:00:00,2015-01-27 00:00:00\n"
          ]
        },
        {
          "name": "stderr",
          "output_type": "stream",
          "text": [
            "Processing Pairs: 100%|██████████| 19460/19460 [01:25<00:00, 228.36it/s]\n"
          ]
        },
        {
          "name": "stdout",
          "output_type": "stream",
          "text": [
            "step: 124\n",
            "elements: 140\n",
            "124,2014-10-16 00:00:00,2015-03-11 00:00:00\n"
          ]
        },
        {
          "name": "stderr",
          "output_type": "stream",
          "text": [
            "Processing Pairs: 100%|██████████| 19460/19460 [01:18<00:00, 247.87it/s]\n"
          ]
        },
        {
          "name": "stdout",
          "output_type": "stream",
          "text": [
            "step: 125\n",
            "elements: 140\n",
            "125,2014-11-28 00:00:00,2015-04-23 00:00:00\n"
          ]
        },
        {
          "name": "stderr",
          "output_type": "stream",
          "text": [
            "Processing Pairs: 100%|██████████| 19460/19460 [01:22<00:00, 235.80it/s]\n"
          ]
        },
        {
          "name": "stdout",
          "output_type": "stream",
          "text": [
            "step: 126\n",
            "elements: 140\n",
            "126,2015-01-13 00:00:00,2015-06-05 00:00:00\n"
          ]
        },
        {
          "name": "stderr",
          "output_type": "stream",
          "text": [
            "Processing Pairs: 100%|██████████| 19460/19460 [01:18<00:00, 247.88it/s]\n"
          ]
        },
        {
          "name": "stdout",
          "output_type": "stream",
          "text": [
            "step: 127\n",
            "elements: 140\n",
            "127,2015-02-26 00:00:00,2015-07-20 00:00:00\n"
          ]
        },
        {
          "name": "stderr",
          "output_type": "stream",
          "text": [
            "Processing Pairs: 100%|██████████| 19460/19460 [01:17<00:00, 250.05it/s]\n"
          ]
        },
        {
          "name": "stdout",
          "output_type": "stream",
          "text": [
            "step: 128\n",
            "elements: 140\n",
            "128,2015-04-10 00:00:00,2015-08-31 00:00:00\n"
          ]
        },
        {
          "name": "stderr",
          "output_type": "stream",
          "text": [
            "Processing Pairs: 100%|██████████| 19460/19460 [01:21<00:00, 240.23it/s]\n"
          ]
        },
        {
          "name": "stdout",
          "output_type": "stream",
          "text": [
            "step: 129\n",
            "elements: 140\n",
            "129,2015-05-22 00:00:00,2015-10-13 00:00:00\n"
          ]
        },
        {
          "name": "stderr",
          "output_type": "stream",
          "text": [
            "Processing Pairs: 100%|██████████| 19460/19460 [01:21<00:00, 239.20it/s]\n"
          ]
        },
        {
          "name": "stdout",
          "output_type": "stream",
          "text": [
            "step: 130\n",
            "elements: 140\n",
            "130,2015-07-07 00:00:00,2015-11-24 00:00:00\n"
          ]
        },
        {
          "name": "stderr",
          "output_type": "stream",
          "text": [
            "Processing Pairs: 100%|██████████| 19460/19460 [01:18<00:00, 247.21it/s]\n"
          ]
        },
        {
          "name": "stdout",
          "output_type": "stream",
          "text": [
            "step: 131\n",
            "elements: 140\n",
            "131,2015-08-18 00:00:00,2016-01-08 00:00:00\n"
          ]
        },
        {
          "name": "stderr",
          "output_type": "stream",
          "text": [
            "Processing Pairs: 100%|██████████| 19460/19460 [01:19<00:00, 243.73it/s]\n"
          ]
        },
        {
          "name": "stdout",
          "output_type": "stream",
          "text": [
            "step: 132\n",
            "elements: 140\n",
            "132,2015-09-30 00:00:00,2016-02-23 00:00:00\n"
          ]
        },
        {
          "name": "stderr",
          "output_type": "stream",
          "text": [
            "Processing Pairs: 100%|██████████| 19460/19460 [01:21<00:00, 240.06it/s]\n"
          ]
        },
        {
          "name": "stdout",
          "output_type": "stream",
          "text": [
            "step: 133\n",
            "elements: 140\n",
            "133,2015-11-11 00:00:00,2016-04-06 00:00:00\n"
          ]
        },
        {
          "name": "stderr",
          "output_type": "stream",
          "text": [
            "Processing Pairs: 100%|██████████| 19460/19460 [01:19<00:00, 246.16it/s]\n"
          ]
        },
        {
          "name": "stdout",
          "output_type": "stream",
          "text": [
            "step: 134\n",
            "elements: 140\n",
            "134,2015-12-24 00:00:00,2016-05-18 00:00:00\n"
          ]
        },
        {
          "name": "stderr",
          "output_type": "stream",
          "text": [
            "Processing Pairs: 100%|██████████| 19460/19460 [01:19<00:00, 245.70it/s]\n"
          ]
        },
        {
          "name": "stdout",
          "output_type": "stream",
          "text": [
            "step: 135\n",
            "elements: 140\n",
            "135,2016-02-09 00:00:00,2016-06-30 00:00:00\n"
          ]
        },
        {
          "name": "stderr",
          "output_type": "stream",
          "text": [
            "Processing Pairs: 100%|██████████| 19460/19460 [01:20<00:00, 240.96it/s]\n"
          ]
        },
        {
          "name": "stdout",
          "output_type": "stream",
          "text": [
            "step: 136\n",
            "elements: 140\n",
            "136,2016-03-23 00:00:00,2016-08-12 00:00:00\n"
          ]
        },
        {
          "name": "stderr",
          "output_type": "stream",
          "text": [
            "Processing Pairs: 100%|██████████| 19460/19460 [01:27<00:00, 222.29it/s]\n"
          ]
        },
        {
          "name": "stdout",
          "output_type": "stream",
          "text": [
            "step: 137\n",
            "elements: 140\n",
            "137,2016-05-05 00:00:00,2016-09-26 00:00:00\n"
          ]
        },
        {
          "name": "stderr",
          "output_type": "stream",
          "text": [
            "Processing Pairs: 100%|██████████| 19460/19460 [01:19<00:00, 245.88it/s]\n"
          ]
        },
        {
          "name": "stdout",
          "output_type": "stream",
          "text": [
            "step: 138\n",
            "elements: 140\n",
            "138,2016-06-17 00:00:00,2016-11-07 00:00:00\n"
          ]
        },
        {
          "name": "stderr",
          "output_type": "stream",
          "text": [
            "Processing Pairs: 100%|██████████| 19460/19460 [01:21<00:00, 237.92it/s]\n"
          ]
        },
        {
          "name": "stdout",
          "output_type": "stream",
          "text": [
            "step: 139\n",
            "elements: 140\n",
            "139,2016-08-01 00:00:00,2016-12-20 00:00:00\n"
          ]
        },
        {
          "name": "stderr",
          "output_type": "stream",
          "text": [
            "Processing Pairs: 100%|██████████| 19460/19460 [01:19<00:00, 246.00it/s]\n"
          ]
        },
        {
          "name": "stdout",
          "output_type": "stream",
          "text": [
            "step: 140\n",
            "elements: 140\n",
            "140,2016-09-13 00:00:00,2017-02-03 00:00:00\n"
          ]
        },
        {
          "name": "stderr",
          "output_type": "stream",
          "text": [
            "Processing Pairs: 100%|██████████| 19460/19460 [01:18<00:00, 246.72it/s]\n"
          ]
        },
        {
          "name": "stdout",
          "output_type": "stream",
          "text": [
            "step: 141\n",
            "elements: 140\n",
            "141,2016-10-25 00:00:00,2017-03-20 00:00:00\n"
          ]
        },
        {
          "name": "stderr",
          "output_type": "stream",
          "text": [
            "Processing Pairs: 100%|██████████| 19460/19460 [01:20<00:00, 241.67it/s]\n"
          ]
        },
        {
          "name": "stdout",
          "output_type": "stream",
          "text": [
            "step: 142\n",
            "elements: 140\n",
            "142,2016-12-07 00:00:00,2017-05-02 00:00:00\n"
          ]
        },
        {
          "name": "stderr",
          "output_type": "stream",
          "text": [
            "Processing Pairs: 100%|██████████| 19460/19460 [01:18<00:00, 246.54it/s]\n"
          ]
        },
        {
          "name": "stdout",
          "output_type": "stream",
          "text": [
            "step: 143\n",
            "elements: 140\n",
            "143,2017-01-23 00:00:00,2017-06-14 00:00:00\n"
          ]
        },
        {
          "name": "stderr",
          "output_type": "stream",
          "text": [
            "Processing Pairs: 100%|██████████| 19460/19460 [01:20<00:00, 243.18it/s]\n"
          ]
        },
        {
          "name": "stdout",
          "output_type": "stream",
          "text": [
            "step: 144\n",
            "elements: 140\n",
            "144,2017-03-07 00:00:00,2017-07-27 00:00:00\n"
          ]
        },
        {
          "name": "stderr",
          "output_type": "stream",
          "text": [
            "Processing Pairs: 100%|██████████| 19460/19460 [01:19<00:00, 246.06it/s]\n"
          ]
        },
        {
          "name": "stdout",
          "output_type": "stream",
          "text": [
            "step: 145\n",
            "elements: 140\n",
            "145,2017-04-19 00:00:00,2017-09-08 00:00:00\n"
          ]
        },
        {
          "name": "stderr",
          "output_type": "stream",
          "text": [
            "Processing Pairs: 100%|██████████| 19460/19460 [01:19<00:00, 244.51it/s]\n"
          ]
        },
        {
          "name": "stdout",
          "output_type": "stream",
          "text": [
            "step: 146\n",
            "elements: 140\n",
            "146,2017-06-01 00:00:00,2017-10-20 00:00:00\n"
          ]
        },
        {
          "name": "stderr",
          "output_type": "stream",
          "text": [
            "Processing Pairs: 100%|██████████| 19460/19460 [01:19<00:00, 245.27it/s]\n"
          ]
        },
        {
          "name": "stdout",
          "output_type": "stream",
          "text": [
            "step: 147\n",
            "elements: 140\n",
            "147,2017-07-14 00:00:00,2017-12-04 00:00:00\n"
          ]
        },
        {
          "name": "stderr",
          "output_type": "stream",
          "text": [
            "Processing Pairs: 100%|██████████| 19460/19460 [01:18<00:00, 247.78it/s]\n"
          ]
        },
        {
          "name": "stdout",
          "output_type": "stream",
          "text": [
            "step: 148\n",
            "elements: 140\n",
            "148,2017-08-25 00:00:00,2018-01-18 00:00:00\n"
          ]
        },
        {
          "name": "stderr",
          "output_type": "stream",
          "text": [
            "Processing Pairs: 100%|██████████| 19460/19460 [01:21<00:00, 238.09it/s]\n"
          ]
        },
        {
          "name": "stdout",
          "output_type": "stream",
          "text": [
            "step: 149\n",
            "elements: 140\n",
            "149,2017-10-09 00:00:00,2018-03-02 00:00:00\n"
          ]
        },
        {
          "name": "stderr",
          "output_type": "stream",
          "text": [
            "Processing Pairs: 100%|██████████| 19460/19460 [01:18<00:00, 246.48it/s]\n"
          ]
        },
        {
          "name": "stdout",
          "output_type": "stream",
          "text": [
            "step: 150\n",
            "elements: 140\n",
            "150,2017-11-20 00:00:00,2018-04-16 00:00:00\n"
          ]
        },
        {
          "name": "stderr",
          "output_type": "stream",
          "text": [
            "Processing Pairs: 100%|██████████| 19460/19460 [01:16<00:00, 252.91it/s]\n"
          ]
        },
        {
          "name": "stdout",
          "output_type": "stream",
          "text": [
            "step: 151\n",
            "elements: 140\n",
            "151,2018-01-04 00:00:00,2018-05-29 00:00:00\n"
          ]
        },
        {
          "name": "stderr",
          "output_type": "stream",
          "text": [
            "Processing Pairs: 100%|██████████| 19460/19460 [01:19<00:00, 244.24it/s]\n"
          ]
        },
        {
          "name": "stdout",
          "output_type": "stream",
          "text": [
            "step: 152\n",
            "elements: 140\n",
            "152,2018-02-16 00:00:00,2018-07-11 00:00:00\n"
          ]
        },
        {
          "name": "stderr",
          "output_type": "stream",
          "text": [
            "Processing Pairs: 100%|██████████| 19460/19460 [01:20<00:00, 241.41it/s]\n"
          ]
        },
        {
          "name": "stdout",
          "output_type": "stream",
          "text": [
            "step: 153\n",
            "elements: 140\n",
            "153,2018-04-03 00:00:00,2018-08-22 00:00:00\n"
          ]
        },
        {
          "name": "stderr",
          "output_type": "stream",
          "text": [
            "Processing Pairs: 100%|██████████| 19460/19460 [01:25<00:00, 227.91it/s]\n"
          ]
        },
        {
          "name": "stdout",
          "output_type": "stream",
          "text": [
            "step: 154\n",
            "elements: 140\n",
            "154,2018-05-15 00:00:00,2018-10-04 00:00:00\n"
          ]
        },
        {
          "name": "stderr",
          "output_type": "stream",
          "text": [
            "Processing Pairs: 100%|██████████| 19460/19460 [01:19<00:00, 246.06it/s]\n"
          ]
        },
        {
          "name": "stdout",
          "output_type": "stream",
          "text": [
            "step: 155\n",
            "elements: 140\n",
            "155,2018-06-27 00:00:00,2018-11-15 00:00:00\n"
          ]
        },
        {
          "name": "stderr",
          "output_type": "stream",
          "text": [
            "Processing Pairs: 100%|██████████| 19460/19460 [01:20<00:00, 241.91it/s]\n"
          ]
        },
        {
          "name": "stdout",
          "output_type": "stream",
          "text": [
            "step: 156\n",
            "elements: 140\n",
            "156,2018-08-09 00:00:00,2019-01-02 00:00:00\n"
          ]
        },
        {
          "name": "stderr",
          "output_type": "stream",
          "text": [
            "Processing Pairs: 100%|██████████| 19460/19460 [01:19<00:00, 245.48it/s]\n"
          ]
        },
        {
          "name": "stdout",
          "output_type": "stream",
          "text": [
            "step: 157\n",
            "elements: 140\n",
            "157,2018-09-21 00:00:00,2019-02-14 00:00:00\n"
          ]
        },
        {
          "name": "stderr",
          "output_type": "stream",
          "text": [
            "Processing Pairs: 100%|██████████| 19460/19460 [01:16<00:00, 253.44it/s]\n"
          ]
        },
        {
          "name": "stdout",
          "output_type": "stream",
          "text": [
            "step: 158\n",
            "elements: 140\n",
            "158,2018-11-02 00:00:00,2019-03-29 00:00:00\n"
          ]
        },
        {
          "name": "stderr",
          "output_type": "stream",
          "text": [
            "Processing Pairs: 100%|██████████| 19460/19460 [01:20<00:00, 242.85it/s]\n"
          ]
        },
        {
          "name": "stdout",
          "output_type": "stream",
          "text": [
            "step: 159\n",
            "elements: 140\n",
            "159,2018-12-18 00:00:00,2019-05-13 00:00:00\n"
          ]
        },
        {
          "name": "stderr",
          "output_type": "stream",
          "text": [
            "Processing Pairs: 100%|██████████| 19460/19460 [01:19<00:00, 243.27it/s]\n"
          ]
        },
        {
          "name": "stdout",
          "output_type": "stream",
          "text": [
            "step: 160\n",
            "elements: 140\n",
            "160,2019-02-01 00:00:00,2019-06-25 00:00:00\n"
          ]
        },
        {
          "name": "stderr",
          "output_type": "stream",
          "text": [
            "Processing Pairs: 100%|██████████| 19460/19460 [01:18<00:00, 246.69it/s]\n"
          ]
        },
        {
          "name": "stdout",
          "output_type": "stream",
          "text": [
            "step: 161\n",
            "elements: 140\n",
            "161,2019-03-18 00:00:00,2019-08-07 00:00:00\n"
          ]
        },
        {
          "name": "stderr",
          "output_type": "stream",
          "text": [
            "Processing Pairs: 100%|██████████| 19460/19460 [01:19<00:00, 244.84it/s]\n"
          ]
        },
        {
          "name": "stdout",
          "output_type": "stream",
          "text": [
            "step: 162\n",
            "elements: 140\n",
            "162,2019-04-30 00:00:00,2019-09-19 00:00:00\n"
          ]
        },
        {
          "name": "stderr",
          "output_type": "stream",
          "text": [
            "Processing Pairs: 100%|██████████| 19460/19460 [01:20<00:00, 242.76it/s]\n"
          ]
        },
        {
          "name": "stdout",
          "output_type": "stream",
          "text": [
            "step: 163\n",
            "elements: 140\n",
            "163,2019-06-12 00:00:00,2019-10-31 00:00:00\n"
          ]
        },
        {
          "name": "stderr",
          "output_type": "stream",
          "text": [
            "Processing Pairs: 100%|██████████| 19460/19460 [01:26<00:00, 225.96it/s]\n"
          ]
        },
        {
          "name": "stdout",
          "output_type": "stream",
          "text": [
            "step: 164\n",
            "elements: 140\n",
            "164,2019-07-25 00:00:00,2019-12-13 00:00:00\n"
          ]
        },
        {
          "name": "stderr",
          "output_type": "stream",
          "text": [
            "Processing Pairs: 100%|██████████| 19460/19460 [01:18<00:00, 248.31it/s]\n"
          ]
        },
        {
          "name": "stdout",
          "output_type": "stream",
          "text": [
            "step: 165\n",
            "elements: 140\n",
            "165,2019-09-06 00:00:00,2020-01-29 00:00:00\n"
          ]
        },
        {
          "name": "stderr",
          "output_type": "stream",
          "text": [
            "Processing Pairs: 100%|██████████| 19460/19460 [01:26<00:00, 225.10it/s]\n"
          ]
        },
        {
          "name": "stdout",
          "output_type": "stream",
          "text": [
            "step: 166\n",
            "elements: 140\n",
            "166,2019-10-18 00:00:00,2020-03-12 00:00:00\n"
          ]
        },
        {
          "name": "stderr",
          "output_type": "stream",
          "text": [
            "Processing Pairs: 100%|██████████| 19460/19460 [01:23<00:00, 232.81it/s]\n"
          ]
        },
        {
          "name": "stdout",
          "output_type": "stream",
          "text": [
            "step: 167\n",
            "elements: 140\n",
            "167,2019-12-02 00:00:00,2020-04-24 00:00:00\n"
          ]
        },
        {
          "name": "stderr",
          "output_type": "stream",
          "text": [
            "Processing Pairs: 100%|██████████| 19460/19460 [01:21<00:00, 238.87it/s]\n"
          ]
        },
        {
          "name": "stdout",
          "output_type": "stream",
          "text": [
            "step: 168\n",
            "elements: 140\n",
            "168,2020-01-15 00:00:00,2020-06-08 00:00:00\n"
          ]
        },
        {
          "name": "stderr",
          "output_type": "stream",
          "text": [
            "Processing Pairs: 100%|██████████| 19460/19460 [01:18<00:00, 249.09it/s]\n"
          ]
        },
        {
          "name": "stdout",
          "output_type": "stream",
          "text": [
            "step: 169\n",
            "elements: 140\n",
            "169,2020-02-28 00:00:00,2020-07-21 00:00:00\n"
          ]
        },
        {
          "name": "stderr",
          "output_type": "stream",
          "text": [
            "Processing Pairs: 100%|██████████| 19460/19460 [01:20<00:00, 240.32it/s]\n"
          ]
        },
        {
          "name": "stdout",
          "output_type": "stream",
          "text": [
            "step: 170\n",
            "elements: 140\n",
            "170,2020-04-13 00:00:00,2020-09-01 00:00:00\n"
          ]
        },
        {
          "name": "stderr",
          "output_type": "stream",
          "text": [
            "Processing Pairs: 100%|██████████| 19460/19460 [01:18<00:00, 248.23it/s]\n"
          ]
        },
        {
          "name": "stdout",
          "output_type": "stream",
          "text": [
            "step: 171\n",
            "elements: 140\n",
            "171,2020-05-26 00:00:00,2020-10-14 00:00:00\n"
          ]
        },
        {
          "name": "stderr",
          "output_type": "stream",
          "text": [
            "Processing Pairs: 100%|██████████| 19460/19460 [01:17<00:00, 250.31it/s]\n"
          ]
        },
        {
          "name": "stdout",
          "output_type": "stream",
          "text": [
            "step: 172\n",
            "elements: 140\n",
            "172,2020-07-08 00:00:00,2020-11-25 00:00:00\n"
          ]
        },
        {
          "name": "stderr",
          "output_type": "stream",
          "text": [
            "Processing Pairs: 100%|██████████| 19460/19460 [01:21<00:00, 239.06it/s]\n"
          ]
        },
        {
          "name": "stdout",
          "output_type": "stream",
          "text": [
            "step: 173\n",
            "elements: 140\n",
            "173,2020-08-19 00:00:00,2021-01-11 00:00:00\n"
          ]
        },
        {
          "name": "stderr",
          "output_type": "stream",
          "text": [
            "Processing Pairs: 100%|██████████| 19460/19460 [01:18<00:00, 247.82it/s]\n"
          ]
        },
        {
          "name": "stdout",
          "output_type": "stream",
          "text": [
            "step: 174\n",
            "elements: 140\n",
            "174,2020-10-01 00:00:00,2021-02-24 00:00:00\n"
          ]
        },
        {
          "name": "stderr",
          "output_type": "stream",
          "text": [
            "Processing Pairs: 100%|██████████| 19460/19460 [01:19<00:00, 244.64it/s]\n"
          ]
        },
        {
          "name": "stdout",
          "output_type": "stream",
          "text": [
            "step: 175\n",
            "elements: 140\n",
            "175,2020-11-12 00:00:00,2021-04-08 00:00:00\n"
          ]
        },
        {
          "name": "stderr",
          "output_type": "stream",
          "text": [
            "Processing Pairs: 100%|██████████| 19460/19460 [01:20<00:00, 243.00it/s]\n"
          ]
        },
        {
          "name": "stdout",
          "output_type": "stream",
          "text": [
            "step: 176\n",
            "elements: 140\n",
            "176,2020-12-28 00:00:00,2021-05-20 00:00:00\n"
          ]
        },
        {
          "name": "stderr",
          "output_type": "stream",
          "text": [
            "Processing Pairs: 100%|██████████| 19460/19460 [01:20<00:00, 241.30it/s]\n"
          ]
        },
        {
          "name": "stdout",
          "output_type": "stream",
          "text": [
            "step: 177\n",
            "elements: 140\n",
            "177,2021-02-10 00:00:00,2021-07-02 00:00:00\n"
          ]
        },
        {
          "name": "stderr",
          "output_type": "stream",
          "text": [
            "Processing Pairs: 100%|██████████| 19460/19460 [01:18<00:00, 247.48it/s]\n"
          ]
        },
        {
          "name": "stdout",
          "output_type": "stream",
          "text": [
            "step: 178\n",
            "elements: 140\n",
            "178,2021-03-25 00:00:00,2021-08-16 00:00:00\n"
          ]
        },
        {
          "name": "stderr",
          "output_type": "stream",
          "text": [
            "Processing Pairs: 100%|██████████| 19460/19460 [01:19<00:00, 245.85it/s]\n"
          ]
        },
        {
          "name": "stdout",
          "output_type": "stream",
          "text": [
            "step: 179\n",
            "elements: 140\n",
            "179,2021-05-07 00:00:00,2021-09-28 00:00:00\n"
          ]
        },
        {
          "name": "stderr",
          "output_type": "stream",
          "text": [
            "Processing Pairs: 100%|██████████| 19460/19460 [01:18<00:00, 249.01it/s]\n"
          ]
        },
        {
          "name": "stdout",
          "output_type": "stream",
          "text": [
            "step: 180\n",
            "elements: 140\n",
            "180,2021-06-21 00:00:00,2021-11-09 00:00:00\n"
          ]
        },
        {
          "name": "stderr",
          "output_type": "stream",
          "text": [
            "Processing Pairs: 100%|██████████| 19460/19460 [01:16<00:00, 255.62it/s]\n"
          ]
        },
        {
          "name": "stdout",
          "output_type": "stream",
          "text": [
            "step: 181\n",
            "elements: 140\n",
            "181,2021-08-03 00:00:00,2021-12-22 00:00:00\n"
          ]
        },
        {
          "name": "stderr",
          "output_type": "stream",
          "text": [
            "Processing Pairs: 100%|██████████| 19460/19460 [01:18<00:00, 246.97it/s]\n"
          ]
        },
        {
          "name": "stdout",
          "output_type": "stream",
          "text": [
            "step: 182\n",
            "elements: 140\n",
            "182,2021-09-15 00:00:00,2022-02-04 00:00:00\n"
          ]
        },
        {
          "name": "stderr",
          "output_type": "stream",
          "text": [
            "Processing Pairs: 100%|██████████| 19460/19460 [01:19<00:00, 244.63it/s]\n"
          ]
        },
        {
          "name": "stdout",
          "output_type": "stream",
          "text": [
            "step: 183\n",
            "elements: 140\n",
            "183,2021-10-27 00:00:00,2022-03-21 00:00:00\n"
          ]
        },
        {
          "name": "stderr",
          "output_type": "stream",
          "text": [
            "Processing Pairs: 100%|██████████| 19460/19460 [01:18<00:00, 246.67it/s]\n"
          ]
        },
        {
          "name": "stdout",
          "output_type": "stream",
          "text": [
            "step: 184\n",
            "elements: 140\n",
            "184,2021-12-09 00:00:00,2022-05-03 00:00:00\n"
          ]
        },
        {
          "name": "stderr",
          "output_type": "stream",
          "text": [
            "Processing Pairs: 100%|██████████| 19460/19460 [01:17<00:00, 251.29it/s]\n"
          ]
        },
        {
          "name": "stdout",
          "output_type": "stream",
          "text": [
            "step: 185\n",
            "elements: 140\n",
            "185,2022-01-24 00:00:00,2022-06-15 00:00:00\n"
          ]
        },
        {
          "name": "stderr",
          "output_type": "stream",
          "text": [
            "Processing Pairs: 100%|██████████| 19460/19460 [01:23<00:00, 231.80it/s]\n"
          ]
        },
        {
          "name": "stdout",
          "output_type": "stream",
          "text": [
            "step: 186\n",
            "elements: 140\n",
            "186,2022-03-08 00:00:00,2022-07-29 00:00:00\n"
          ]
        },
        {
          "name": "stderr",
          "output_type": "stream",
          "text": [
            "Processing Pairs: 100%|██████████| 19460/19460 [01:18<00:00, 247.87it/s]\n"
          ]
        },
        {
          "name": "stdout",
          "output_type": "stream",
          "text": [
            "step: 187\n",
            "elements: 140\n",
            "187,2022-04-20 00:00:00,2022-09-12 00:00:00\n"
          ]
        },
        {
          "name": "stderr",
          "output_type": "stream",
          "text": [
            "Processing Pairs: 100%|██████████| 19460/19460 [01:18<00:00, 247.09it/s]\n"
          ]
        },
        {
          "name": "stdout",
          "output_type": "stream",
          "text": [
            "step: 188\n",
            "elements: 140\n",
            "188,2022-06-02 00:00:00,2022-10-24 00:00:00\n"
          ]
        },
        {
          "name": "stderr",
          "output_type": "stream",
          "text": [
            "Processing Pairs: 100%|██████████| 19460/19460 [01:20<00:00, 242.42it/s]\n"
          ]
        },
        {
          "name": "stdout",
          "output_type": "stream",
          "text": [
            "step: 189\n",
            "elements: 140\n",
            "189,2022-07-18 00:00:00,2022-12-06 00:00:00\n"
          ]
        },
        {
          "name": "stderr",
          "output_type": "stream",
          "text": [
            "Processing Pairs: 100%|██████████| 19460/19460 [01:19<00:00, 245.61it/s]\n"
          ]
        },
        {
          "name": "stdout",
          "output_type": "stream",
          "text": [
            "step: 190\n",
            "elements: 140\n",
            "190,2022-08-29 00:00:00,2023-01-20 00:00:00\n"
          ]
        },
        {
          "name": "stderr",
          "output_type": "stream",
          "text": [
            "Processing Pairs: 100%|██████████| 19460/19460 [01:20<00:00, 242.52it/s]\n"
          ]
        },
        {
          "name": "stdout",
          "output_type": "stream",
          "text": [
            "step: 191\n",
            "elements: 140\n",
            "191,2022-10-11 00:00:00,2023-03-06 00:00:00\n"
          ]
        },
        {
          "name": "stderr",
          "output_type": "stream",
          "text": [
            "Processing Pairs: 100%|██████████| 19460/19460 [01:19<00:00, 244.67it/s]\n"
          ]
        },
        {
          "name": "stdout",
          "output_type": "stream",
          "text": [
            "step: 192\n",
            "elements: 140\n",
            "192,2022-11-22 00:00:00,2023-04-18 00:00:00\n"
          ]
        },
        {
          "name": "stderr",
          "output_type": "stream",
          "text": [
            "Processing Pairs: 100%|██████████| 19460/19460 [01:18<00:00, 247.97it/s]\n"
          ]
        },
        {
          "name": "stdout",
          "output_type": "stream",
          "text": [
            "step: 193\n",
            "elements: 140\n",
            "193,2023-01-06 00:00:00,2023-05-31 00:00:00\n"
          ]
        },
        {
          "name": "stderr",
          "output_type": "stream",
          "text": [
            "Processing Pairs: 100%|██████████| 19460/19460 [01:18<00:00, 247.16it/s]\n"
          ]
        },
        {
          "name": "stdout",
          "output_type": "stream",
          "text": [
            "step: 194\n",
            "elements: 140\n",
            "194,2023-02-21 00:00:00,2023-07-14 00:00:00\n"
          ]
        },
        {
          "name": "stderr",
          "output_type": "stream",
          "text": [
            "Processing Pairs: 100%|██████████| 19460/19460 [01:24<00:00, 230.32it/s]\n"
          ]
        },
        {
          "name": "stdout",
          "output_type": "stream",
          "text": [
            "step: 195\n",
            "elements: 140\n",
            "195,2023-04-04 00:00:00,2023-08-25 00:00:00\n"
          ]
        },
        {
          "name": "stderr",
          "output_type": "stream",
          "text": [
            "Processing Pairs: 100%|██████████| 19460/19460 [01:30<00:00, 216.06it/s]\n"
          ]
        },
        {
          "name": "stdout",
          "output_type": "stream",
          "text": [
            "step: 196\n",
            "elements: 140\n",
            "196,2023-05-17 00:00:00,2023-10-09 00:00:00\n"
          ]
        },
        {
          "name": "stderr",
          "output_type": "stream",
          "text": [
            "Processing Pairs: 100%|██████████| 19460/19460 [01:18<00:00, 247.12it/s]\n"
          ]
        },
        {
          "name": "stdout",
          "output_type": "stream",
          "text": [
            "step: 197\n",
            "elements: 140\n",
            "197,2023-06-30 00:00:00,2023-11-20 00:00:00\n"
          ]
        },
        {
          "name": "stderr",
          "output_type": "stream",
          "text": [
            "Processing Pairs: 100%|██████████| 19460/19460 [01:21<00:00, 239.56it/s]\n"
          ]
        },
        {
          "name": "stdout",
          "output_type": "stream",
          "text": [
            "step: 198\n",
            "elements: 140\n",
            "198,2023-08-14 00:00:00,2024-01-04 00:00:00\n"
          ]
        },
        {
          "name": "stderr",
          "output_type": "stream",
          "text": [
            "Processing Pairs: 100%|██████████| 19460/19460 [01:17<00:00, 250.54it/s]\n"
          ]
        },
        {
          "name": "stdout",
          "output_type": "stream",
          "text": [
            "step: 199\n",
            "elements: 140\n",
            "199,2023-09-26 00:00:00,2024-02-16 00:00:00\n"
          ]
        },
        {
          "name": "stderr",
          "output_type": "stream",
          "text": [
            "Processing Pairs: 100%|██████████| 19460/19460 [01:18<00:00, 247.70it/s]\n"
          ]
        },
        {
          "name": "stdout",
          "output_type": "stream",
          "text": [
            "step: 200\n",
            "elements: 140\n",
            "200,2023-11-07 00:00:00,2024-04-02 00:00:00\n"
          ]
        },
        {
          "name": "stderr",
          "output_type": "stream",
          "text": [
            "Processing Pairs: 100%|██████████| 19460/19460 [01:25<00:00, 228.84it/s]\n"
          ]
        },
        {
          "name": "stdout",
          "output_type": "stream",
          "text": [
            "step: 201\n",
            "elements: 140\n",
            "201,2023-12-20 00:00:00,2024-05-14 00:00:00\n"
          ]
        },
        {
          "name": "stderr",
          "output_type": "stream",
          "text": [
            "Processing Pairs: 100%|██████████| 19460/19460 [01:27<00:00, 223.47it/s]\n"
          ]
        },
        {
          "name": "stdout",
          "output_type": "stream",
          "text": [
            "step: 202\n",
            "elements: 140\n",
            "202,2024-02-05 00:00:00,2024-06-27 00:00:00\n"
          ]
        },
        {
          "name": "stderr",
          "output_type": "stream",
          "text": [
            "Processing Pairs: 100%|██████████| 19460/19460 [01:23<00:00, 233.38it/s]\n"
          ]
        },
        {
          "name": "stdout",
          "output_type": "stream",
          "text": [
            "step: 203\n",
            "elements: 140\n",
            "203,2024-03-19 00:00:00,2024-08-09 00:00:00\n"
          ]
        },
        {
          "name": "stderr",
          "output_type": "stream",
          "text": [
            "Processing Pairs: 100%|██████████| 19460/19460 [01:20<00:00, 242.32it/s]\n"
          ]
        },
        {
          "name": "stdout",
          "output_type": "stream",
          "text": [
            "step: 204\n",
            "elements: 140\n",
            "204,2024-05-01 00:00:00,2024-09-23 00:00:00\n"
          ]
        },
        {
          "name": "stderr",
          "output_type": "stream",
          "text": [
            "Processing Pairs: 100%|██████████| 19460/19460 [01:21<00:00, 237.62it/s]\n"
          ]
        },
        {
          "name": "stdout",
          "output_type": "stream",
          "text": [
            "step: 205\n",
            "elements: 140\n",
            "205,2024-06-13 00:00:00,2024-11-04 00:00:00\n"
          ]
        },
        {
          "name": "stderr",
          "output_type": "stream",
          "text": [
            "Processing Pairs: 100%|██████████| 19460/19460 [01:18<00:00, 248.23it/s]\n"
          ]
        },
        {
          "name": "stdout",
          "output_type": "stream",
          "text": [
            "step: 206\n",
            "elements: 140\n",
            "206,2024-07-29 00:00:00,2024-12-17 00:00:00\n"
          ]
        },
        {
          "name": "stderr",
          "output_type": "stream",
          "text": [
            "Processing Pairs: 100%|██████████| 19460/19460 [01:18<00:00, 247.88it/s]\n"
          ]
        },
        {
          "name": "stdout",
          "output_type": "stream",
          "text": [
            "step: 207\n",
            "elements: 140\n",
            "207,2024-09-10 00:00:00,2025-02-03 00:00:00\n"
          ]
        },
        {
          "name": "stderr",
          "output_type": "stream",
          "text": [
            "Processing Pairs: 100%|██████████| 19460/19460 [01:21<00:00, 238.01it/s]\n"
          ]
        },
        {
          "name": "stdout",
          "output_type": "stream",
          "text": [
            "step: 208\n",
            "elements: 140\n",
            "208,2024-10-22 00:00:00,2025-03-18 00:00:00\n"
          ]
        },
        {
          "name": "stderr",
          "output_type": "stream",
          "text": [
            "Processing Pairs: 100%|██████████| 19460/19460 [01:19<00:00, 244.60it/s]\n"
          ]
        },
        {
          "name": "stdout",
          "output_type": "stream",
          "text": [
            "step: 209\n",
            "elements: 140\n"
          ]
        }
      ],
      "source": [
        "layer0_t_evolution = []\n",
        "\n",
        "# for i,layer_0_t in enumerate(rolling_window_on_data(df_sp500_tradingval)):\n",
        "#   if i>=0:\n",
        "#     print(i,layer_0_t.index.min(), layer_0_t.index.max(), sep=',')\n",
        "#     p_values_matrix = granger_causality_all_pairs(layer_0_t, max_lag=[1])\n",
        "#     layer0_t_evolution.append(p_values_matrix)\n",
        "\n",
        "#     print(f'step: {len(layer0_t_evolution)}')\n",
        "#     print(f'elements: {len(layer0_t_evolution[len(layer0_t_evolution)-1])}')\n",
        "\n",
        "#     if i%5 == 0:\n",
        "#       with open(f'/content/drive/MyDrive/data_Multilayer spillover with ML/layers/layer3/layer3_tradingval_{i}_times_evolution.pkl', 'wb') as f:\n",
        "#         pickle.dump(layer0_t_evolution, f)"
      ]
    },
    {
      "cell_type": "code",
      "execution_count": null,
      "metadata": {
        "id": "YqnBOuNsON-8"
      },
      "outputs": [],
      "source": [
        "# with open(f'/content/drive/MyDrive/data_Multilayer spillover with ML/layers/layer3/layer3_tradingval_206_209.pkl', 'wb') as f:\n",
        "#         pickle.dump(layer0_t_evolution, f)"
      ]
    },
    {
      "cell_type": "code",
      "execution_count": null,
      "metadata": {
        "colab": {
          "base_uri": "https://localhost:8080/"
        },
        "id": "PypdFHOIE9XI",
        "outputId": "1be1f713-22e8-4e65-bd79-f328c5e9e708"
      },
      "outputs": [
        {
          "data": {
            "text/plain": [
              "209"
            ]
          },
          "execution_count": 13,
          "metadata": {},
          "output_type": "execute_result"
        }
      ],
      "source": [
        "len(layer0_t_evolution)"
      ]
    },
    {
      "cell_type": "code",
      "execution_count": null,
      "metadata": {
        "id": "JdCBihRi7wp7"
      },
      "outputs": [],
      "source": [
        "# with open(f'/content/drive/MyDrive/data_Multilayer spillover with ML/layers/layer_latest_206_208_times_evolution.pkl', 'wb') as f:\n",
        "#         pickle.dump(layer0_t_evolution, f)"
      ]
    },
    {
      "cell_type": "code",
      "execution_count": null,
      "metadata": {
        "colab": {
          "base_uri": "https://localhost:8080/",
          "height": 475
        },
        "id": "dLbbMLOaVftj",
        "outputId": "e0708143-5c0b-4644-bd04-fbd7c4ec12f3"
      },
      "outputs": [
        {
          "data": {
            "application/vnd.google.colaboratory.intrinsic+json": {
              "type": "dataframe"
            },
            "text/html": [
              "\n",
              "  <div id=\"df-dcd62bb0-9c33-46f1-ac0e-6330a522f2ff\" class=\"colab-df-container\">\n",
              "    <div>\n",
              "<style scoped>\n",
              "    .dataframe tbody tr th:only-of-type {\n",
              "        vertical-align: middle;\n",
              "    }\n",
              "\n",
              "    .dataframe tbody tr th {\n",
              "        vertical-align: top;\n",
              "    }\n",
              "\n",
              "    .dataframe thead th {\n",
              "        text-align: right;\n",
              "    }\n",
              "</style>\n",
              "<table border=\"1\" class=\"dataframe\">\n",
              "  <thead>\n",
              "    <tr style=\"text-align: right;\">\n",
              "      <th>Ticker</th>\n",
              "      <th>AAPL</th>\n",
              "      <th>ABT</th>\n",
              "      <th>ADBE</th>\n",
              "      <th>ADP</th>\n",
              "      <th>ADSK</th>\n",
              "      <th>AEP</th>\n",
              "      <th>AFL</th>\n",
              "      <th>AIG</th>\n",
              "      <th>ALL</th>\n",
              "      <th>AMGN</th>\n",
              "      <th>...</th>\n",
              "      <th>VLO</th>\n",
              "      <th>VMC</th>\n",
              "      <th>VRTX</th>\n",
              "      <th>VZ</th>\n",
              "      <th>WBA</th>\n",
              "      <th>WDC</th>\n",
              "      <th>WEC</th>\n",
              "      <th>WFC</th>\n",
              "      <th>WMT</th>\n",
              "      <th>XOM</th>\n",
              "    </tr>\n",
              "    <tr>\n",
              "      <th>Ticker</th>\n",
              "      <th></th>\n",
              "      <th></th>\n",
              "      <th></th>\n",
              "      <th></th>\n",
              "      <th></th>\n",
              "      <th></th>\n",
              "      <th></th>\n",
              "      <th></th>\n",
              "      <th></th>\n",
              "      <th></th>\n",
              "      <th></th>\n",
              "      <th></th>\n",
              "      <th></th>\n",
              "      <th></th>\n",
              "      <th></th>\n",
              "      <th></th>\n",
              "      <th></th>\n",
              "      <th></th>\n",
              "      <th></th>\n",
              "      <th></th>\n",
              "      <th></th>\n",
              "    </tr>\n",
              "  </thead>\n",
              "  <tbody>\n",
              "    <tr>\n",
              "      <th>AAPL</th>\n",
              "      <td>0.000000</td>\n",
              "      <td>0.543027</td>\n",
              "      <td>0.433362</td>\n",
              "      <td>0.911505</td>\n",
              "      <td>0.228693</td>\n",
              "      <td>0.333106</td>\n",
              "      <td>0.806361</td>\n",
              "      <td>0.466906</td>\n",
              "      <td>0.961621</td>\n",
              "      <td>0.028969</td>\n",
              "      <td>...</td>\n",
              "      <td>0.396141</td>\n",
              "      <td>0.974643</td>\n",
              "      <td>0.687761</td>\n",
              "      <td>0.533000</td>\n",
              "      <td>0.674304</td>\n",
              "      <td>0.893770</td>\n",
              "      <td>0.683034</td>\n",
              "      <td>0.781714</td>\n",
              "      <td>0.401094</td>\n",
              "      <td>0.287634</td>\n",
              "    </tr>\n",
              "    <tr>\n",
              "      <th>ABT</th>\n",
              "      <td>0.535941</td>\n",
              "      <td>0.000000</td>\n",
              "      <td>0.863703</td>\n",
              "      <td>0.117832</td>\n",
              "      <td>0.740004</td>\n",
              "      <td>0.833564</td>\n",
              "      <td>0.796057</td>\n",
              "      <td>0.805603</td>\n",
              "      <td>0.443940</td>\n",
              "      <td>0.705357</td>\n",
              "      <td>...</td>\n",
              "      <td>0.804464</td>\n",
              "      <td>0.130933</td>\n",
              "      <td>0.555584</td>\n",
              "      <td>0.922538</td>\n",
              "      <td>0.845187</td>\n",
              "      <td>0.156948</td>\n",
              "      <td>0.581003</td>\n",
              "      <td>0.562824</td>\n",
              "      <td>0.614718</td>\n",
              "      <td>0.101669</td>\n",
              "    </tr>\n",
              "    <tr>\n",
              "      <th>ADBE</th>\n",
              "      <td>0.237663</td>\n",
              "      <td>0.603176</td>\n",
              "      <td>0.000000</td>\n",
              "      <td>0.373017</td>\n",
              "      <td>0.776521</td>\n",
              "      <td>0.866960</td>\n",
              "      <td>0.283020</td>\n",
              "      <td>0.124139</td>\n",
              "      <td>0.226816</td>\n",
              "      <td>0.875703</td>\n",
              "      <td>...</td>\n",
              "      <td>0.556608</td>\n",
              "      <td>0.650669</td>\n",
              "      <td>0.211636</td>\n",
              "      <td>0.198646</td>\n",
              "      <td>0.713153</td>\n",
              "      <td>0.685979</td>\n",
              "      <td>0.252895</td>\n",
              "      <td>0.968453</td>\n",
              "      <td>0.028528</td>\n",
              "      <td>0.833173</td>\n",
              "    </tr>\n",
              "    <tr>\n",
              "      <th>ADP</th>\n",
              "      <td>0.275323</td>\n",
              "      <td>0.585288</td>\n",
              "      <td>0.590722</td>\n",
              "      <td>0.000000</td>\n",
              "      <td>0.859300</td>\n",
              "      <td>0.403394</td>\n",
              "      <td>0.600623</td>\n",
              "      <td>0.252735</td>\n",
              "      <td>0.909241</td>\n",
              "      <td>0.446752</td>\n",
              "      <td>...</td>\n",
              "      <td>0.092548</td>\n",
              "      <td>0.981996</td>\n",
              "      <td>0.923910</td>\n",
              "      <td>0.005621</td>\n",
              "      <td>0.051006</td>\n",
              "      <td>0.376203</td>\n",
              "      <td>0.336722</td>\n",
              "      <td>0.605390</td>\n",
              "      <td>0.005743</td>\n",
              "      <td>0.317658</td>\n",
              "    </tr>\n",
              "    <tr>\n",
              "      <th>ADSK</th>\n",
              "      <td>0.643455</td>\n",
              "      <td>0.588708</td>\n",
              "      <td>0.075879</td>\n",
              "      <td>0.613837</td>\n",
              "      <td>0.000000</td>\n",
              "      <td>0.759616</td>\n",
              "      <td>0.555438</td>\n",
              "      <td>0.147564</td>\n",
              "      <td>0.984209</td>\n",
              "      <td>0.692436</td>\n",
              "      <td>...</td>\n",
              "      <td>0.425036</td>\n",
              "      <td>0.726827</td>\n",
              "      <td>0.364196</td>\n",
              "      <td>0.229710</td>\n",
              "      <td>0.523804</td>\n",
              "      <td>0.900297</td>\n",
              "      <td>0.697917</td>\n",
              "      <td>0.992619</td>\n",
              "      <td>0.578325</td>\n",
              "      <td>0.703052</td>\n",
              "    </tr>\n",
              "    <tr>\n",
              "      <th>...</th>\n",
              "      <td>...</td>\n",
              "      <td>...</td>\n",
              "      <td>...</td>\n",
              "      <td>...</td>\n",
              "      <td>...</td>\n",
              "      <td>...</td>\n",
              "      <td>...</td>\n",
              "      <td>...</td>\n",
              "      <td>...</td>\n",
              "      <td>...</td>\n",
              "      <td>...</td>\n",
              "      <td>...</td>\n",
              "      <td>...</td>\n",
              "      <td>...</td>\n",
              "      <td>...</td>\n",
              "      <td>...</td>\n",
              "      <td>...</td>\n",
              "      <td>...</td>\n",
              "      <td>...</td>\n",
              "      <td>...</td>\n",
              "      <td>...</td>\n",
              "    </tr>\n",
              "    <tr>\n",
              "      <th>WDC</th>\n",
              "      <td>0.688840</td>\n",
              "      <td>0.027547</td>\n",
              "      <td>0.427702</td>\n",
              "      <td>0.152467</td>\n",
              "      <td>0.426581</td>\n",
              "      <td>0.528732</td>\n",
              "      <td>0.681753</td>\n",
              "      <td>0.225473</td>\n",
              "      <td>0.902195</td>\n",
              "      <td>0.396651</td>\n",
              "      <td>...</td>\n",
              "      <td>0.794373</td>\n",
              "      <td>0.103267</td>\n",
              "      <td>0.802050</td>\n",
              "      <td>0.911858</td>\n",
              "      <td>0.545579</td>\n",
              "      <td>0.000000</td>\n",
              "      <td>0.029852</td>\n",
              "      <td>0.000706</td>\n",
              "      <td>0.210813</td>\n",
              "      <td>0.287754</td>\n",
              "    </tr>\n",
              "    <tr>\n",
              "      <th>WEC</th>\n",
              "      <td>0.777282</td>\n",
              "      <td>0.293989</td>\n",
              "      <td>0.560337</td>\n",
              "      <td>0.304193</td>\n",
              "      <td>0.667225</td>\n",
              "      <td>0.815177</td>\n",
              "      <td>0.205843</td>\n",
              "      <td>0.612610</td>\n",
              "      <td>0.023491</td>\n",
              "      <td>0.579747</td>\n",
              "      <td>...</td>\n",
              "      <td>0.012422</td>\n",
              "      <td>0.363630</td>\n",
              "      <td>0.212116</td>\n",
              "      <td>0.032292</td>\n",
              "      <td>0.819956</td>\n",
              "      <td>0.281491</td>\n",
              "      <td>0.000000</td>\n",
              "      <td>0.633315</td>\n",
              "      <td>0.364989</td>\n",
              "      <td>0.757736</td>\n",
              "    </tr>\n",
              "    <tr>\n",
              "      <th>WFC</th>\n",
              "      <td>0.740850</td>\n",
              "      <td>0.558134</td>\n",
              "      <td>0.215033</td>\n",
              "      <td>0.805111</td>\n",
              "      <td>0.126614</td>\n",
              "      <td>0.760631</td>\n",
              "      <td>0.232699</td>\n",
              "      <td>0.748236</td>\n",
              "      <td>0.654169</td>\n",
              "      <td>0.316167</td>\n",
              "      <td>...</td>\n",
              "      <td>0.880235</td>\n",
              "      <td>0.624145</td>\n",
              "      <td>0.289681</td>\n",
              "      <td>0.922929</td>\n",
              "      <td>0.424943</td>\n",
              "      <td>0.847843</td>\n",
              "      <td>0.176749</td>\n",
              "      <td>0.000000</td>\n",
              "      <td>0.573032</td>\n",
              "      <td>0.215722</td>\n",
              "    </tr>\n",
              "    <tr>\n",
              "      <th>WMT</th>\n",
              "      <td>0.551779</td>\n",
              "      <td>0.656371</td>\n",
              "      <td>0.592210</td>\n",
              "      <td>0.325870</td>\n",
              "      <td>0.237347</td>\n",
              "      <td>0.254477</td>\n",
              "      <td>0.905724</td>\n",
              "      <td>0.148365</td>\n",
              "      <td>0.552254</td>\n",
              "      <td>0.050959</td>\n",
              "      <td>...</td>\n",
              "      <td>0.094764</td>\n",
              "      <td>0.500964</td>\n",
              "      <td>0.834501</td>\n",
              "      <td>0.406123</td>\n",
              "      <td>0.021961</td>\n",
              "      <td>0.225683</td>\n",
              "      <td>0.441632</td>\n",
              "      <td>0.809737</td>\n",
              "      <td>0.000000</td>\n",
              "      <td>0.016198</td>\n",
              "    </tr>\n",
              "    <tr>\n",
              "      <th>XOM</th>\n",
              "      <td>0.108684</td>\n",
              "      <td>0.812242</td>\n",
              "      <td>0.421729</td>\n",
              "      <td>0.603801</td>\n",
              "      <td>0.662071</td>\n",
              "      <td>0.413198</td>\n",
              "      <td>0.906303</td>\n",
              "      <td>0.913060</td>\n",
              "      <td>0.978826</td>\n",
              "      <td>0.268366</td>\n",
              "      <td>...</td>\n",
              "      <td>0.132304</td>\n",
              "      <td>0.442891</td>\n",
              "      <td>0.402910</td>\n",
              "      <td>0.034777</td>\n",
              "      <td>0.330893</td>\n",
              "      <td>0.764073</td>\n",
              "      <td>0.073063</td>\n",
              "      <td>0.768771</td>\n",
              "      <td>0.658941</td>\n",
              "      <td>0.000000</td>\n",
              "    </tr>\n",
              "  </tbody>\n",
              "</table>\n",
              "<p>140 rows × 140 columns</p>\n",
              "</div>\n",
              "    <div class=\"colab-df-buttons\">\n",
              "\n",
              "  <div class=\"colab-df-container\">\n",
              "    <button class=\"colab-df-convert\" onclick=\"convertToInteractive('df-dcd62bb0-9c33-46f1-ac0e-6330a522f2ff')\"\n",
              "            title=\"Convert this dataframe to an interactive table.\"\n",
              "            style=\"display:none;\">\n",
              "\n",
              "  <svg xmlns=\"http://www.w3.org/2000/svg\" height=\"24px\" viewBox=\"0 -960 960 960\">\n",
              "    <path d=\"M120-120v-720h720v720H120Zm60-500h600v-160H180v160Zm220 220h160v-160H400v160Zm0 220h160v-160H400v160ZM180-400h160v-160H180v160Zm440 0h160v-160H620v160ZM180-180h160v-160H180v160Zm440 0h160v-160H620v160Z\"/>\n",
              "  </svg>\n",
              "    </button>\n",
              "\n",
              "  <style>\n",
              "    .colab-df-container {\n",
              "      display:flex;\n",
              "      gap: 12px;\n",
              "    }\n",
              "\n",
              "    .colab-df-convert {\n",
              "      background-color: #E8F0FE;\n",
              "      border: none;\n",
              "      border-radius: 50%;\n",
              "      cursor: pointer;\n",
              "      display: none;\n",
              "      fill: #1967D2;\n",
              "      height: 32px;\n",
              "      padding: 0 0 0 0;\n",
              "      width: 32px;\n",
              "    }\n",
              "\n",
              "    .colab-df-convert:hover {\n",
              "      background-color: #E2EBFA;\n",
              "      box-shadow: 0px 1px 2px rgba(60, 64, 67, 0.3), 0px 1px 3px 1px rgba(60, 64, 67, 0.15);\n",
              "      fill: #174EA6;\n",
              "    }\n",
              "\n",
              "    .colab-df-buttons div {\n",
              "      margin-bottom: 4px;\n",
              "    }\n",
              "\n",
              "    [theme=dark] .colab-df-convert {\n",
              "      background-color: #3B4455;\n",
              "      fill: #D2E3FC;\n",
              "    }\n",
              "\n",
              "    [theme=dark] .colab-df-convert:hover {\n",
              "      background-color: #434B5C;\n",
              "      box-shadow: 0px 1px 3px 1px rgba(0, 0, 0, 0.15);\n",
              "      filter: drop-shadow(0px 1px 2px rgba(0, 0, 0, 0.3));\n",
              "      fill: #FFFFFF;\n",
              "    }\n",
              "  </style>\n",
              "\n",
              "    <script>\n",
              "      const buttonEl =\n",
              "        document.querySelector('#df-dcd62bb0-9c33-46f1-ac0e-6330a522f2ff button.colab-df-convert');\n",
              "      buttonEl.style.display =\n",
              "        google.colab.kernel.accessAllowed ? 'block' : 'none';\n",
              "\n",
              "      async function convertToInteractive(key) {\n",
              "        const element = document.querySelector('#df-dcd62bb0-9c33-46f1-ac0e-6330a522f2ff');\n",
              "        const dataTable =\n",
              "          await google.colab.kernel.invokeFunction('convertToInteractive',\n",
              "                                                    [key], {});\n",
              "        if (!dataTable) return;\n",
              "\n",
              "        const docLinkHtml = 'Like what you see? Visit the ' +\n",
              "          '<a target=\"_blank\" href=https://colab.research.google.com/notebooks/data_table.ipynb>data table notebook</a>'\n",
              "          + ' to learn more about interactive tables.';\n",
              "        element.innerHTML = '';\n",
              "        dataTable['output_type'] = 'display_data';\n",
              "        await google.colab.output.renderOutput(dataTable, element);\n",
              "        const docLink = document.createElement('div');\n",
              "        docLink.innerHTML = docLinkHtml;\n",
              "        element.appendChild(docLink);\n",
              "      }\n",
              "    </script>\n",
              "  </div>\n",
              "\n",
              "\n",
              "<div id=\"df-a38e9ed3-69f8-4f3f-bd29-6603ae8f8415\">\n",
              "  <button class=\"colab-df-quickchart\" onclick=\"quickchart('df-a38e9ed3-69f8-4f3f-bd29-6603ae8f8415')\"\n",
              "            title=\"Suggest charts\"\n",
              "            style=\"display:none;\">\n",
              "\n",
              "<svg xmlns=\"http://www.w3.org/2000/svg\" height=\"24px\"viewBox=\"0 0 24 24\"\n",
              "     width=\"24px\">\n",
              "    <g>\n",
              "        <path d=\"M19 3H5c-1.1 0-2 .9-2 2v14c0 1.1.9 2 2 2h14c1.1 0 2-.9 2-2V5c0-1.1-.9-2-2-2zM9 17H7v-7h2v7zm4 0h-2V7h2v10zm4 0h-2v-4h2v4z\"/>\n",
              "    </g>\n",
              "</svg>\n",
              "  </button>\n",
              "\n",
              "<style>\n",
              "  .colab-df-quickchart {\n",
              "      --bg-color: #E8F0FE;\n",
              "      --fill-color: #1967D2;\n",
              "      --hover-bg-color: #E2EBFA;\n",
              "      --hover-fill-color: #174EA6;\n",
              "      --disabled-fill-color: #AAA;\n",
              "      --disabled-bg-color: #DDD;\n",
              "  }\n",
              "\n",
              "  [theme=dark] .colab-df-quickchart {\n",
              "      --bg-color: #3B4455;\n",
              "      --fill-color: #D2E3FC;\n",
              "      --hover-bg-color: #434B5C;\n",
              "      --hover-fill-color: #FFFFFF;\n",
              "      --disabled-bg-color: #3B4455;\n",
              "      --disabled-fill-color: #666;\n",
              "  }\n",
              "\n",
              "  .colab-df-quickchart {\n",
              "    background-color: var(--bg-color);\n",
              "    border: none;\n",
              "    border-radius: 50%;\n",
              "    cursor: pointer;\n",
              "    display: none;\n",
              "    fill: var(--fill-color);\n",
              "    height: 32px;\n",
              "    padding: 0;\n",
              "    width: 32px;\n",
              "  }\n",
              "\n",
              "  .colab-df-quickchart:hover {\n",
              "    background-color: var(--hover-bg-color);\n",
              "    box-shadow: 0 1px 2px rgba(60, 64, 67, 0.3), 0 1px 3px 1px rgba(60, 64, 67, 0.15);\n",
              "    fill: var(--button-hover-fill-color);\n",
              "  }\n",
              "\n",
              "  .colab-df-quickchart-complete:disabled,\n",
              "  .colab-df-quickchart-complete:disabled:hover {\n",
              "    background-color: var(--disabled-bg-color);\n",
              "    fill: var(--disabled-fill-color);\n",
              "    box-shadow: none;\n",
              "  }\n",
              "\n",
              "  .colab-df-spinner {\n",
              "    border: 2px solid var(--fill-color);\n",
              "    border-color: transparent;\n",
              "    border-bottom-color: var(--fill-color);\n",
              "    animation:\n",
              "      spin 1s steps(1) infinite;\n",
              "  }\n",
              "\n",
              "  @keyframes spin {\n",
              "    0% {\n",
              "      border-color: transparent;\n",
              "      border-bottom-color: var(--fill-color);\n",
              "      border-left-color: var(--fill-color);\n",
              "    }\n",
              "    20% {\n",
              "      border-color: transparent;\n",
              "      border-left-color: var(--fill-color);\n",
              "      border-top-color: var(--fill-color);\n",
              "    }\n",
              "    30% {\n",
              "      border-color: transparent;\n",
              "      border-left-color: var(--fill-color);\n",
              "      border-top-color: var(--fill-color);\n",
              "      border-right-color: var(--fill-color);\n",
              "    }\n",
              "    40% {\n",
              "      border-color: transparent;\n",
              "      border-right-color: var(--fill-color);\n",
              "      border-top-color: var(--fill-color);\n",
              "    }\n",
              "    60% {\n",
              "      border-color: transparent;\n",
              "      border-right-color: var(--fill-color);\n",
              "    }\n",
              "    80% {\n",
              "      border-color: transparent;\n",
              "      border-right-color: var(--fill-color);\n",
              "      border-bottom-color: var(--fill-color);\n",
              "    }\n",
              "    90% {\n",
              "      border-color: transparent;\n",
              "      border-bottom-color: var(--fill-color);\n",
              "    }\n",
              "  }\n",
              "</style>\n",
              "\n",
              "  <script>\n",
              "    async function quickchart(key) {\n",
              "      const quickchartButtonEl =\n",
              "        document.querySelector('#' + key + ' button');\n",
              "      quickchartButtonEl.disabled = true;  // To prevent multiple clicks.\n",
              "      quickchartButtonEl.classList.add('colab-df-spinner');\n",
              "      try {\n",
              "        const charts = await google.colab.kernel.invokeFunction(\n",
              "            'suggestCharts', [key], {});\n",
              "      } catch (error) {\n",
              "        console.error('Error during call to suggestCharts:', error);\n",
              "      }\n",
              "      quickchartButtonEl.classList.remove('colab-df-spinner');\n",
              "      quickchartButtonEl.classList.add('colab-df-quickchart-complete');\n",
              "    }\n",
              "    (() => {\n",
              "      let quickchartButtonEl =\n",
              "        document.querySelector('#df-a38e9ed3-69f8-4f3f-bd29-6603ae8f8415 button');\n",
              "      quickchartButtonEl.style.display =\n",
              "        google.colab.kernel.accessAllowed ? 'block' : 'none';\n",
              "    })();\n",
              "  </script>\n",
              "</div>\n",
              "    </div>\n",
              "  </div>\n"
            ],
            "text/plain": [
              "Ticker      AAPL       ABT      ADBE       ADP      ADSK       AEP       AFL  \\\n",
              "Ticker                                                                         \n",
              "AAPL    0.000000  0.543027  0.433362  0.911505  0.228693  0.333106  0.806361   \n",
              "ABT     0.535941  0.000000  0.863703  0.117832  0.740004  0.833564  0.796057   \n",
              "ADBE    0.237663  0.603176  0.000000  0.373017  0.776521  0.866960  0.283020   \n",
              "ADP     0.275323  0.585288  0.590722  0.000000  0.859300  0.403394  0.600623   \n",
              "ADSK    0.643455  0.588708  0.075879  0.613837  0.000000  0.759616  0.555438   \n",
              "...          ...       ...       ...       ...       ...       ...       ...   \n",
              "WDC     0.688840  0.027547  0.427702  0.152467  0.426581  0.528732  0.681753   \n",
              "WEC     0.777282  0.293989  0.560337  0.304193  0.667225  0.815177  0.205843   \n",
              "WFC     0.740850  0.558134  0.215033  0.805111  0.126614  0.760631  0.232699   \n",
              "WMT     0.551779  0.656371  0.592210  0.325870  0.237347  0.254477  0.905724   \n",
              "XOM     0.108684  0.812242  0.421729  0.603801  0.662071  0.413198  0.906303   \n",
              "\n",
              "Ticker       AIG       ALL      AMGN  ...       VLO       VMC      VRTX  \\\n",
              "Ticker                                ...                                 \n",
              "AAPL    0.466906  0.961621  0.028969  ...  0.396141  0.974643  0.687761   \n",
              "ABT     0.805603  0.443940  0.705357  ...  0.804464  0.130933  0.555584   \n",
              "ADBE    0.124139  0.226816  0.875703  ...  0.556608  0.650669  0.211636   \n",
              "ADP     0.252735  0.909241  0.446752  ...  0.092548  0.981996  0.923910   \n",
              "ADSK    0.147564  0.984209  0.692436  ...  0.425036  0.726827  0.364196   \n",
              "...          ...       ...       ...  ...       ...       ...       ...   \n",
              "WDC     0.225473  0.902195  0.396651  ...  0.794373  0.103267  0.802050   \n",
              "WEC     0.612610  0.023491  0.579747  ...  0.012422  0.363630  0.212116   \n",
              "WFC     0.748236  0.654169  0.316167  ...  0.880235  0.624145  0.289681   \n",
              "WMT     0.148365  0.552254  0.050959  ...  0.094764  0.500964  0.834501   \n",
              "XOM     0.913060  0.978826  0.268366  ...  0.132304  0.442891  0.402910   \n",
              "\n",
              "Ticker        VZ       WBA       WDC       WEC       WFC       WMT       XOM  \n",
              "Ticker                                                                        \n",
              "AAPL    0.533000  0.674304  0.893770  0.683034  0.781714  0.401094  0.287634  \n",
              "ABT     0.922538  0.845187  0.156948  0.581003  0.562824  0.614718  0.101669  \n",
              "ADBE    0.198646  0.713153  0.685979  0.252895  0.968453  0.028528  0.833173  \n",
              "ADP     0.005621  0.051006  0.376203  0.336722  0.605390  0.005743  0.317658  \n",
              "ADSK    0.229710  0.523804  0.900297  0.697917  0.992619  0.578325  0.703052  \n",
              "...          ...       ...       ...       ...       ...       ...       ...  \n",
              "WDC     0.911858  0.545579  0.000000  0.029852  0.000706  0.210813  0.287754  \n",
              "WEC     0.032292  0.819956  0.281491  0.000000  0.633315  0.364989  0.757736  \n",
              "WFC     0.922929  0.424943  0.847843  0.176749  0.000000  0.573032  0.215722  \n",
              "WMT     0.406123  0.021961  0.225683  0.441632  0.809737  0.000000  0.016198  \n",
              "XOM     0.034777  0.330893  0.764073  0.073063  0.768771  0.658941  0.000000  \n",
              "\n",
              "[140 rows x 140 columns]"
            ]
          },
          "execution_count": 13,
          "metadata": {},
          "output_type": "execute_result"
        }
      ],
      "source": [
        "pd.DataFrame(layer0_t_evolution[0])"
      ]
    },
    {
      "cell_type": "code",
      "execution_count": null,
      "metadata": {
        "colab": {
          "base_uri": "https://localhost:8080/",
          "height": 887
        },
        "id": "mMY1LE9uMeVH",
        "outputId": "fd6586da-28c3-41b9-a1ba-55f4c2d8a70b"
      },
      "outputs": [
        {
          "data": {
            "image/png": "[encoded data removed]",
            "text/plain": [
              "<Figure size 640x480 with 2 Axes>"
            ]
          },
          "metadata": {},
          "output_type": "display_data"
        },
        {
          "data": {
            "image/png": "[encoded data removed]",
            "text/plain": [
              "<Figure size 640x480 with 2 Axes>"
            ]
          },
          "metadata": {},
          "output_type": "display_data"
        }
      ],
      "source": [
        "del plt\n",
        "\n",
        "import matplotlib.pyplot as plt\n",
        "\n",
        "for jj in layer0_t_evolution:\n",
        "  plt.imshow(jj, cmap='coolwarm', interpolation='none')\n",
        "  plt.colorbar(label='p-value')\n",
        "  plt.title(\"Granger Causality Test P-values (t vs t-1) for sp500 Securities\")\n",
        "\n",
        "  # Show the plot\n",
        "  plt.show()"
      ]
    },
    {
      "cell_type": "code",
      "execution_count": null,
      "metadata": {
        "id": "VQ4iBIastNX6"
      },
      "outputs": [],
      "source": [
        "# for jjj in rolling_window_on_data(df_sp500_price):\n",
        "#   # print(jjj.min(), jjj.max())\n",
        "#   # time.sleep(5)\n"
      ]
    },
    {
      "cell_type": "code",
      "execution_count": null,
      "metadata": {
        "collapsed": true,
        "id": "J46h9Z0M35l1"
      },
      "outputs": [],
      "source": [
        "layers_p_val = []\n",
        "# for layer in layers:\n",
        "#   p_values_matrix = granger_causality_all_pairs(layer, max_lag=1)\n",
        "#   layers_p_val.append(p_values_matrix)\n"
      ]
    },
    {
      "cell_type": "code",
      "execution_count": null,
      "metadata": {
        "id": "dGdCqyWc49v-"
      },
      "outputs": [],
      "source": [
        "# with open('/content/drive/MyDrive/data_Multilayer spillover with ML/data_layers_p_val.pkl', 'wb') as f:\n",
        "#     pickle.dump(layers_p_val, f)"
      ]
    },
    {
      "cell_type": "code",
      "execution_count": null,
      "metadata": {
        "id": "UZVwRNV83869"
      },
      "outputs": [],
      "source": [
        "with open('/content/drive/MyDrive/data_Multilayer spillover with ML/data_layers_p_val.pkl', 'rb') as file:\n",
        "    layers_p_val = pickle.load(file)"
      ]
    },
    {
      "cell_type": "code",
      "execution_count": null,
      "metadata": {
        "id": "X9tmhFt0zazV"
      },
      "outputs": [],
      "source": [
        "# # Plotting\n",
        "# plt.imshow(p_values_matrix, cmap='coolwarm', interpolation='none')\n",
        "# plt.colorbar(label='p-value')\n",
        "# plt.title(\"Granger Causality Test P-values (t vs t-1) for NASDAQ-100 Securities\")\n",
        "\n",
        "# # Show the plot\n",
        "# plt.tight_layout()"
      ]
    },
    {
      "cell_type": "code",
      "execution_count": null,
      "metadata": {
        "colab": {
          "base_uri": "https://localhost:8080/",
          "height": 332
        },
        "id": "doGhnFJ780tO",
        "outputId": "adb49c2d-48de-4c9c-995a-14bfdb9f0dbc"
      },
      "outputs": [
        {
          "data": {
            "text/plain": [
              "<matplotlib.colorbar.Colorbar at 0x7e82a029b150>"
            ]
          },
          "execution_count": 15,
          "metadata": {},
          "output_type": "execute_result"
        },
        {
          "data": {
            "image/png": "[encoded data removed]",
            "text/plain": [
              "<Figure size 1500x300 with 6 Axes>"
            ]
          },
          "metadata": {},
          "output_type": "display_data"
        }
      ],
      "source": [
        "fig, axs = plt.subplots(1,3, figsize=(15, 3))\n",
        "\n",
        "axs[0].imshow(layers_p_val[0], cmap='coolwarm', interpolation='none')\n",
        "axs[0].set_title('Price P-values')\n",
        "fig.colorbar(axs[0].imshow(layers_p_val[0], cmap='coolwarm', interpolation='none'), ax=axs[0], label='p-value')\n",
        "\n",
        "\n",
        "axs[1].imshow(layers_p_val[1], cmap='coolwarm', interpolation='none')\n",
        "axs[1].set_title('Return P-values')\n",
        "fig.colorbar(axs[1].imshow(layers_p_val[1], cmap='coolwarm', interpolation='none'), ax=axs[1], label='p-value')\n",
        "\n",
        "\n",
        "axs[2].imshow(layers_p_val[2], cmap='coolwarm', interpolation='none')\n",
        "axs[2].set_title('Trading Value P-values')\n",
        "fig.colorbar(axs[2].imshow(layers_p_val[2], cmap='coolwarm', interpolation='none'), ax=axs[2], label='p-value')\n"
      ]
    },
    {
      "cell_type": "code",
      "execution_count": null,
      "metadata": {
        "id": "0qRumw7kVFea"
      },
      "outputs": [],
      "source": [
        "from sklearn.ensemble import RandomForestRegressor\n",
        "from joblib import Parallel, delayed\n",
        "import pandas as pd\n",
        "from tqdm import tqdm  # Import tqdm for progress bar\n",
        "\n",
        "def build_weighted_adjacency_matrix_rf(target_df, feature_df, lag=1, n_estimators=100, random_state=42, n_jobs=-1):\n",
        "    \"\"\"\n",
        "    Build a weighted adjacency matrix using Random Forest feature importances as weights.\n",
        "\n",
        "    Parameters:\n",
        "    - target_df: DataFrame of prices (targets)\n",
        "    - feature_df: DataFrame of volumes (features)\n",
        "    - lag: How many time steps to shift feature_df\n",
        "    - n_estimators: Number of trees in the forest\n",
        "    - random_state: Random seed for reproducibility\n",
        "    - n_jobs: Number of jobs to run in parallel (use -1 for all cores)\n",
        "\n",
        "    Returns:\n",
        "    - weighted_adjacency_df: DataFrame (targets x features), weighted by feature importance\n",
        "    \"\"\"\n",
        "    feature_df_shifted = feature_df.shift(lag)\n",
        "\n",
        "    # Function to calculate feature importances for each target column\n",
        "    def compute_feature_importances(target_col):\n",
        "        df_combined = pd.concat([feature_df_shifted, target_df[target_col]], axis=1).dropna()\n",
        "        X = df_combined[feature_df.columns]\n",
        "        y = df_combined[target_col]\n",
        "\n",
        "        rf = RandomForestRegressor(n_estimators=n_estimators, random_state=random_state)\n",
        "        rf.fit(X, y)\n",
        "        return pd.Series(rf.feature_importances_, index=X.columns)\n",
        "\n",
        "    # Set up tqdm with joblib's Parallel to show progress bar\n",
        "    # The `tqdm` wraps the iterator to display progress for parallel execution\n",
        "    adjacency_data = Parallel(n_jobs=n_jobs)(\n",
        "        delayed(compute_feature_importances)(target_col)\n",
        "        for target_col in tqdm(target_df.columns, desc=\"Processing target columns\")\n",
        "    )\n",
        "\n",
        "    # Create weighted adjacency matrix\n",
        "    weighted_adjacency_df = pd.DataFrame(adjacency_data, index=target_df.columns, columns=feature_df.columns)\n",
        "    print(weighted_adjacency_df)\n",
        "    return weighted_adjacency_df\n"
      ]
    },
    {
      "cell_type": "code",
      "execution_count": null,
      "metadata": {
        "id": "xpXjPqOhvODk"
      },
      "outputs": [],
      "source": [
        "df_sp500_tradingval.columns = [col + '_tradingval' for col in df_sp500_tradingval.columns]\n",
        "df_sp500_price.columns = [col + '_price' for col in df_sp500_price.columns]\n",
        "\n",
        "\n",
        "# result = build_weighted_adjacency_matrix_rf(df_sp500_price[df_sp500_price.columns[0:100]], \\\n",
        "#                                             df_sp500_tradingval[df_sp500_tradingval.columns[0:100]], \\\n",
        "#                                             lag=1, \\\n",
        "#                                             n_estimators=100, \\\n",
        "#                                             random_state=42)"
      ]
    },
    {
      "cell_type": "code",
      "execution_count": null,
      "metadata": {
        "id": "iO7LsTj5oWyi"
      },
      "outputs": [],
      "source": [
        "# with open('/content/drive/MyDrive/data_Multilayer spillover with ML/result_target_0_100_feature_0_100.pkl', 'wb') as f:\n",
        "#     pickle.dump(result, f)\n",
        "\n",
        "with open('/content/drive/MyDrive/data_Multilayer spillover with ML/result_target_0_100_feature_0_100.pkl', 'rb') as file:\n",
        "    result = pickle.load(file)"
      ]
    },
    {
      "cell_type": "code",
      "execution_count": null,
      "metadata": {
        "id": "_pkEgb6hvcYd"
      },
      "outputs": [],
      "source": [
        "# df_temp11 = result.to_numpy().flatten()\n",
        "# print(f\"number of connection: {len(df_temp11[df_temp11>0.5])}\")\n",
        "\n",
        "# # Condition: find indices of values greater than 30\n",
        "# indices = [index for index, value in enumerate(df_temp11) if value > 0.5]\n",
        "\n",
        "# print(indices)\n",
        "\n",
        "# plt.hist(df_temp11,bins=100)\n",
        "# plt.show()"
      ]
    },
    {
      "cell_type": "code",
      "execution_count": null,
      "metadata": {
        "id": "BjYHkof-vlva"
      },
      "outputs": [],
      "source": [
        "# result.idxmax(axis=1).drop_duplicates()"
      ]
    },
    {
      "cell_type": "code",
      "execution_count": null,
      "metadata": {
        "id": "Of8S1Q0HoTRT"
      },
      "outputs": [],
      "source": [
        "# result['AMZN_tradingval']"
      ]
    },
    {
      "cell_type": "code",
      "execution_count": null,
      "metadata": {
        "id": "IN_gOYrbrDfS"
      },
      "outputs": [],
      "source": [
        "# result_part2 = build_weighted_adjacency_matrix_rf(df_sp500_price[df_sp500_price.columns[0:100]], \\\n",
        "#                                             df_sp500_tradingval[df_sp500_tradingval.columns[100:]], \\\n",
        "#                                             lag=1, \\\n",
        "#                                             n_estimators=100, \\\n",
        "#                                             random_state=42)"
      ]
    },
    {
      "cell_type": "code",
      "execution_count": null,
      "metadata": {
        "id": "PpX-xSYV2_DL"
      },
      "outputs": [],
      "source": [
        "# with open('/content/drive/MyDrive/data_Multilayer spillover with ML/result_target_0_100_feature_100_last.pkl', 'wb') as f:\n",
        "#     pickle.dump(result_part2, f)\n",
        "\n",
        "with open('/content/drive/MyDrive/data_Multilayer spillover with ML/result_target_0_100_feature_100_last.pkl', 'rb') as file:\n",
        "    result_part2 = pickle.load(file)\n",
        "\n"
      ]
    },
    {
      "cell_type": "code",
      "execution_count": null,
      "metadata": {
        "id": "x2ptveWKC9Yd"
      },
      "outputs": [],
      "source": [
        "# result_part2"
      ]
    },
    {
      "cell_type": "code",
      "execution_count": null,
      "metadata": {
        "id": "-KVj5ZojDA3E"
      },
      "outputs": [],
      "source": [
        "# result_part2.idxmax(axis=1)"
      ]
    },
    {
      "cell_type": "code",
      "execution_count": null,
      "metadata": {
        "id": "NABT2i9oDFjU"
      },
      "outputs": [],
      "source": [
        "# result_part2.idxmax(axis=1).drop_duplicates()"
      ]
    },
    {
      "cell_type": "code",
      "execution_count": null,
      "metadata": {
        "id": "3x-Zw3H-Fvck"
      },
      "outputs": [],
      "source": [
        "# result_part3 = build_weighted_adjacency_matrix_rf(df_sp500_price[df_sp500_price.columns[100:]], \\\n",
        "#                                             df_sp500_tradingval[df_sp500_tradingval.columns], \\\n",
        "#                                             lag=1, \\\n",
        "#                                             n_estimators=100, \\\n",
        "#                                             random_state=42)"
      ]
    },
    {
      "cell_type": "code",
      "execution_count": null,
      "metadata": {
        "id": "-sbVLtjwGXHk"
      },
      "outputs": [],
      "source": [
        "# with open('/content/drive/MyDrive/data_Multilayer spillover with ML/result_target_100_last_feature_0_last.pkl', 'wb') as f:\n",
        "#     pickle.dump(result_part3, f)\n",
        "\n",
        "with open('/content/drive/MyDrive/data_Multilayer spillover with ML/result_target_100_last_feature_0_last.pkl', 'rb') as file:\n",
        "    result_part3 = pickle.load(file)"
      ]
    },
    {
      "cell_type": "code",
      "execution_count": null,
      "metadata": {
        "id": "BgkN7U5LQL2-"
      },
      "outputs": [],
      "source": [
        "# result_part3"
      ]
    },
    {
      "cell_type": "code",
      "execution_count": null,
      "metadata": {
        "id": "jy9nQYqYQrk1"
      },
      "outputs": [],
      "source": [
        "# result_part3.idxmax(axis=1).drop_duplicates()"
      ]
    },
    {
      "cell_type": "code",
      "execution_count": null,
      "metadata": {
        "id": "TmwuW8Z8RpK1"
      },
      "outputs": [],
      "source": [
        "# result_part3.to_numpy.flatten()"
      ]
    },
    {
      "cell_type": "code",
      "execution_count": null,
      "metadata": {
        "id": "X66o6eKPPiit"
      },
      "outputs": [],
      "source": [
        "result_part2.columns\n",
        "temp111 = pd.concat([result,result_part2],axis=1)"
      ]
    },
    {
      "cell_type": "code",
      "execution_count": null,
      "metadata": {
        "id": "bRtH8-ycQEXt"
      },
      "outputs": [],
      "source": [
        "complete_result = pd.concat([temp111,result_part3], axis=0)"
      ]
    },
    {
      "cell_type": "code",
      "execution_count": null,
      "metadata": {
        "id": "pnoIr8BdskS0"
      },
      "outputs": [],
      "source": [
        "# with open('/content/drive/MyDrive/data_Multilayer spillover with ML/complete_result_time_0_10.pkl', 'wb') as f:\n",
        "#     pickle.dump(complete_result, f)\n",
        "\n",
        "with open('/content/drive/MyDrive/data_Multilayer spillover with ML/complete_result_time_0_10.pkl', 'rb') as file:\n",
        "    complete_result = pickle.load(file)"
      ]
    },
    {
      "cell_type": "code",
      "execution_count": null,
      "metadata": {
        "colab": {
          "base_uri": "https://localhost:8080/",
          "height": 486
        },
        "id": "dmGqzbJ5QKJ0",
        "outputId": "0315c152-39f2-4aaf-f4c3-c4826b571d28"
      },
      "outputs": [
        {
          "data": {
            "image/png": "[encoded data removed]",
            "text/plain": [
              "<Figure size 640x480 with 2 Axes>"
            ]
          },
          "metadata": {},
          "output_type": "display_data"
        }
      ],
      "source": [
        "complete_result\n",
        "plt.imshow(complete_result, cmap='Spectral', interpolation='none')\n",
        "plt.colorbar(label='Relation Coefficent')\n",
        "plt.title(\"Relation between trading values and prices \\n Random Forest regression for sp500 - 140 Securities\")\n",
        "\n",
        "# Show the plot\n",
        "plt.tight_layout()"
      ]
    },
    {
      "cell_type": "code",
      "execution_count": null,
      "metadata": {
        "id": "UQ0ZJI9VkxDx"
      },
      "outputs": [],
      "source": []
    }
  ],
  "metadata": {
    "colab": {
      "provenance": []
    },
    "kernelspec": {
      "display_name": "Python 3",
      "name": "python3"
    },
    "language_info": {
      "name": "python"
    }
  },
  "nbformat": 4,
  "nbformat_minor": 0
}

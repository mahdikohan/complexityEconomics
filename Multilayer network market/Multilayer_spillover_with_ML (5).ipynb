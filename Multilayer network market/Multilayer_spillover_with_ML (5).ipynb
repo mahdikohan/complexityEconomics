{
  "cells": [
    {
      "cell_type": "code",
      "execution_count": 1,
      "metadata": {
        "id": "snZ1oR0hvciN"
      },
      "outputs": [],
      "source": [
        "import yfinance as yf\n",
        "import pandas as pd\n",
        "import numpy as np\n",
        "import matplotlib.pyplot as plt\n",
        "from statsmodels.tsa.stattools import grangercausalitytests\n",
        "import pickle"
      ]
    },
    {
      "cell_type": "code",
      "execution_count": 2,
      "metadata": {
        "id": "maNN6z8MvpSs"
      },
      "outputs": [],
      "source": [
        "sp500_tickers = [\n",
        "    'AAPL', 'MSFT', 'GOOGL', 'AMZN', 'NVDA', 'TSLA', 'META', 'BRK.B', 'V', 'JPM', 'UNH', 'HD', 'PYPL', 'DIS', 'MA', 'PG',\n",
        "    'VZ', 'NFLX', 'INTC', 'KO', 'PEP', 'BA', 'XOM', 'CVX', 'CSCO', 'WMT', 'T', 'MCD', 'ORCL', 'CAT', 'MRK', 'COST',\n",
        "    'GE', 'BABA', 'ABBV', 'ADBE', 'AXP', 'CRM', 'AMGN', 'INTU', 'AMT', 'NKE', 'GS', 'WBA', 'SBUX', 'CSX', 'LMT', 'MDT', 'GS',\n",
        "    'SPGI', 'BIIB', 'LUV', 'UNP', 'ISRG', 'CI', 'CVS', 'TMO', 'HON', 'LRCX', 'SHW', 'RTX', 'MMM', 'BKNG', 'ITW', 'FISV', 'MU',\n",
        "    'QCOM', 'CHTR', 'STZ', 'TSCO', 'F', 'DE', 'NEE', 'MS', 'ZTS', 'WFC', 'PLD', 'AON', 'BMY', 'MMC', 'FIS', 'KHC', 'SLB', 'APD',\n",
        "    'MDLZ', 'CHD', 'HUM', 'AIG', 'EL', 'SYK', 'HCA', 'DUK', 'ALL', 'C', 'OXY', 'HPE', 'SPG', 'SYY', 'VLO', 'ES', 'VMC', 'FTNT',\n",
        "    'DHR', 'EOG', 'IT', 'AFL', 'NOC', 'COP', 'GILD', 'VRTX', 'WDC', 'MSCI', 'ADP', 'EXC', 'FANG', 'ZBH', 'CTSH', 'NEM', 'LHX',\n",
        "    'DOW', 'BKR', 'APTV', 'TDG', 'CHKP', 'KMB', 'IQV', 'PFE', 'MU', 'BIIB', 'RMD', 'WEC', 'VFC', 'CME', 'LULU', 'MCK', 'ROST',\n",
        "    'DG', 'O', 'TGT', 'SWKS', 'TROW', 'PKI', 'AEP', 'PEP', 'STT', 'MCO', 'AIZ', 'DHI', 'CTAS', 'SPGI', 'ADSK', 'FSLR', 'HIG',\n",
        "    'CSX', 'NUE', 'TMUS', 'FTV', 'EXPD', 'BAX', 'MTD', 'SWK', 'ETN', 'MMC', 'FCX', 'KSU', 'PSX', 'WMT', 'RSG', 'LNC', 'PLUG',\n",
        "    'TWTR', 'SQ', 'GOOG', 'MELI', 'DOCU', 'SPOT', 'BIDU', 'UBER', 'LYFT', 'PINS', 'SNAP', 'SQ', 'FSLR', 'SPLK', 'NVDA', 'PYPL',\n",
        "    'RNG', 'VEEV', 'ZS', 'ZM', 'DOCU', 'MDB', 'PINS', 'COST', 'NTES', 'ROKU', 'INTC', 'COST', 'MRNA', 'VEEV', 'SHOP', 'FVRR',\n",
        "    'WBA', 'NKE', 'TMO', 'IDXX', 'SWKS', 'MCD', 'AEP', 'AMT', 'EXC', 'KLAC', 'AON', 'VRTX', 'LULU', 'ZBH', 'HCA', 'FISV',\n",
        "    'TGT', 'MU', 'AMT', 'UNP', 'CME', 'VFC', 'SYY', 'SYK', 'CVS', 'SBUX', 'PFE', 'TROW', 'NEE', 'SPLK', 'FIS', 'FANG', 'PNC',\n",
        "    'TXN', 'CSCO', 'TMO', 'PGR', 'AMGN', 'SHOP', 'V', 'KMB', 'ROST', 'DXC', 'TAP', 'IDXX', 'BAX', 'LMT', 'RMD', 'ITW', 'RSG',\n",
        "    'REGN', 'COST', 'LMT', 'DHR', 'JPM', 'C', 'LUV', 'HUM', 'APD', 'MS', 'HCA', 'WDC', 'ABT', 'COST', 'AMZN', 'MA', 'MSFT', 'VZ',\n",
        "    'PFE', 'WMT', 'BMY', 'ZTS', 'GD', 'WFC', 'CHTR', 'GILD', 'FIS', 'ZBH', 'BIIB', 'LOW', 'NEE', 'VEEV', 'SWK', 'BA', 'MSCI',\n",
        "    'AVGO', 'GS', 'MU', 'UNH', 'DE', 'KHC', 'EXC', 'XOM', 'PYPL', 'LHX', 'LULU', 'CVS', 'GE', 'DOW', 'BABA', 'MDT', 'AAPL',\n",
        "    'HCA', 'BA', 'BAX', 'SBUX', 'NOC', 'LLY', 'ROKU', 'CHKP', 'SNAP', 'WEC', 'EL', 'COF', 'WMT', 'ZBH', 'PEP', 'EXPD', 'PLD',\n",
        "    'SPGI', 'MRNA', 'AMGN', 'HD', 'INTC', 'BIIB', 'ORCL', 'PG', 'CME', 'FCX', 'ALGN', 'MMM', 'V', 'BMY', 'STZ', 'DHR', 'VMC',\n",
        "    'COP', 'NTES', 'RTX', 'KO', 'GE', 'JNJ', 'AVGO', 'NSC', 'EOG', 'GPN', 'ADP', 'SYY', 'NEE', 'COST', 'SPGI', 'RSG', 'DLR',\n",
        "    'BKR', 'SPLK', 'PLD', 'VFC', 'TMO', 'LMT', 'EOG', 'CVS', 'NEM', 'MRK', 'AMGN', 'GOOG', 'CAT', 'AIG', 'CVX', 'CVS', 'AIG',\n",
        "    'TROW', 'CSX', 'MMC', 'RMD', 'HON', 'ZTS', 'AXP', 'T', 'ADSK', 'FTV', 'LHX', 'MSCI', 'PFE', 'DXC', 'LULU', 'PG', 'AMT',\n",
        "    'BAX', 'CSCO', 'HCA', 'DIS', 'VZ', 'IQV', 'EXC', 'AXP', 'REGN', 'CTAS', 'WEC', 'FISV', 'UNP', 'PEP', 'VLO', 'NKE', 'TRV',\n",
        "    'GE', 'NUE', 'NEE', 'INTC', 'ALXN', 'AON', 'IDXX', 'AAPL', 'WMT', 'TMO', 'MDT', 'HON', 'XOM', 'LMT', 'SBUX', 'MMM', 'KMB',\n",
        "    'APD', 'WDC', 'MSCI', 'ZTS', 'KHC', 'GS', 'AIG', 'BMY', 'PYPL', 'WFC', 'LUV', 'PG', 'AMGN', 'ZBH', 'NVDA', 'TGT', 'CRM'\n",
        "]"
      ]
    },
    {
      "cell_type": "code",
      "execution_count": 3,
      "metadata": {
        "id": "7PC3bNKF0y6P"
      },
      "outputs": [],
      "source": [
        "# data = yf.download(sp500_tickers, start='2000-01-01', end='2025-04-01', auto_adjust=True)\n",
        "\n",
        "# with open('/content/drive/MyDrive/data_Multilayer spillover with ML/data_2000_20250401_yfinance.pkl', 'wb') as f:\n",
        "#     pickle.dump(data, f)\n",
        "\n",
        "with open('/content/drive/MyDrive/data_Multilayer spillover with ML/data_2000_20250401_yfinance.pkl', 'rb') as file:\n",
        "    data = pickle.load(file)"
      ]
    },
    {
      "cell_type": "code",
      "execution_count": 4,
      "metadata": {
        "id": "kOM6b8EPBrOY"
      },
      "outputs": [],
      "source": [
        "df_sp500_price = data['Close'].dropna(axis=1).dropna()"
      ]
    },
    {
      "cell_type": "code",
      "execution_count": 5,
      "metadata": {
        "id": "4V9KWfYm1Br1"
      },
      "outputs": [],
      "source": [
        "df_sp500_return = data['Close'].dropna(axis=1).dropna().pct_change().dropna()"
      ]
    },
    {
      "cell_type": "code",
      "execution_count": 6,
      "metadata": {
        "id": "NYGlTHrQ-TLP"
      },
      "outputs": [],
      "source": [
        "df_sp500_tmp_close = data['Close']\n",
        "df_sp500_tmp_volume = data['Volume']"
      ]
    },
    {
      "cell_type": "code",
      "execution_count": 7,
      "metadata": {
        "id": "uWHoSGlB-uc_"
      },
      "outputs": [],
      "source": [
        "df_sp500_tradingval_tmp = df_sp500_tmp_close * df_sp500_tmp_volume\n",
        "df_sp500_tradingval = df_sp500_tradingval_tmp.dropna(axis=1).dropna()"
      ]
    },
    {
      "cell_type": "code",
      "execution_count": 8,
      "metadata": {
        "id": "R8ACUuha-vef"
      },
      "outputs": [],
      "source": [
        "layers = [df_sp500_price.head(10), df_sp500_return.head(10), df_sp500_tradingval.head(10)]"
      ]
    },
    {
      "cell_type": "markdown",
      "metadata": {
        "id": "SDU2Uhte5RsY"
      },
      "source": [
        "# `granger_causality_all_pairs()`\n",
        "Granger test has been written for find relation between securities (nodes) in each layer."
      ]
    },
    {
      "cell_type": "code",
      "execution_count": 9,
      "metadata": {
        "id": "Le6zOMNb3lqm"
      },
      "outputs": [],
      "source": [
        "import warnings\n",
        "warnings.filterwarnings(\"ignore\")\n",
        "\n",
        "import numpy as np\n",
        "from statsmodels.tsa.stattools import grangercausalitytests\n",
        "from joblib import Parallel, delayed\n",
        "from tqdm import tqdm\n",
        "import pandas as pd\n",
        "\n",
        "def granger_causality_all_pairs(df, max_lag=[1], num_threads=8):\n",
        "    cols = df.columns\n",
        "    num_columns = len(cols)\n",
        "    p_values = np.zeros((num_columns, num_columns))\n",
        "\n",
        "    # Function to process each pair of columns\n",
        "    def process_pair(i, j):\n",
        "        try:\n",
        "            result = grangercausalitytests(df[[df.columns[i], df.columns[j]]], max_lag, verbose=False)\n",
        "            return (i, j, result[1][0]['ssr_chi2test'][1])  # Return the pair and p-value\n",
        "        except Exception as e:\n",
        "            print(f\" ======================== Exception ======================== \")\n",
        "            print(f\"Failed pair: {i}, {j}\")\n",
        "            print(f\"Data:\\n{df[[df.columns[i], df.columns[j]]].head()}\")\n",
        "            print(f\"Error: {e}\")\n",
        "            return (i, j, None)  # Return None for failed pair\n",
        "\n",
        "    # Create a list of tasks (i, j) pairs to process in parallel\n",
        "    tasks = [(i, j) for i in range(num_columns) for j in range(num_columns) if i != j]\n",
        "\n",
        "    # Use joblib to parallelize the processing of pairs\n",
        "    results = Parallel(n_jobs=num_threads)(delayed(process_pair)(i, j) for i, j in tqdm(tasks, desc=\"Processing Pairs\", total=len(tasks)))\n",
        "\n",
        "    # Store the results in the p_values matrix\n",
        "    for i, j, p_value in results:\n",
        "        if p_value is not None:\n",
        "            p_values[i, j] = p_value\n",
        "\n",
        "    # Convert the p_values matrix into a DataFrame with proper column names\n",
        "    p_values_df = pd.DataFrame(p_values, columns=cols, index=cols)\n",
        "\n",
        "    return p_values_df\n"
      ]
    },
    {
      "cell_type": "markdown",
      "metadata": {
        "id": "IxZKTYas25fd"
      },
      "source": [
        "**Sliding window is incrementing with 30 days steps and 100 days as window length**\n",
        "\n",
        "This part implements a sliding window technique on time-series data, where the window slides forward in increments of 30 days. Each window represents a 100-day span, allowing for efficient processing and analysis of data in overlapping segments."
      ]
    },
    {
      "cell_type": "code",
      "execution_count": 10,
      "metadata": {
        "id": "WeZmDovl1zn8"
      },
      "outputs": [],
      "source": [
        "import time\n",
        "\n",
        "def rolling_window_on_data(df):\n",
        "  for unit in np.arange(step=30,stop=len(df)):\n",
        "    window = df.iloc[unit:unit+100]\n",
        "    maxx = window.index.max()\n",
        "\n",
        "    # Cut boundry before loss data in length of window\n",
        "    if maxx >= np.datetime64('2025-03-31 00:00:00'): break\n",
        "    yield window"
      ]
    },
    {
      "cell_type": "code",
      "execution_count": 11,
      "metadata": {
        "id": "cVi_9ZuoGuAt"
      },
      "outputs": [],
      "source": [
        "with open('/content/drive/MyDrive/data_Multilayer spillover with ML/layers/layer1/sp500_return_times_209_evolution.pkl', 'rb') as file:\n",
        "    layer_return = pickle.load(file)\n",
        "\n",
        "with open('/content/drive/MyDrive/data_Multilayer spillover with ML/layers/layer2/sp500_price_times_209_evolution.pkl', 'rb') as file:\n",
        "    layer_price = pickle.load(file)\n",
        "\n",
        "with open('/content/drive/MyDrive/data_Multilayer spillover with ML/layers/layer3/sp500_tradingval_times_209_evolution.pkl', 'rb') as file:\n",
        "    layer_tradval = pickle.load(file)\n",
        "\n"
      ]
    },
    {
      "cell_type": "markdown",
      "metadata": {
        "id": "zqHJAxdPoUy_"
      },
      "source": [
        "This part trying to calculate granger causality and save them with determined frequency in a folder in google drive."
      ]
    },
    {
      "cell_type": "code",
      "execution_count": 12,
      "metadata": {
        "id": "IZg3z5eEGfaI"
      },
      "outputs": [],
      "source": [
        "\n",
        "def run_window_func_exec(input_df_window):\n",
        "  layer0_t_evolution = []\n",
        "\n",
        "  for i,layer_0_t in enumerate(rolling_window_on_data(input_df_window)):\n",
        "    if i>=0:\n",
        "      print(i,layer_0_t.index.min(), layer_0_t.index.max(), sep=',')\n",
        "      p_values_matrix = granger_causality_all_pairs(layer_0_t, max_lag=[1])\n",
        "      layer0_t_evolution.append(p_values_matrix)\n",
        "\n",
        "      print(f'step: {len(layer0_t_evolution)}')\n",
        "      print(f'elements: {len(layer0_t_evolution[len(layer0_t_evolution)-1])}')\n",
        "\n",
        "      if i%5 == 0:\n",
        "        with open(f'/content/drive/MyDrive/data_Multilayer spillover with ML/layers/XXXX/layer3_tradingval_{i}_times_evolution.pkl', 'wb') as f:\n",
        "          pickle.dump(layer0_t_evolution, f)"
      ]
    },
    {
      "cell_type": "code",
      "execution_count": 13,
      "metadata": {
        "colab": {
          "base_uri": "https://localhost:8080/",
          "height": 332
        },
        "id": "DJtQYt_2oP7B",
        "outputId": "ff300a18-863e-4aff-a118-e137c085156e"
      },
      "outputs": [
        {
          "output_type": "execute_result",
          "data": {
            "text/plain": [
              "<matplotlib.colorbar.Colorbar at 0x7dd1dd620450>"
            ]
          },
          "metadata": {},
          "execution_count": 13
        },
        {
          "output_type": "display_data",
          "data": {
            "text/plain": [
              "<Figure size 1500x300 with 6 Axes>"
            ],
            "image/png": "[encoded data removed]"
          },
          "metadata": {}
        }
      ],
      "source": [
        "fig, axs = plt.subplots(1,3, figsize=(15, 3))\n",
        "\n",
        "t = 100\n",
        "\n",
        "df0 = layer_price[t]\n",
        "axs[0].imshow(df0, cmap='coolwarm', interpolation='none')\n",
        "axs[0].set_title('Price P-values')\n",
        "fig.colorbar(axs[0].imshow(df0, cmap='coolwarm', interpolation='none'), ax=axs[0], label='p-value')\n",
        "\n",
        "df1 = layer_return[t]\n",
        "axs[1].imshow(df1, cmap='coolwarm', interpolation='none')\n",
        "axs[1].set_title('Return P-values')\n",
        "fig.colorbar(axs[1].imshow(df1, cmap='coolwarm', interpolation='none'), ax=axs[1], label='p-value')\n",
        "\n",
        "df2 = layer_tradval[t]\n",
        "axs[2].imshow(df2, cmap='coolwarm', interpolation='none')\n",
        "axs[2].set_title('Trading Value P-values')\n",
        "fig.colorbar(axs[2].imshow(df2, cmap='coolwarm', interpolation='none'), ax=axs[2], label='p-value')"
      ]
    },
    {
      "cell_type": "code",
      "execution_count": 14,
      "metadata": {
        "id": "0qRumw7kVFea"
      },
      "outputs": [],
      "source": [
        "from sklearn.ensemble import RandomForestRegressor\n",
        "from joblib import Parallel, delayed\n",
        "import pandas as pd\n",
        "from tqdm import tqdm  # Import tqdm for progress bar\n",
        "\n",
        "def build_weighted_adjacency_matrix_rf(target_df, feature_df, lag=1, n_estimators=100, random_state=42, n_jobs=-1):\n",
        "    \"\"\"\n",
        "    Build a weighted adjacency matrix using Random Forest feature importances as weights.\n",
        "\n",
        "    Parameters:\n",
        "    - target_df: DataFrame of prices (targets)\n",
        "    - feature_df: DataFrame of volumes (features)\n",
        "    - lag: How many time steps to shift feature_df\n",
        "    - n_estimators: Number of trees in the forest\n",
        "    - random_state: Random seed for reproducibility\n",
        "    - n_jobs: Number of jobs to run in parallel (use -1 for all cores)\n",
        "\n",
        "    Returns:\n",
        "    - weighted_adjacency_df: DataFrame (targets x features), weighted by feature importance\n",
        "    \"\"\"\n",
        "    feature_df_shifted = feature_df.shift(lag)\n",
        "\n",
        "    # Function to calculate feature importances for each target column\n",
        "    def compute_feature_importances(target_col):\n",
        "        df_combined = pd.concat([feature_df_shifted, target_df[target_col]], axis=1).dropna()\n",
        "        X = df_combined[feature_df.columns]\n",
        "        y = df_combined[target_col]\n",
        "\n",
        "        rf = RandomForestRegressor(n_estimators=n_estimators, random_state=random_state)\n",
        "        rf.fit(X, y)\n",
        "        return pd.Series(rf.feature_importances_, index=X.columns)\n",
        "\n",
        "    # Set up tqdm with joblib's Parallel to show progress bar\n",
        "    # The `tqdm` wraps the iterator to display progress for parallel execution\n",
        "    adjacency_data = Parallel(n_jobs=n_jobs)(\n",
        "        delayed(compute_feature_importances)(target_col)\n",
        "        for target_col in tqdm(target_df.columns, desc=\"Processing target columns\")\n",
        "    )\n",
        "\n",
        "    # Create weighted adjacency matrix\n",
        "    weighted_adjacency_df = pd.DataFrame(adjacency_data, index=target_df.columns, columns=feature_df.columns)\n",
        "    return weighted_adjacency_df\n"
      ]
    },
    {
      "cell_type": "code",
      "source": [
        "\n",
        "# with open('/content/drive/MyDrive/data_Multilayer spillover with ML/layers/interlayer12/interlayer12_s_price_t_return_70_times_evolution.pkl', 'rb') as file:\n",
        "#     test_lastcheck_point = pickle.load(file)\n",
        "\n"
      ],
      "metadata": {
        "id": "3G5wyfEeGieA"
      },
      "execution_count": 15,
      "outputs": []
    },
    {
      "cell_type": "code",
      "source": [
        "# len(test_lastcheck_point)\n",
        "\n",
        "# test_lastcheck_point[70]"
      ],
      "metadata": {
        "id": "6wyv_A6WGvOR"
      },
      "execution_count": 16,
      "outputs": []
    },
    {
      "cell_type": "code",
      "execution_count": 17,
      "metadata": {
        "colab": {
          "base_uri": "https://localhost:8080/"
        },
        "id": "XntrFaVvqgcJ",
        "outputId": "9c973472-a346-451a-9070-5d31cb594fc5"
      },
      "outputs": [
        {
          "metadata": {
            "tags": null
          },
          "name": "stderr",
          "output_type": "stream",
          "text": [
            "Processing target columns: 100%|██████████| 140/140 [01:58<00:00,  1.18it/s]\n"
          ]
        },
        {
          "metadata": {
            "tags": null
          },
          "name": "stdout",
          "output_type": "stream",
          "text": [
            "step:71\n"
          ]
        },
        {
          "metadata": {
            "tags": null
          },
          "name": "stderr",
          "output_type": "stream",
          "text": [
            "Processing target columns: 100%|██████████| 140/140 [01:49<00:00,  1.28it/s]\n"
          ]
        },
        {
          "metadata": {
            "tags": null
          },
          "name": "stdout",
          "output_type": "stream",
          "text": [
            "step:72\n"
          ]
        },
        {
          "metadata": {
            "tags": null
          },
          "name": "stderr",
          "output_type": "stream",
          "text": [
            "Processing target columns: 100%|██████████| 140/140 [01:45<00:00,  1.33it/s]\n"
          ]
        },
        {
          "metadata": {
            "tags": null
          },
          "name": "stdout",
          "output_type": "stream",
          "text": [
            "step:73\n"
          ]
        },
        {
          "metadata": {
            "tags": null
          },
          "name": "stderr",
          "output_type": "stream",
          "text": [
            "Processing target columns: 100%|██████████| 140/140 [01:48<00:00,  1.29it/s]\n"
          ]
        },
        {
          "metadata": {
            "tags": null
          },
          "name": "stdout",
          "output_type": "stream",
          "text": [
            "step:74\n"
          ]
        },
        {
          "metadata": {
            "tags": null
          },
          "name": "stderr",
          "output_type": "stream",
          "text": [
            "Processing target columns: 100%|██████████| 140/140 [01:47<00:00,  1.30it/s]\n"
          ]
        },
        {
          "metadata": {
            "tags": null
          },
          "name": "stdout",
          "output_type": "stream",
          "text": [
            "step:75\n"
          ]
        },
        {
          "metadata": {
            "tags": null
          },
          "name": "stderr",
          "output_type": "stream",
          "text": [
            "Processing target columns: 100%|██████████| 140/140 [01:48<00:00,  1.30it/s]\n"
          ]
        },
        {
          "metadata": {
            "tags": null
          },
          "name": "stdout",
          "output_type": "stream",
          "text": [
            "step:76\n"
          ]
        },
        {
          "metadata": {
            "tags": null
          },
          "name": "stderr",
          "output_type": "stream",
          "text": [
            "Processing target columns: 100%|██████████| 140/140 [01:46<00:00,  1.32it/s]\n"
          ]
        },
        {
          "metadata": {
            "tags": null
          },
          "name": "stdout",
          "output_type": "stream",
          "text": [
            "step:77\n"
          ]
        },
        {
          "metadata": {
            "tags": null
          },
          "name": "stderr",
          "output_type": "stream",
          "text": [
            "Processing target columns: 100%|██████████| 140/140 [01:49<00:00,  1.28it/s]\n"
          ]
        },
        {
          "metadata": {
            "tags": null
          },
          "name": "stdout",
          "output_type": "stream",
          "text": [
            "step:78\n"
          ]
        },
        {
          "metadata": {
            "tags": null
          },
          "name": "stderr",
          "output_type": "stream",
          "text": [
            "Processing target columns: 100%|██████████| 140/140 [01:48<00:00,  1.30it/s]\n"
          ]
        },
        {
          "metadata": {
            "tags": null
          },
          "name": "stdout",
          "output_type": "stream",
          "text": [
            "step:79\n"
          ]
        },
        {
          "metadata": {
            "tags": null
          },
          "name": "stderr",
          "output_type": "stream",
          "text": [
            "Processing target columns: 100%|██████████| 140/140 [01:47<00:00,  1.30it/s]\n"
          ]
        },
        {
          "metadata": {
            "tags": null
          },
          "name": "stdout",
          "output_type": "stream",
          "text": [
            "step:80\n"
          ]
        },
        {
          "metadata": {
            "tags": null
          },
          "name": "stderr",
          "output_type": "stream",
          "text": [
            "Processing target columns: 100%|██████████| 140/140 [01:49<00:00,  1.28it/s]\n"
          ]
        },
        {
          "metadata": {
            "tags": null
          },
          "name": "stdout",
          "output_type": "stream",
          "text": [
            "step:81\n"
          ]
        },
        {
          "metadata": {
            "tags": null
          },
          "name": "stderr",
          "output_type": "stream",
          "text": [
            "Processing target columns: 100%|██████████| 140/140 [01:48<00:00,  1.29it/s]\n"
          ]
        },
        {
          "metadata": {
            "tags": null
          },
          "name": "stdout",
          "output_type": "stream",
          "text": [
            "step:82\n"
          ]
        },
        {
          "metadata": {
            "tags": null
          },
          "name": "stderr",
          "output_type": "stream",
          "text": [
            "Processing target columns: 100%|██████████| 140/140 [01:51<00:00,  1.26it/s]\n"
          ]
        },
        {
          "metadata": {
            "tags": null
          },
          "name": "stdout",
          "output_type": "stream",
          "text": [
            "step:83\n"
          ]
        },
        {
          "metadata": {
            "tags": null
          },
          "name": "stderr",
          "output_type": "stream",
          "text": [
            "Processing target columns: 100%|██████████| 140/140 [01:51<00:00,  1.26it/s]\n"
          ]
        },
        {
          "metadata": {
            "tags": null
          },
          "name": "stdout",
          "output_type": "stream",
          "text": [
            "step:84\n"
          ]
        },
        {
          "metadata": {
            "tags": null
          },
          "name": "stderr",
          "output_type": "stream",
          "text": [
            "Processing target columns: 100%|██████████| 140/140 [01:50<00:00,  1.27it/s]\n"
          ]
        },
        {
          "metadata": {
            "tags": null
          },
          "name": "stdout",
          "output_type": "stream",
          "text": [
            "step:85\n"
          ]
        },
        {
          "metadata": {
            "tags": null
          },
          "name": "stderr",
          "output_type": "stream",
          "text": [
            "Processing target columns: 100%|██████████| 140/140 [01:57<00:00,  1.19it/s]\n"
          ]
        },
        {
          "metadata": {
            "tags": null
          },
          "name": "stdout",
          "output_type": "stream",
          "text": [
            "step:86\n"
          ]
        },
        {
          "metadata": {
            "tags": null
          },
          "name": "stderr",
          "output_type": "stream",
          "text": [
            "Processing target columns: 100%|██████████| 140/140 [01:51<00:00,  1.25it/s]\n"
          ]
        },
        {
          "metadata": {
            "tags": null
          },
          "name": "stdout",
          "output_type": "stream",
          "text": [
            "step:87\n"
          ]
        },
        {
          "metadata": {
            "tags": null
          },
          "name": "stderr",
          "output_type": "stream",
          "text": [
            "Processing target columns: 100%|██████████| 140/140 [01:50<00:00,  1.27it/s]\n"
          ]
        },
        {
          "metadata": {
            "tags": null
          },
          "name": "stdout",
          "output_type": "stream",
          "text": [
            "step:88\n"
          ]
        },
        {
          "metadata": {
            "tags": null
          },
          "name": "stderr",
          "output_type": "stream",
          "text": [
            "Processing target columns: 100%|██████████| 140/140 [01:49<00:00,  1.28it/s]\n"
          ]
        },
        {
          "metadata": {
            "tags": null
          },
          "name": "stdout",
          "output_type": "stream",
          "text": [
            "step:89\n"
          ]
        },
        {
          "metadata": {
            "tags": null
          },
          "name": "stderr",
          "output_type": "stream",
          "text": [
            "Processing target columns: 100%|██████████| 140/140 [01:52<00:00,  1.25it/s]\n"
          ]
        },
        {
          "metadata": {
            "tags": null
          },
          "name": "stdout",
          "output_type": "stream",
          "text": [
            "step:90\n"
          ]
        },
        {
          "metadata": {
            "tags": null
          },
          "name": "stderr",
          "output_type": "stream",
          "text": [
            "Processing target columns: 100%|██████████| 140/140 [01:50<00:00,  1.26it/s]\n"
          ]
        },
        {
          "metadata": {
            "tags": null
          },
          "name": "stdout",
          "output_type": "stream",
          "text": [
            "step:91\n"
          ]
        },
        {
          "metadata": {
            "tags": null
          },
          "name": "stderr",
          "output_type": "stream",
          "text": [
            "Processing target columns: 100%|██████████| 140/140 [01:49<00:00,  1.27it/s]\n"
          ]
        },
        {
          "metadata": {
            "tags": null
          },
          "name": "stdout",
          "output_type": "stream",
          "text": [
            "step:92\n"
          ]
        },
        {
          "metadata": {
            "tags": null
          },
          "name": "stderr",
          "output_type": "stream",
          "text": [
            "Processing target columns: 100%|██████████| 140/140 [01:47<00:00,  1.30it/s]\n"
          ]
        },
        {
          "metadata": {
            "tags": null
          },
          "name": "stdout",
          "output_type": "stream",
          "text": [
            "step:93\n"
          ]
        },
        {
          "metadata": {
            "tags": null
          },
          "name": "stderr",
          "output_type": "stream",
          "text": [
            "Processing target columns: 100%|██████████| 140/140 [01:57<00:00,  1.19it/s]\n"
          ]
        },
        {
          "metadata": {
            "tags": null
          },
          "name": "stdout",
          "output_type": "stream",
          "text": [
            "step:94\n"
          ]
        },
        {
          "metadata": {
            "tags": null
          },
          "name": "stderr",
          "output_type": "stream",
          "text": [
            "Processing target columns: 100%|██████████| 140/140 [01:52<00:00,  1.25it/s]\n"
          ]
        },
        {
          "metadata": {
            "tags": null
          },
          "name": "stdout",
          "output_type": "stream",
          "text": [
            "step:95\n"
          ]
        },
        {
          "metadata": {
            "tags": null
          },
          "name": "stderr",
          "output_type": "stream",
          "text": [
            "Processing target columns: 100%|██████████| 140/140 [01:47<00:00,  1.30it/s]\n"
          ]
        },
        {
          "metadata": {
            "tags": null
          },
          "name": "stdout",
          "output_type": "stream",
          "text": [
            "step:96\n"
          ]
        },
        {
          "metadata": {
            "tags": null
          },
          "name": "stderr",
          "output_type": "stream",
          "text": [
            "Processing target columns: 100%|██████████| 140/140 [01:42<00:00,  1.36it/s]\n"
          ]
        },
        {
          "metadata": {
            "tags": null
          },
          "name": "stdout",
          "output_type": "stream",
          "text": [
            "step:97\n"
          ]
        },
        {
          "metadata": {
            "tags": null
          },
          "name": "stderr",
          "output_type": "stream",
          "text": [
            "Processing target columns: 100%|██████████| 140/140 [01:45<00:00,  1.32it/s]\n"
          ]
        },
        {
          "metadata": {
            "tags": null
          },
          "name": "stdout",
          "output_type": "stream",
          "text": [
            "step:98\n"
          ]
        },
        {
          "metadata": {
            "tags": null
          },
          "name": "stderr",
          "output_type": "stream",
          "text": [
            "Processing target columns: 100%|██████████| 140/140 [01:49<00:00,  1.27it/s]\n"
          ]
        },
        {
          "metadata": {
            "tags": null
          },
          "name": "stdout",
          "output_type": "stream",
          "text": [
            "step:99\n"
          ]
        },
        {
          "metadata": {
            "tags": null
          },
          "name": "stderr",
          "output_type": "stream",
          "text": [
            "Processing target columns: 100%|██████████| 140/140 [01:48<00:00,  1.29it/s]\n"
          ]
        },
        {
          "metadata": {
            "tags": null
          },
          "name": "stdout",
          "output_type": "stream",
          "text": [
            "step:100\n"
          ]
        },
        {
          "metadata": {
            "tags": null
          },
          "name": "stderr",
          "output_type": "stream",
          "text": [
            "Processing target columns: 100%|██████████| 140/140 [01:47<00:00,  1.30it/s]\n"
          ]
        },
        {
          "metadata": {
            "tags": null
          },
          "name": "stdout",
          "output_type": "stream",
          "text": [
            "step:101\n"
          ]
        },
        {
          "metadata": {
            "tags": null
          },
          "name": "stderr",
          "output_type": "stream",
          "text": [
            "Processing target columns: 100%|██████████| 140/140 [01:48<00:00,  1.29it/s]\n"
          ]
        },
        {
          "metadata": {
            "tags": null
          },
          "name": "stdout",
          "output_type": "stream",
          "text": [
            "step:102\n"
          ]
        },
        {
          "metadata": {
            "tags": null
          },
          "name": "stderr",
          "output_type": "stream",
          "text": [
            "Processing target columns: 100%|██████████| 140/140 [01:49<00:00,  1.28it/s]\n"
          ]
        },
        {
          "metadata": {
            "tags": null
          },
          "name": "stdout",
          "output_type": "stream",
          "text": [
            "step:103\n"
          ]
        },
        {
          "metadata": {
            "tags": null
          },
          "name": "stderr",
          "output_type": "stream",
          "text": [
            "Processing target columns: 100%|██████████| 140/140 [01:51<00:00,  1.26it/s]\n"
          ]
        },
        {
          "metadata": {
            "tags": null
          },
          "name": "stdout",
          "output_type": "stream",
          "text": [
            "step:104\n"
          ]
        },
        {
          "metadata": {
            "tags": null
          },
          "name": "stderr",
          "output_type": "stream",
          "text": [
            "Processing target columns: 100%|██████████| 140/140 [01:49<00:00,  1.27it/s]\n"
          ]
        },
        {
          "metadata": {
            "tags": null
          },
          "name": "stdout",
          "output_type": "stream",
          "text": [
            "step:105\n"
          ]
        },
        {
          "metadata": {
            "tags": null
          },
          "name": "stderr",
          "output_type": "stream",
          "text": [
            "Processing target columns: 100%|██████████| 140/140 [01:49<00:00,  1.27it/s]\n"
          ]
        },
        {
          "metadata": {
            "tags": null
          },
          "name": "stdout",
          "output_type": "stream",
          "text": [
            "step:106\n"
          ]
        },
        {
          "metadata": {
            "tags": null
          },
          "name": "stderr",
          "output_type": "stream",
          "text": [
            "Processing target columns: 100%|██████████| 140/140 [01:51<00:00,  1.25it/s]\n"
          ]
        },
        {
          "metadata": {
            "tags": null
          },
          "name": "stdout",
          "output_type": "stream",
          "text": [
            "step:107\n"
          ]
        },
        {
          "metadata": {
            "tags": null
          },
          "name": "stderr",
          "output_type": "stream",
          "text": [
            "Processing target columns: 100%|██████████| 140/140 [01:51<00:00,  1.26it/s]\n"
          ]
        },
        {
          "metadata": {
            "tags": null
          },
          "name": "stdout",
          "output_type": "stream",
          "text": [
            "step:108\n"
          ]
        },
        {
          "metadata": {
            "tags": null
          },
          "name": "stderr",
          "output_type": "stream",
          "text": [
            "Processing target columns: 100%|██████████| 140/140 [01:49<00:00,  1.27it/s]\n"
          ]
        },
        {
          "metadata": {
            "tags": null
          },
          "name": "stdout",
          "output_type": "stream",
          "text": [
            "step:109\n"
          ]
        },
        {
          "metadata": {
            "tags": null
          },
          "name": "stderr",
          "output_type": "stream",
          "text": [
            "Processing target columns: 100%|██████████| 140/140 [01:49<00:00,  1.28it/s]\n"
          ]
        },
        {
          "metadata": {
            "tags": null
          },
          "name": "stdout",
          "output_type": "stream",
          "text": [
            "step:110\n"
          ]
        },
        {
          "metadata": {
            "tags": null
          },
          "name": "stderr",
          "output_type": "stream",
          "text": [
            "Processing target columns: 100%|██████████| 140/140 [01:44<00:00,  1.33it/s]\n"
          ]
        },
        {
          "metadata": {
            "tags": null
          },
          "name": "stdout",
          "output_type": "stream",
          "text": [
            "step:111\n"
          ]
        },
        {
          "metadata": {
            "tags": null
          },
          "name": "stderr",
          "output_type": "stream",
          "text": [
            "Processing target columns: 100%|██████████| 140/140 [01:46<00:00,  1.31it/s]\n"
          ]
        },
        {
          "metadata": {
            "tags": null
          },
          "name": "stdout",
          "output_type": "stream",
          "text": [
            "step:112\n"
          ]
        },
        {
          "metadata": {
            "tags": null
          },
          "name": "stderr",
          "output_type": "stream",
          "text": [
            "Processing target columns: 100%|██████████| 140/140 [01:48<00:00,  1.29it/s]\n"
          ]
        },
        {
          "metadata": {
            "tags": null
          },
          "name": "stdout",
          "output_type": "stream",
          "text": [
            "step:113\n"
          ]
        },
        {
          "metadata": {
            "tags": null
          },
          "name": "stderr",
          "output_type": "stream",
          "text": [
            "Processing target columns: 100%|██████████| 140/140 [01:49<00:00,  1.28it/s]\n"
          ]
        },
        {
          "metadata": {
            "tags": null
          },
          "name": "stdout",
          "output_type": "stream",
          "text": [
            "step:114\n"
          ]
        },
        {
          "metadata": {
            "tags": null
          },
          "name": "stderr",
          "output_type": "stream",
          "text": [
            "Processing target columns: 100%|██████████| 140/140 [01:48<00:00,  1.29it/s]\n"
          ]
        },
        {
          "metadata": {
            "tags": null
          },
          "name": "stdout",
          "output_type": "stream",
          "text": [
            "step:115\n"
          ]
        },
        {
          "metadata": {
            "tags": null
          },
          "name": "stderr",
          "output_type": "stream",
          "text": [
            "Processing target columns: 100%|██████████| 140/140 [01:47<00:00,  1.30it/s]\n"
          ]
        },
        {
          "metadata": {
            "tags": null
          },
          "name": "stdout",
          "output_type": "stream",
          "text": [
            "step:116\n"
          ]
        },
        {
          "metadata": {
            "tags": null
          },
          "name": "stderr",
          "output_type": "stream",
          "text": [
            "Processing target columns: 100%|██████████| 140/140 [01:47<00:00,  1.31it/s]\n"
          ]
        },
        {
          "metadata": {
            "tags": null
          },
          "name": "stdout",
          "output_type": "stream",
          "text": [
            "step:117\n"
          ]
        },
        {
          "metadata": {
            "tags": null
          },
          "name": "stderr",
          "output_type": "stream",
          "text": [
            "Processing target columns: 100%|██████████| 140/140 [01:46<00:00,  1.31it/s]\n"
          ]
        },
        {
          "metadata": {
            "tags": null
          },
          "name": "stdout",
          "output_type": "stream",
          "text": [
            "step:118\n"
          ]
        },
        {
          "metadata": {
            "tags": null
          },
          "name": "stderr",
          "output_type": "stream",
          "text": [
            "Processing target columns: 100%|██████████| 140/140 [01:49<00:00,  1.28it/s]\n"
          ]
        },
        {
          "metadata": {
            "tags": null
          },
          "name": "stdout",
          "output_type": "stream",
          "text": [
            "step:119\n"
          ]
        },
        {
          "metadata": {
            "tags": null
          },
          "name": "stderr",
          "output_type": "stream",
          "text": [
            "Processing target columns: 100%|██████████| 140/140 [01:48<00:00,  1.28it/s]\n"
          ]
        },
        {
          "metadata": {
            "tags": null
          },
          "name": "stdout",
          "output_type": "stream",
          "text": [
            "step:120\n"
          ]
        },
        {
          "metadata": {
            "tags": null
          },
          "name": "stderr",
          "output_type": "stream",
          "text": [
            "Processing target columns: 100%|██████████| 140/140 [01:49<00:00,  1.28it/s]\n"
          ]
        },
        {
          "metadata": {
            "tags": null
          },
          "name": "stdout",
          "output_type": "stream",
          "text": [
            "step:121\n"
          ]
        },
        {
          "metadata": {
            "tags": null
          },
          "name": "stderr",
          "output_type": "stream",
          "text": [
            "Processing target columns: 100%|██████████| 140/140 [01:47<00:00,  1.30it/s]\n"
          ]
        },
        {
          "metadata": {
            "tags": null
          },
          "name": "stdout",
          "output_type": "stream",
          "text": [
            "step:122\n"
          ]
        },
        {
          "metadata": {
            "tags": null
          },
          "name": "stderr",
          "output_type": "stream",
          "text": [
            "Processing target columns: 100%|██████████| 140/140 [01:45<00:00,  1.33it/s]\n"
          ]
        },
        {
          "metadata": {
            "tags": null
          },
          "name": "stdout",
          "output_type": "stream",
          "text": [
            "step:123\n"
          ]
        },
        {
          "metadata": {
            "tags": null
          },
          "name": "stderr",
          "output_type": "stream",
          "text": [
            "Processing target columns: 100%|██████████| 140/140 [01:44<00:00,  1.34it/s]\n"
          ]
        },
        {
          "metadata": {
            "tags": null
          },
          "name": "stdout",
          "output_type": "stream",
          "text": [
            "step:124\n"
          ]
        },
        {
          "metadata": {
            "tags": null
          },
          "name": "stderr",
          "output_type": "stream",
          "text": [
            "Processing target columns: 100%|██████████| 140/140 [01:46<00:00,  1.31it/s]\n"
          ]
        },
        {
          "metadata": {
            "tags": null
          },
          "name": "stdout",
          "output_type": "stream",
          "text": [
            "step:125\n"
          ]
        },
        {
          "metadata": {
            "tags": null
          },
          "name": "stderr",
          "output_type": "stream",
          "text": [
            "Processing target columns: 100%|██████████| 140/140 [01:47<00:00,  1.30it/s]\n"
          ]
        },
        {
          "metadata": {
            "tags": null
          },
          "name": "stdout",
          "output_type": "stream",
          "text": [
            "step:126\n"
          ]
        },
        {
          "metadata": {
            "tags": null
          },
          "name": "stderr",
          "output_type": "stream",
          "text": [
            "Processing target columns: 100%|██████████| 140/140 [01:45<00:00,  1.33it/s]\n"
          ]
        },
        {
          "metadata": {
            "tags": null
          },
          "name": "stdout",
          "output_type": "stream",
          "text": [
            "step:127\n"
          ]
        },
        {
          "metadata": {
            "tags": null
          },
          "name": "stderr",
          "output_type": "stream",
          "text": [
            "Processing target columns: 100%|██████████| 140/140 [01:53<00:00,  1.23it/s]\n"
          ]
        },
        {
          "metadata": {
            "tags": null
          },
          "name": "stdout",
          "output_type": "stream",
          "text": [
            "step:128\n"
          ]
        },
        {
          "metadata": {
            "tags": null
          },
          "name": "stderr",
          "output_type": "stream",
          "text": [
            "Processing target columns: 100%|██████████| 140/140 [01:50<00:00,  1.26it/s]\n"
          ]
        },
        {
          "metadata": {
            "tags": null
          },
          "name": "stdout",
          "output_type": "stream",
          "text": [
            "step:129\n"
          ]
        },
        {
          "metadata": {
            "tags": null
          },
          "name": "stderr",
          "output_type": "stream",
          "text": [
            "Processing target columns: 100%|██████████| 140/140 [01:49<00:00,  1.28it/s]\n"
          ]
        },
        {
          "metadata": {
            "tags": null
          },
          "name": "stdout",
          "output_type": "stream",
          "text": [
            "step:130\n"
          ]
        },
        {
          "metadata": {
            "tags": null
          },
          "name": "stderr",
          "output_type": "stream",
          "text": [
            "Processing target columns: 100%|██████████| 140/140 [01:44<00:00,  1.34it/s]\n"
          ]
        },
        {
          "metadata": {
            "tags": null
          },
          "name": "stdout",
          "output_type": "stream",
          "text": [
            "step:131\n"
          ]
        },
        {
          "metadata": {
            "tags": null
          },
          "name": "stderr",
          "output_type": "stream",
          "text": [
            "Processing target columns: 100%|██████████| 140/140 [01:44<00:00,  1.34it/s]\n"
          ]
        },
        {
          "metadata": {
            "tags": null
          },
          "name": "stdout",
          "output_type": "stream",
          "text": [
            "step:132\n"
          ]
        },
        {
          "metadata": {
            "tags": null
          },
          "name": "stderr",
          "output_type": "stream",
          "text": [
            "Processing target columns: 100%|██████████| 140/140 [01:46<00:00,  1.32it/s]\n"
          ]
        },
        {
          "metadata": {
            "tags": null
          },
          "name": "stdout",
          "output_type": "stream",
          "text": [
            "step:133\n"
          ]
        },
        {
          "metadata": {
            "tags": null
          },
          "name": "stderr",
          "output_type": "stream",
          "text": [
            "Processing target columns: 100%|██████████| 140/140 [01:46<00:00,  1.32it/s]\n"
          ]
        },
        {
          "metadata": {
            "tags": null
          },
          "name": "stdout",
          "output_type": "stream",
          "text": [
            "step:134\n"
          ]
        },
        {
          "metadata": {
            "tags": null
          },
          "name": "stderr",
          "output_type": "stream",
          "text": [
            "Processing target columns: 100%|██████████| 140/140 [01:53<00:00,  1.24it/s]\n"
          ]
        },
        {
          "metadata": {
            "tags": null
          },
          "name": "stdout",
          "output_type": "stream",
          "text": [
            "step:135\n"
          ]
        },
        {
          "metadata": {
            "tags": null
          },
          "name": "stderr",
          "output_type": "stream",
          "text": [
            "Processing target columns: 100%|██████████| 140/140 [01:53<00:00,  1.23it/s]\n"
          ]
        },
        {
          "metadata": {
            "tags": null
          },
          "name": "stdout",
          "output_type": "stream",
          "text": [
            "step:136\n"
          ]
        },
        {
          "metadata": {
            "tags": null
          },
          "name": "stderr",
          "output_type": "stream",
          "text": [
            "Processing target columns: 100%|██████████| 140/140 [01:56<00:00,  1.20it/s]\n"
          ]
        },
        {
          "metadata": {
            "tags": null
          },
          "name": "stdout",
          "output_type": "stream",
          "text": [
            "step:137\n"
          ]
        },
        {
          "metadata": {
            "tags": null
          },
          "name": "stderr",
          "output_type": "stream",
          "text": [
            "Processing target columns: 100%|██████████| 140/140 [01:56<00:00,  1.20it/s]\n"
          ]
        },
        {
          "metadata": {
            "tags": null
          },
          "name": "stdout",
          "output_type": "stream",
          "text": [
            "step:138\n"
          ]
        },
        {
          "metadata": {
            "tags": null
          },
          "name": "stderr",
          "output_type": "stream",
          "text": [
            "Processing target columns: 100%|██████████| 140/140 [01:56<00:00,  1.21it/s]\n"
          ]
        },
        {
          "metadata": {
            "tags": null
          },
          "name": "stdout",
          "output_type": "stream",
          "text": [
            "step:139\n"
          ]
        },
        {
          "metadata": {
            "tags": null
          },
          "name": "stderr",
          "output_type": "stream",
          "text": [
            "Processing target columns: 100%|██████████| 140/140 [02:00<00:00,  1.16it/s]\n"
          ]
        },
        {
          "metadata": {
            "tags": null
          },
          "name": "stdout",
          "output_type": "stream",
          "text": [
            "step:140\n"
          ]
        },
        {
          "metadata": {
            "tags": null
          },
          "name": "stderr",
          "output_type": "stream",
          "text": [
            "Processing target columns: 100%|██████████| 140/140 [01:53<00:00,  1.24it/s]\n"
          ]
        },
        {
          "metadata": {
            "tags": null
          },
          "name": "stdout",
          "output_type": "stream",
          "text": [
            "step:141\n"
          ]
        },
        {
          "metadata": {
            "tags": null
          },
          "name": "stderr",
          "output_type": "stream",
          "text": [
            "Processing target columns: 100%|██████████| 140/140 [01:53<00:00,  1.23it/s]\n"
          ]
        },
        {
          "metadata": {
            "tags": null
          },
          "name": "stdout",
          "output_type": "stream",
          "text": [
            "step:142\n"
          ]
        },
        {
          "metadata": {
            "tags": null
          },
          "name": "stderr",
          "output_type": "stream",
          "text": [
            "Processing target columns: 100%|██████████| 140/140 [01:51<00:00,  1.25it/s]\n"
          ]
        },
        {
          "metadata": {
            "tags": null
          },
          "name": "stdout",
          "output_type": "stream",
          "text": [
            "step:143\n"
          ]
        },
        {
          "output_type": "stream",
          "name": "stderr",
          "text": [
            "Processing target columns: 100%|██████████| 140/140 [01:53<00:00,  1.23it/s]\n"
          ]
        },
        {
          "output_type": "stream",
          "name": "stdout",
          "text": [
            "step:144\n"
          ]
        },
        {
          "output_type": "stream",
          "name": "stderr",
          "text": [
            "Processing target columns: 100%|██████████| 140/140 [01:51<00:00,  1.26it/s]\n"
          ]
        },
        {
          "output_type": "stream",
          "name": "stdout",
          "text": [
            "step:145\n"
          ]
        },
        {
          "output_type": "stream",
          "name": "stderr",
          "text": [
            "Processing target columns: 100%|██████████| 140/140 [01:52<00:00,  1.25it/s]\n"
          ]
        },
        {
          "output_type": "stream",
          "name": "stdout",
          "text": [
            "step:146\n"
          ]
        },
        {
          "output_type": "stream",
          "name": "stderr",
          "text": [
            "Processing target columns: 100%|██████████| 140/140 [01:52<00:00,  1.24it/s]\n"
          ]
        },
        {
          "output_type": "stream",
          "name": "stdout",
          "text": [
            "step:147\n"
          ]
        },
        {
          "output_type": "stream",
          "name": "stderr",
          "text": [
            "Processing target columns: 100%|██████████| 140/140 [01:51<00:00,  1.25it/s]\n"
          ]
        },
        {
          "output_type": "stream",
          "name": "stdout",
          "text": [
            "step:148\n"
          ]
        },
        {
          "output_type": "stream",
          "name": "stderr",
          "text": [
            "Processing target columns: 100%|██████████| 140/140 [01:52<00:00,  1.25it/s]\n"
          ]
        },
        {
          "output_type": "stream",
          "name": "stdout",
          "text": [
            "step:149\n"
          ]
        },
        {
          "output_type": "stream",
          "name": "stderr",
          "text": [
            "Processing target columns: 100%|██████████| 140/140 [01:46<00:00,  1.31it/s]\n"
          ]
        },
        {
          "output_type": "stream",
          "name": "stdout",
          "text": [
            "step:150\n"
          ]
        },
        {
          "output_type": "stream",
          "name": "stderr",
          "text": [
            "Processing target columns: 100%|██████████| 140/140 [01:47<00:00,  1.30it/s]\n"
          ]
        },
        {
          "output_type": "stream",
          "name": "stdout",
          "text": [
            "step:151\n"
          ]
        },
        {
          "output_type": "stream",
          "name": "stderr",
          "text": [
            "Processing target columns: 100%|██████████| 140/140 [01:45<00:00,  1.33it/s]\n"
          ]
        },
        {
          "output_type": "stream",
          "name": "stdout",
          "text": [
            "step:152\n"
          ]
        },
        {
          "output_type": "stream",
          "name": "stderr",
          "text": [
            "Processing target columns: 100%|██████████| 140/140 [01:51<00:00,  1.26it/s]\n"
          ]
        },
        {
          "output_type": "stream",
          "name": "stdout",
          "text": [
            "step:153\n"
          ]
        },
        {
          "output_type": "stream",
          "name": "stderr",
          "text": [
            "Processing target columns: 100%|██████████| 140/140 [01:53<00:00,  1.23it/s]\n"
          ]
        },
        {
          "output_type": "stream",
          "name": "stdout",
          "text": [
            "step:154\n"
          ]
        },
        {
          "output_type": "stream",
          "name": "stderr",
          "text": [
            "Processing target columns: 100%|██████████| 140/140 [01:53<00:00,  1.23it/s]\n"
          ]
        },
        {
          "output_type": "stream",
          "name": "stdout",
          "text": [
            "step:155\n"
          ]
        },
        {
          "output_type": "stream",
          "name": "stderr",
          "text": [
            "Processing target columns: 100%|██████████| 140/140 [01:52<00:00,  1.24it/s]\n"
          ]
        },
        {
          "output_type": "stream",
          "name": "stdout",
          "text": [
            "step:156\n"
          ]
        },
        {
          "output_type": "stream",
          "name": "stderr",
          "text": [
            "Processing target columns: 100%|██████████| 140/140 [01:48<00:00,  1.29it/s]\n"
          ]
        },
        {
          "output_type": "stream",
          "name": "stdout",
          "text": [
            "step:157\n"
          ]
        },
        {
          "output_type": "stream",
          "name": "stderr",
          "text": [
            "Processing target columns: 100%|██████████| 140/140 [01:55<00:00,  1.21it/s]\n"
          ]
        },
        {
          "output_type": "stream",
          "name": "stdout",
          "text": [
            "step:158\n"
          ]
        },
        {
          "output_type": "stream",
          "name": "stderr",
          "text": [
            "Processing target columns: 100%|██████████| 140/140 [01:58<00:00,  1.18it/s]\n"
          ]
        },
        {
          "output_type": "stream",
          "name": "stdout",
          "text": [
            "step:159\n"
          ]
        },
        {
          "output_type": "stream",
          "name": "stderr",
          "text": [
            "Processing target columns: 100%|██████████| 140/140 [01:49<00:00,  1.28it/s]\n"
          ]
        },
        {
          "output_type": "stream",
          "name": "stdout",
          "text": [
            "step:160\n"
          ]
        },
        {
          "output_type": "stream",
          "name": "stderr",
          "text": [
            "Processing target columns: 100%|██████████| 140/140 [01:52<00:00,  1.24it/s]\n"
          ]
        },
        {
          "output_type": "stream",
          "name": "stdout",
          "text": [
            "step:161\n"
          ]
        },
        {
          "output_type": "stream",
          "name": "stderr",
          "text": [
            "Processing target columns: 100%|██████████| 140/140 [01:49<00:00,  1.28it/s]\n"
          ]
        },
        {
          "output_type": "stream",
          "name": "stdout",
          "text": [
            "step:162\n"
          ]
        },
        {
          "output_type": "stream",
          "name": "stderr",
          "text": [
            "Processing target columns: 100%|██████████| 140/140 [01:47<00:00,  1.30it/s]\n"
          ]
        },
        {
          "output_type": "stream",
          "name": "stdout",
          "text": [
            "step:163\n"
          ]
        },
        {
          "output_type": "stream",
          "name": "stderr",
          "text": [
            "Processing target columns: 100%|██████████| 140/140 [01:46<00:00,  1.32it/s]\n"
          ]
        },
        {
          "output_type": "stream",
          "name": "stdout",
          "text": [
            "step:164\n"
          ]
        },
        {
          "output_type": "stream",
          "name": "stderr",
          "text": [
            "Processing target columns: 100%|██████████| 140/140 [01:51<00:00,  1.26it/s]\n"
          ]
        },
        {
          "output_type": "stream",
          "name": "stdout",
          "text": [
            "step:165\n"
          ]
        },
        {
          "output_type": "stream",
          "name": "stderr",
          "text": [
            "Processing target columns: 100%|██████████| 140/140 [02:04<00:00,  1.12it/s]\n"
          ]
        },
        {
          "output_type": "stream",
          "name": "stdout",
          "text": [
            "step:166\n"
          ]
        },
        {
          "output_type": "stream",
          "name": "stderr",
          "text": [
            "Processing target columns: 100%|██████████| 140/140 [01:59<00:00,  1.17it/s]\n"
          ]
        },
        {
          "output_type": "stream",
          "name": "stdout",
          "text": [
            "step:167\n"
          ]
        },
        {
          "output_type": "stream",
          "name": "stderr",
          "text": [
            "Processing target columns: 100%|██████████| 140/140 [01:52<00:00,  1.24it/s]\n"
          ]
        },
        {
          "output_type": "stream",
          "name": "stdout",
          "text": [
            "step:168\n"
          ]
        },
        {
          "output_type": "stream",
          "name": "stderr",
          "text": [
            "Processing target columns: 100%|██████████| 140/140 [01:54<00:00,  1.23it/s]\n"
          ]
        },
        {
          "output_type": "stream",
          "name": "stdout",
          "text": [
            "step:169\n"
          ]
        },
        {
          "output_type": "stream",
          "name": "stderr",
          "text": [
            "Processing target columns: 100%|██████████| 140/140 [01:48<00:00,  1.28it/s]\n"
          ]
        },
        {
          "output_type": "stream",
          "name": "stdout",
          "text": [
            "step:170\n"
          ]
        },
        {
          "output_type": "stream",
          "name": "stderr",
          "text": [
            "Processing target columns: 100%|██████████| 140/140 [01:50<00:00,  1.27it/s]\n"
          ]
        },
        {
          "output_type": "stream",
          "name": "stdout",
          "text": [
            "step:171\n"
          ]
        },
        {
          "output_type": "stream",
          "name": "stderr",
          "text": [
            "Processing target columns: 100%|██████████| 140/140 [01:47<00:00,  1.31it/s]\n"
          ]
        },
        {
          "output_type": "stream",
          "name": "stdout",
          "text": [
            "step:172\n"
          ]
        },
        {
          "output_type": "stream",
          "name": "stderr",
          "text": [
            "Processing target columns: 100%|██████████| 140/140 [01:49<00:00,  1.27it/s]\n"
          ]
        },
        {
          "output_type": "stream",
          "name": "stdout",
          "text": [
            "step:173\n"
          ]
        },
        {
          "output_type": "stream",
          "name": "stderr",
          "text": [
            "Processing target columns: 100%|██████████| 140/140 [01:50<00:00,  1.27it/s]\n"
          ]
        },
        {
          "output_type": "stream",
          "name": "stdout",
          "text": [
            "step:174\n"
          ]
        },
        {
          "output_type": "stream",
          "name": "stderr",
          "text": [
            "Processing target columns: 100%|██████████| 140/140 [01:46<00:00,  1.31it/s]\n"
          ]
        },
        {
          "output_type": "stream",
          "name": "stdout",
          "text": [
            "step:175\n"
          ]
        },
        {
          "output_type": "stream",
          "name": "stderr",
          "text": [
            "Processing target columns: 100%|██████████| 140/140 [01:49<00:00,  1.28it/s]\n"
          ]
        },
        {
          "output_type": "stream",
          "name": "stdout",
          "text": [
            "step:176\n"
          ]
        },
        {
          "output_type": "stream",
          "name": "stderr",
          "text": [
            "Processing target columns: 100%|██████████| 140/140 [01:46<00:00,  1.31it/s]\n"
          ]
        },
        {
          "output_type": "stream",
          "name": "stdout",
          "text": [
            "step:177\n"
          ]
        },
        {
          "output_type": "stream",
          "name": "stderr",
          "text": [
            "Processing target columns: 100%|██████████| 140/140 [01:49<00:00,  1.28it/s]\n"
          ]
        },
        {
          "output_type": "stream",
          "name": "stdout",
          "text": [
            "step:178\n"
          ]
        },
        {
          "output_type": "stream",
          "name": "stderr",
          "text": [
            "Processing target columns: 100%|██████████| 140/140 [01:48<00:00,  1.30it/s]\n"
          ]
        },
        {
          "output_type": "stream",
          "name": "stdout",
          "text": [
            "step:179\n"
          ]
        },
        {
          "output_type": "stream",
          "name": "stderr",
          "text": [
            "Processing target columns: 100%|██████████| 140/140 [01:47<00:00,  1.30it/s]\n"
          ]
        },
        {
          "output_type": "stream",
          "name": "stdout",
          "text": [
            "step:180\n"
          ]
        },
        {
          "output_type": "stream",
          "name": "stderr",
          "text": [
            "Processing target columns: 100%|██████████| 140/140 [01:47<00:00,  1.30it/s]\n"
          ]
        },
        {
          "output_type": "stream",
          "name": "stdout",
          "text": [
            "step:181\n"
          ]
        },
        {
          "output_type": "stream",
          "name": "stderr",
          "text": [
            "Processing target columns: 100%|██████████| 140/140 [01:50<00:00,  1.27it/s]\n"
          ]
        },
        {
          "output_type": "stream",
          "name": "stdout",
          "text": [
            "step:182\n"
          ]
        },
        {
          "output_type": "stream",
          "name": "stderr",
          "text": [
            "Processing target columns: 100%|██████████| 140/140 [01:47<00:00,  1.30it/s]\n"
          ]
        },
        {
          "output_type": "stream",
          "name": "stdout",
          "text": [
            "step:183\n"
          ]
        },
        {
          "output_type": "stream",
          "name": "stderr",
          "text": [
            "Processing target columns: 100%|██████████| 140/140 [01:47<00:00,  1.30it/s]\n"
          ]
        },
        {
          "output_type": "stream",
          "name": "stdout",
          "text": [
            "step:184\n"
          ]
        },
        {
          "output_type": "stream",
          "name": "stderr",
          "text": [
            "Processing target columns: 100%|██████████| 140/140 [01:46<00:00,  1.32it/s]\n"
          ]
        },
        {
          "output_type": "stream",
          "name": "stdout",
          "text": [
            "step:185\n"
          ]
        },
        {
          "output_type": "stream",
          "name": "stderr",
          "text": [
            "Processing target columns: 100%|██████████| 140/140 [01:46<00:00,  1.31it/s]\n"
          ]
        },
        {
          "output_type": "stream",
          "name": "stdout",
          "text": [
            "step:186\n"
          ]
        },
        {
          "output_type": "stream",
          "name": "stderr",
          "text": [
            "Processing target columns: 100%|██████████| 140/140 [01:45<00:00,  1.33it/s]\n"
          ]
        },
        {
          "output_type": "stream",
          "name": "stdout",
          "text": [
            "step:187\n"
          ]
        },
        {
          "output_type": "stream",
          "name": "stderr",
          "text": [
            "Processing target columns: 100%|██████████| 140/140 [01:44<00:00,  1.34it/s]\n"
          ]
        },
        {
          "output_type": "stream",
          "name": "stdout",
          "text": [
            "step:188\n"
          ]
        },
        {
          "output_type": "stream",
          "name": "stderr",
          "text": [
            "Processing target columns: 100%|██████████| 140/140 [01:49<00:00,  1.28it/s]\n"
          ]
        },
        {
          "output_type": "stream",
          "name": "stdout",
          "text": [
            "step:189\n"
          ]
        },
        {
          "output_type": "stream",
          "name": "stderr",
          "text": [
            "Processing target columns: 100%|██████████| 140/140 [01:49<00:00,  1.28it/s]\n"
          ]
        },
        {
          "output_type": "stream",
          "name": "stdout",
          "text": [
            "step:190\n"
          ]
        },
        {
          "output_type": "stream",
          "name": "stderr",
          "text": [
            "Processing target columns: 100%|██████████| 140/140 [01:50<00:00,  1.27it/s]\n"
          ]
        },
        {
          "output_type": "stream",
          "name": "stdout",
          "text": [
            "step:191\n"
          ]
        },
        {
          "output_type": "stream",
          "name": "stderr",
          "text": [
            "Processing target columns: 100%|██████████| 140/140 [01:47<00:00,  1.31it/s]\n"
          ]
        },
        {
          "output_type": "stream",
          "name": "stdout",
          "text": [
            "step:192\n"
          ]
        },
        {
          "output_type": "stream",
          "name": "stderr",
          "text": [
            "Processing target columns: 100%|██████████| 140/140 [01:49<00:00,  1.28it/s]\n"
          ]
        },
        {
          "output_type": "stream",
          "name": "stdout",
          "text": [
            "step:193\n"
          ]
        },
        {
          "output_type": "stream",
          "name": "stderr",
          "text": [
            "Processing target columns: 100%|██████████| 140/140 [01:45<00:00,  1.33it/s]\n"
          ]
        },
        {
          "output_type": "stream",
          "name": "stdout",
          "text": [
            "step:194\n"
          ]
        },
        {
          "output_type": "stream",
          "name": "stderr",
          "text": [
            "Processing target columns: 100%|██████████| 140/140 [01:50<00:00,  1.27it/s]\n"
          ]
        },
        {
          "output_type": "stream",
          "name": "stdout",
          "text": [
            "step:195\n"
          ]
        },
        {
          "output_type": "stream",
          "name": "stderr",
          "text": [
            "Processing target columns: 100%|██████████| 140/140 [01:49<00:00,  1.28it/s]\n"
          ]
        },
        {
          "output_type": "stream",
          "name": "stdout",
          "text": [
            "step:196\n"
          ]
        },
        {
          "output_type": "stream",
          "name": "stderr",
          "text": [
            "Processing target columns: 100%|██████████| 140/140 [01:48<00:00,  1.29it/s]\n"
          ]
        },
        {
          "output_type": "stream",
          "name": "stdout",
          "text": [
            "step:197\n"
          ]
        },
        {
          "output_type": "stream",
          "name": "stderr",
          "text": [
            "Processing target columns: 100%|██████████| 140/140 [01:50<00:00,  1.26it/s]\n"
          ]
        },
        {
          "output_type": "stream",
          "name": "stdout",
          "text": [
            "step:198\n"
          ]
        },
        {
          "output_type": "stream",
          "name": "stderr",
          "text": [
            "Processing target columns: 100%|██████████| 140/140 [01:53<00:00,  1.23it/s]\n"
          ]
        },
        {
          "output_type": "stream",
          "name": "stdout",
          "text": [
            "step:199\n"
          ]
        },
        {
          "output_type": "stream",
          "name": "stderr",
          "text": [
            "Processing target columns: 100%|██████████| 140/140 [01:50<00:00,  1.26it/s]\n"
          ]
        },
        {
          "output_type": "stream",
          "name": "stdout",
          "text": [
            "step:200\n"
          ]
        },
        {
          "output_type": "stream",
          "name": "stderr",
          "text": [
            "Processing target columns: 100%|██████████| 140/140 [01:52<00:00,  1.25it/s]\n"
          ]
        },
        {
          "output_type": "stream",
          "name": "stdout",
          "text": [
            "step:201\n"
          ]
        },
        {
          "output_type": "stream",
          "name": "stderr",
          "text": [
            "Processing target columns: 100%|██████████| 140/140 [01:49<00:00,  1.27it/s]\n"
          ]
        },
        {
          "output_type": "stream",
          "name": "stdout",
          "text": [
            "step:202\n"
          ]
        },
        {
          "output_type": "stream",
          "name": "stderr",
          "text": [
            "Processing target columns: 100%|██████████| 140/140 [01:52<00:00,  1.25it/s]\n"
          ]
        },
        {
          "output_type": "stream",
          "name": "stdout",
          "text": [
            "step:203\n"
          ]
        },
        {
          "output_type": "stream",
          "name": "stderr",
          "text": [
            "Processing target columns: 100%|██████████| 140/140 [01:51<00:00,  1.26it/s]\n"
          ]
        },
        {
          "output_type": "stream",
          "name": "stdout",
          "text": [
            "step:204\n"
          ]
        },
        {
          "output_type": "stream",
          "name": "stderr",
          "text": [
            "Processing target columns: 100%|██████████| 140/140 [01:53<00:00,  1.24it/s]\n"
          ]
        },
        {
          "output_type": "stream",
          "name": "stdout",
          "text": [
            "step:205\n"
          ]
        },
        {
          "output_type": "stream",
          "name": "stderr",
          "text": [
            "Processing target columns: 100%|██████████| 140/140 [01:51<00:00,  1.25it/s]\n"
          ]
        },
        {
          "output_type": "stream",
          "name": "stdout",
          "text": [
            "step:206\n"
          ]
        },
        {
          "output_type": "stream",
          "name": "stderr",
          "text": [
            "Processing target columns: 100%|██████████| 140/140 [01:49<00:00,  1.28it/s]\n"
          ]
        },
        {
          "output_type": "stream",
          "name": "stdout",
          "text": [
            "step:207\n"
          ]
        },
        {
          "output_type": "stream",
          "name": "stderr",
          "text": [
            "Processing target columns: 100%|██████████| 140/140 [01:50<00:00,  1.26it/s]\n"
          ]
        },
        {
          "output_type": "stream",
          "name": "stdout",
          "text": [
            "step:208\n"
          ]
        }
      ],
      "source": [
        "interlayer_time_df = []\n",
        "k = 0\n",
        "\n",
        "for window_price, window_return in zip(rolling_window_on_data(df_sp500_price.iloc[1:]), rolling_window_on_data(df_sp500_return)):\n",
        "  # print(window_price.index.min(), window_price.index.max())\n",
        "  # print(window_return.index.min(), window_return.index.max())\n",
        "\n",
        "  if k>=71 and k<=300:\n",
        "\n",
        "    window_price.columns = [col + '_price' for col in window_price.columns]\n",
        "    window_return.columns = [col + '_return' for col in window_return.columns]\n",
        "\n",
        "\n",
        "    # sample_result = build_weighted_adjacency_matrix_rf(window_price[window_price.columns[0:20]], \\\n",
        "    #                                             window_return[window_return.columns[0:20]], \\\n",
        "    #                                             lag=1, \\\n",
        "    #                                             n_estimators=100, \\\n",
        "    #                                             random_state=42)\n",
        "\n",
        "    result = build_weighted_adjacency_matrix_rf(window_return[window_return.columns], \\\n",
        "                                            window_price[window_price.columns], \\\n",
        "                                            lag=1, \\\n",
        "                                            n_estimators=100, \\\n",
        "                                            random_state=39)\n",
        "\n",
        "    interlayer_time_df.append(result)\n",
        "\n",
        "    print(f\"step:{k}\")\n",
        "\n",
        "    if k%5 == 0:\n",
        "      with open(f'/content/drive/MyDrive/data_Multilayer spillover with ML/layers/interlayer12/interlayer12_s_price_t_return_{k}_times_evolution.pkl', 'wb') as f:\n",
        "        pickle.dump(interlayer_time_df, f)\n",
        "\n",
        "\n",
        "\n",
        "  k = k+1\n",
        "\n",
        "\n",
        "\n",
        "\n",
        "\n",
        "\n",
        "# for layer_time_df in build_weighted_adjacency_matrix_rf(target_df, feature_df, lag=1, n_estimators=100, random_state=42, n_jobs=-1):\n",
        "\n",
        "#   print(layer_time_df)\n",
        "#   time.sleep(10)\n",
        "#   print(layer_time_df.index.min(), layer_time_df.index.max())\n",
        "\n",
        "# df_sp500_price"
      ]
    },
    {
      "cell_type": "code",
      "source": [
        "k"
      ],
      "metadata": {
        "colab": {
          "base_uri": "https://localhost:8080/"
        },
        "id": "40IDVONLHzOV",
        "outputId": "8cc097f9-f530-4b3a-810b-7d93a073824d"
      },
      "execution_count": 18,
      "outputs": [
        {
          "output_type": "execute_result",
          "data": {
            "text/plain": [
              "209"
            ]
          },
          "metadata": {},
          "execution_count": 18
        }
      ]
    },
    {
      "cell_type": "code",
      "source": [
        "with open(f'/content/drive/MyDrive/data_Multilayer spillover with ML/layers/interlayer12/interlayer12_s_price_t_return_{k}_times_evolution.pkl', 'wb') as f:\n",
        "  pickle.dump(interlayer_time_df, f)"
      ],
      "metadata": {
        "id": "vRjcUMTPHw79"
      },
      "execution_count": 19,
      "outputs": []
    },
    {
      "cell_type": "code",
      "execution_count": null,
      "metadata": {
        "id": "BYaGQW3CoFh3"
      },
      "outputs": [],
      "source": [
        "len(interlayer_time_df)\n",
        "\n",
        "interlayer_time_df[0]"
      ]
    },
    {
      "cell_type": "code",
      "execution_count": null,
      "metadata": {
        "colab": {
          "base_uri": "https://localhost:8080/",
          "height": 593
        },
        "id": "dEtveoDVjDt2",
        "outputId": "eca5f67d-2630-4b97-dbd5-14dc28680695"
      },
      "outputs": [
        {
          "name": "stdout",
          "output_type": "stream",
          "text": [
            "number of relation 19600\n"
          ]
        },
        {
          "data": {
            "text/plain": [
              "(array([1.7846e+04, 1.1780e+03, 2.9800e+02, 1.3400e+02, 5.6000e+01,\n",
              "        3.7000e+01, 2.8000e+01, 9.0000e+00, 7.0000e+00, 4.0000e+00,\n",
              "        2.0000e+00, 1.0000e+00]),\n",
              " array([7.90670696e-05, 1.48635177e-02, 2.96479684e-02, 4.44324190e-02,\n",
              "        5.92168697e-02, 7.40013203e-02, 8.87857710e-02, 1.03570222e-01,\n",
              "        1.18354672e-01, 1.33139123e-01, 1.47923574e-01, 1.62708024e-01,\n",
              "        1.77492475e-01]),\n",
              " <BarContainer object of 12 artists>)"
            ]
          },
          "execution_count": 29,
          "metadata": {},
          "output_type": "execute_result"
        },
        {
          "data": {
            "image/png": "[encoded data removed]",
            "text/plain": [
              "<Figure size 640x480 with 1 Axes>"
            ]
          },
          "metadata": {},
          "output_type": "display_data"
        }
      ],
      "source": [
        "llll = interlayer_time_df[3].to_numpy().flatten()\n",
        "\n",
        "\n",
        "print(f\"number of relation {len(llll)}\")\n",
        "plt.hist(llll, bins=12)"
      ]
    },
    {
      "cell_type": "code",
      "execution_count": null,
      "metadata": {
        "colab": {
          "base_uri": "https://localhost:8080/",
          "height": 486
        },
        "id": "9OMBCmMx2S9R",
        "outputId": "2c48f706-1a71-4928-b24c-a4d59936b786"
      },
      "outputs": [
        {
          "data": {
            "image/png": "[encoded data removed]",
            "text/plain": [
              "<Figure size 640x480 with 2 Axes>"
            ]
          },
          "metadata": {},
          "output_type": "display_data"
        }
      ],
      "source": [
        "\n",
        "plt.imshow(interlayer_time_df[3], cmap='Spectral', interpolation='none')\n",
        "plt.colorbar(label='Relation Coefficent')\n",
        "plt.title(\"Relation between trading values and prices \\n Random Forest regression for sp500 - 140 Securities\")\n",
        "\n",
        "# Show the plot\n",
        "plt.tight_layout()"
      ]
    },
    {
      "cell_type": "code",
      "execution_count": null,
      "metadata": {
        "id": "xpXjPqOhvODk"
      },
      "outputs": [],
      "source": [
        "df_sp500_tradingval.columns = [col + '_tradingval' for col in df_sp500_tradingval.columns]\n",
        "df_sp500_price.columns = [col + '_price' for col in df_sp500_price.columns]\n",
        "\n",
        "\n",
        "# result = build_weighted_adjacency_matrix_rf(df_sp500_price[df_sp500_price.columns[0:100]], \\\n",
        "#                                             df_sp500_tradingval[df_sp500_tradingval.columns[0:100]], \\\n",
        "#                                             lag=1, \\\n",
        "#                                             n_estimators=100, \\\n",
        "#                                             random_state=42)"
      ]
    },
    {
      "cell_type": "code",
      "execution_count": null,
      "metadata": {
        "id": "iO7LsTj5oWyi"
      },
      "outputs": [],
      "source": [
        "# with open('/content/drive/MyDrive/data_Multilayer spillover with ML/result_target_0_100_feature_0_100.pkl', 'wb') as f:\n",
        "#     pickle.dump(result, f)\n",
        "\n",
        "with open('/content/drive/MyDrive/data_Multilayer spillover with ML/result_target_0_100_feature_0_100.pkl', 'rb') as file:\n",
        "    result = pickle.load(file)"
      ]
    },
    {
      "cell_type": "code",
      "execution_count": null,
      "metadata": {
        "id": "_pkEgb6hvcYd"
      },
      "outputs": [],
      "source": [
        "# df_temp11 = result.to_numpy().flatten()\n",
        "# print(f\"number of connection: {len(df_temp11[df_temp11>0.5])}\")\n",
        "\n",
        "# # Condition: find indices of values greater than 30\n",
        "# indices = [index for index, value in enumerate(df_temp11) if value > 0.5]\n",
        "\n",
        "# print(indices)\n",
        "\n",
        "# plt.hist(df_temp11,bins=100)\n",
        "# plt.show()"
      ]
    },
    {
      "cell_type": "code",
      "execution_count": null,
      "metadata": {
        "id": "BjYHkof-vlva"
      },
      "outputs": [],
      "source": [
        "# result.idxmax(axis=1).drop_duplicates()"
      ]
    },
    {
      "cell_type": "code",
      "execution_count": null,
      "metadata": {
        "id": "Of8S1Q0HoTRT"
      },
      "outputs": [],
      "source": [
        "# result['AMZN_tradingval']"
      ]
    },
    {
      "cell_type": "code",
      "execution_count": null,
      "metadata": {
        "id": "IN_gOYrbrDfS"
      },
      "outputs": [],
      "source": [
        "# result_part2 = build_weighted_adjacency_matrix_rf(df_sp500_price[df_sp500_price.columns[0:100]], \\\n",
        "#                                             df_sp500_tradingval[df_sp500_tradingval.columns[100:]], \\\n",
        "#                                             lag=1, \\\n",
        "#                                             n_estimators=100, \\\n",
        "#                                             random_state=42)"
      ]
    },
    {
      "cell_type": "code",
      "execution_count": null,
      "metadata": {
        "id": "PpX-xSYV2_DL"
      },
      "outputs": [],
      "source": [
        "# with open('/content/drive/MyDrive/data_Multilayer spillover with ML/result_target_0_100_feature_100_last.pkl', 'wb') as f:\n",
        "#     pickle.dump(result_part2, f)\n",
        "\n",
        "with open('/content/drive/MyDrive/data_Multilayer spillover with ML/result_target_0_100_feature_100_last.pkl', 'rb') as file:\n",
        "    result_part2 = pickle.load(file)\n",
        "\n"
      ]
    },
    {
      "cell_type": "code",
      "execution_count": null,
      "metadata": {
        "id": "x2ptveWKC9Yd"
      },
      "outputs": [],
      "source": [
        "# result_part2"
      ]
    },
    {
      "cell_type": "code",
      "execution_count": null,
      "metadata": {
        "id": "-KVj5ZojDA3E"
      },
      "outputs": [],
      "source": [
        "# result_part2.idxmax(axis=1)"
      ]
    },
    {
      "cell_type": "code",
      "execution_count": null,
      "metadata": {
        "id": "NABT2i9oDFjU"
      },
      "outputs": [],
      "source": [
        "# result_part2.idxmax(axis=1).drop_duplicates()"
      ]
    },
    {
      "cell_type": "code",
      "execution_count": null,
      "metadata": {
        "id": "3x-Zw3H-Fvck"
      },
      "outputs": [],
      "source": [
        "# result_part3 = build_weighted_adjacency_matrix_rf(df_sp500_price[df_sp500_price.columns[100:]], \\\n",
        "#                                             df_sp500_tradingval[df_sp500_tradingval.columns], \\\n",
        "#                                             lag=1, \\\n",
        "#                                             n_estimators=100, \\\n",
        "#                                             random_state=42)"
      ]
    },
    {
      "cell_type": "code",
      "execution_count": null,
      "metadata": {
        "id": "-sbVLtjwGXHk"
      },
      "outputs": [],
      "source": [
        "# with open('/content/drive/MyDrive/data_Multilayer spillover with ML/result_target_100_last_feature_0_last.pkl', 'wb') as f:\n",
        "#     pickle.dump(result_part3, f)\n",
        "\n",
        "with open('/content/drive/MyDrive/data_Multilayer spillover with ML/result_target_100_last_feature_0_last.pkl', 'rb') as file:\n",
        "    result_part3 = pickle.load(file)"
      ]
    },
    {
      "cell_type": "code",
      "execution_count": null,
      "metadata": {
        "id": "BgkN7U5LQL2-"
      },
      "outputs": [],
      "source": [
        "# result_part3"
      ]
    },
    {
      "cell_type": "code",
      "execution_count": null,
      "metadata": {
        "id": "jy9nQYqYQrk1"
      },
      "outputs": [],
      "source": [
        "# result_part3.idxmax(axis=1).drop_duplicates()"
      ]
    },
    {
      "cell_type": "code",
      "execution_count": null,
      "metadata": {
        "id": "TmwuW8Z8RpK1"
      },
      "outputs": [],
      "source": [
        "# result_part3.to_numpy.flatten()"
      ]
    },
    {
      "cell_type": "code",
      "execution_count": null,
      "metadata": {
        "id": "X66o6eKPPiit"
      },
      "outputs": [],
      "source": [
        "result_part2.columns\n",
        "temp111 = pd.concat([result,result_part2],axis=1)"
      ]
    },
    {
      "cell_type": "code",
      "execution_count": null,
      "metadata": {
        "id": "bRtH8-ycQEXt"
      },
      "outputs": [],
      "source": [
        "complete_result = pd.concat([temp111,result_part3], axis=0)"
      ]
    },
    {
      "cell_type": "code",
      "execution_count": null,
      "metadata": {
        "id": "pnoIr8BdskS0"
      },
      "outputs": [],
      "source": [
        "# with open('/content/drive/MyDrive/data_Multilayer spillover with ML/complete_result_time_0_10.pkl', 'wb') as f:\n",
        "#     pickle.dump(complete_result, f)\n",
        "\n",
        "with open('/content/drive/MyDrive/data_Multilayer spillover with ML/complete_result_time_0_10.pkl', 'rb') as file:\n",
        "    complete_result = pickle.load(file)"
      ]
    },
    {
      "cell_type": "code",
      "execution_count": null,
      "metadata": {
        "colab": {
          "base_uri": "https://localhost:8080/",
          "height": 486
        },
        "id": "dmGqzbJ5QKJ0",
        "outputId": "0315c152-39f2-4aaf-f4c3-c4826b571d28"
      },
      "outputs": [
        {
          "data": {
            "image/png": "[encoded data removed]",
            "text/plain": [
              "<Figure size 640x480 with 2 Axes>"
            ]
          },
          "metadata": {},
          "output_type": "display_data"
        }
      ],
      "source": [
        "complete_result\n",
        "plt.imshow(complete_result, cmap='Spectral', interpolation='none')\n",
        "plt.colorbar(label='Relation Coefficent')\n",
        "plt.title(\"Relation between trading values and prices \\n Random Forest regression for sp500 - 140 Securities\")\n",
        "\n",
        "# Show the plot\n",
        "plt.tight_layout()"
      ]
    },
    {
      "cell_type": "code",
      "execution_count": null,
      "metadata": {
        "id": "UQ0ZJI9VkxDx"
      },
      "outputs": [],
      "source": []
    }
  ],
  "metadata": {
    "colab": {
      "provenance": []
    },
    "kernelspec": {
      "display_name": "Python 3",
      "name": "python3"
    },
    "language_info": {
      "name": "python"
    }
  },
  "nbformat": 4,
  "nbformat_minor": 0
}